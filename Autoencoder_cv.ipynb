{
  "cells": [
    {
      "cell_type": "markdown",
      "metadata": {
        "id": "view-in-github",
        "colab_type": "text"
      },
      "source": [
        "<a href=\"https://colab.research.google.com/github/zSoftwareRepository/MDS-561-46-22SU/blob/main/Autoencoder_cv.ipynb\" target=\"_parent\"><img src=\"https://colab.research.google.com/assets/colab-badge.svg\" alt=\"Open In Colab\"/></a>"
      ]
    },
    {
      "cell_type": "code",
      "execution_count": 64,
      "id": "4ce0c4ea",
      "metadata": {
        "id": "4ce0c4ea"
      },
      "outputs": [],
      "source": [
        "seed = 23\n",
        "\n",
        "import numpy as np\n",
        "np.random.seed(seed)\n",
        "\n",
        "from tensorflow.keras.utils import set_random_seed \n",
        "set_random_seed(seed)\n",
        "\n",
        "import pandas as pd\n",
        "\n",
        "import warnings\n",
        "warnings.filterwarnings(\"ignore\")\n",
        "\n",
        "from sklearn.metrics import accuracy_score, confusion_matrix\n",
        "from sklearn.model_selection import train_test_split\n",
        "from sklearn.feature_selection import SelectFromModel\n",
        "from sklearn.preprocessing import MinMaxScaler\n",
        "from sklearn.model_selection import KFold\n",
        "from sklearn.model_selection import cross_val_score\n",
        "\n",
        "import tensorflow as tf\n",
        "\n",
        "from tensorflow import keras\n",
        "from tensorflow.keras.models import load_model, Model\n",
        "\n",
        "import matplotlib.pyplot as plt\n",
        "import seaborn as sns\n",
        "\n",
        "from google.colab import drive\n",
        "\n",
        "import math"
      ]
    },
    {
      "cell_type": "code",
      "execution_count": 14,
      "id": "a55bf946",
      "metadata": {
        "id": "a55bf946"
      },
      "outputs": [],
      "source": [
        "class AutoEncoder(Model):\n",
        "    def __init__(self):\n",
        "        super(AutoEncoder, self).__init__()\n",
        "        \n",
        "        self.encoder = tf.keras.Sequential([\n",
        "                       tf.keras.layers.Dense(20, activation=\"elu\",input_shape=(features,)),\n",
        "                       tf.keras.layers.Dense(16, activation=\"elu\"),\n",
        "                       tf.keras.layers.Dense(8, activation=\"elu\"),\n",
        "                       ])\n",
        "        self.decoder = tf.keras.Sequential([\n",
        "                       tf.keras.layers.Dense(16, activation=\"elu\"),\n",
        "                       tf.keras.layers.Dense(20, activation=\"elu\"),\n",
        "                       tf.keras.layers.Dense(features, activation=\"sigmoid\")\n",
        "                       ])\n",
        "    def call(self, x):\n",
        "        encoded = self.encoder(x)\n",
        "        decoded = self.decoder(encoded)\n",
        "        return decoded\n",
        "    \n",
        "    def get_config(self):\n",
        "        base_config = super().get_config()\n",
        "        return{**base_config, \"output_dim\" : output_dim, \"activation\": activation}"
      ]
    },
    {
      "cell_type": "code",
      "source": [
        "drive.mount('/content/drive/')"
      ],
      "metadata": {
        "colab": {
          "base_uri": "https://localhost:8080/"
        },
        "id": "qIqq3gODaqPt",
        "outputId": "4259e5fc-42f9-4c05-c34a-d480cc6599ee"
      },
      "id": "qIqq3gODaqPt",
      "execution_count": 5,
      "outputs": [
        {
          "output_type": "stream",
          "name": "stdout",
          "text": [
            "Mounted at /content/drive/\n"
          ]
        }
      ]
    },
    {
      "cell_type": "code",
      "execution_count": 6,
      "id": "fbf6b05e",
      "metadata": {
        "id": "fbf6b05e"
      },
      "outputs": [],
      "source": [
        "data = pd.read_csv('drive/MyDrive/data/creditcard.csv')"
      ]
    },
    {
      "cell_type": "code",
      "execution_count": 7,
      "id": "376d2261",
      "metadata": {
        "id": "376d2261"
      },
      "outputs": [],
      "source": [
        "Class = pd.DataFrame(data['Class'],columns=['Class'])"
      ]
    },
    {
      "cell_type": "code",
      "execution_count": 8,
      "id": "612334b7",
      "metadata": {
        "id": "612334b7"
      },
      "outputs": [],
      "source": [
        "data.drop(['Time', 'Class'], axis=1,inplace=True)"
      ]
    },
    {
      "cell_type": "code",
      "execution_count": 9,
      "id": "96f0805a",
      "metadata": {
        "id": "96f0805a"
      },
      "outputs": [],
      "source": [
        "X_train, X_test, y_train, y_test = train_test_split(data, Class, test_size=0.2, random_state=seed)"
      ]
    },
    {
      "cell_type": "code",
      "source": [
        "data0  = data[Class['Class']==0].reset_index(drop=True)\n",
        "class0 = Class[Class['Class']==0].reset_index(drop=True)\n",
        "\n",
        "data1  = data[Class['Class']==1].reset_index(drop=True)\n",
        "class1 = Class[Class['Class']==1].reset_index(drop=True)"
      ],
      "metadata": {
        "id": "xoVCHrRy8-jf"
      },
      "id": "xoVCHrRy8-jf",
      "execution_count": 91,
      "outputs": []
    },
    {
      "cell_type": "code",
      "source": [
        "folds = pd.DataFrame(np.zeros(data0.shape[0]),columns=['fold'])\n",
        "folds.index = data0.index\n",
        "\n",
        "n_folds = 7\n",
        "\n",
        "kf = KFold(n_splits=n_folds)\n",
        "\n",
        "for n, (train_index, val_index) in enumerate(kf.split(data0)):\n",
        "    folds.loc[val_index, 'fold'] = int(n)\n",
        "\n",
        "folds.loc[:,'fold'] = folds.loc[:,'fold'].astype(int)"
      ],
      "metadata": {
        "id": "lyKgsaY1UNZ1"
      },
      "id": "lyKgsaY1UNZ1",
      "execution_count": 11,
      "outputs": []
    },
    {
      "cell_type": "code",
      "source": [
        "learning_rate = 1e-3\n",
        "i_count = 0\n",
        "models = []\n",
        "fscalers = []\n",
        "\n",
        "for fold_num in range(n_folds):\n",
        "     print(f'Fold {fold_num}')\n",
        "        \n",
        "     trn_idx = folds[folds['fold'] != fold_num].index\n",
        "     val_idx = folds[folds['fold'] == fold_num].index    \n",
        "\n",
        "     X_train = data0.iloc[trn_idx].reset_index(drop=True).values.copy()\n",
        "     X_test  = data0.iloc[val_idx].reset_index(drop=True).values.copy()\n",
        "        \n",
        "     tf.keras.backend.clear_session()\n",
        "     features = X_train.shape[1]\n",
        "\n",
        "     model = AutoEncoder()\n",
        "\n",
        "     scaler = MinMaxScaler()\n",
        "     scaler.fit(X_train)\n",
        "     fscalers.append(scaler)\n",
        "     X_train = scaler.transform(X_train)\n",
        "     X_test  = scaler.transform(X_test)\n",
        "\n",
        "     cb_lr = tf.keras.callbacks.ReduceLROnPlateau(monitor = 'val_loss', factor = 0.4, patience = 2, verbose = 0, min_delta = 0.001, mode = 'min')\n",
        "     es = tf.keras.callbacks.EarlyStopping(monitor=\"val_loss\", patience=5, mode=\"min\")\n",
        "\n",
        "     model.compile(optimizer=tf.keras.optimizers.Adam(learning_rate = learning_rate),loss=\"mae\")\n",
        "     history = model.fit(X_train, X_train, epochs=100, batch_size=128,\n",
        "                         validation_data=(X_test, X_test),\n",
        "                         shuffle=True,\n",
        "                         callbacks=[cb_lr,es],\n",
        "                         verbose=2)\n",
        "      \n",
        "     models.append(model)\n",
        "     i_count += 1"
      ],
      "metadata": {
        "colab": {
          "base_uri": "https://localhost:8080/"
        },
        "id": "qC0sbRmZUH-B",
        "outputId": "93e12189-c48b-487c-d5e4-86aa327853d7"
      },
      "id": "qC0sbRmZUH-B",
      "execution_count": 15,
      "outputs": [
        {
          "output_type": "stream",
          "name": "stdout",
          "text": [
            "Fold 0\n",
            "Epoch 1/100\n",
            "1904/1904 - 5s - loss: 0.0287 - val_loss: 0.0243 - lr: 0.0010 - 5s/epoch - 3ms/step\n",
            "Epoch 2/100\n",
            "1904/1904 - 4s - loss: 0.0206 - val_loss: 0.0221 - lr: 0.0010 - 4s/epoch - 2ms/step\n",
            "Epoch 3/100\n",
            "1904/1904 - 5s - loss: 0.0187 - val_loss: 0.0203 - lr: 0.0010 - 5s/epoch - 2ms/step\n",
            "Epoch 4/100\n",
            "1904/1904 - 4s - loss: 0.0169 - val_loss: 0.0180 - lr: 0.0010 - 4s/epoch - 2ms/step\n",
            "Epoch 5/100\n",
            "1904/1904 - 5s - loss: 0.0153 - val_loss: 0.0170 - lr: 0.0010 - 5s/epoch - 2ms/step\n",
            "Epoch 6/100\n",
            "1904/1904 - 5s - loss: 0.0147 - val_loss: 0.0164 - lr: 0.0010 - 5s/epoch - 2ms/step\n",
            "Epoch 7/100\n",
            "1904/1904 - 5s - loss: 0.0138 - val_loss: 0.0154 - lr: 0.0010 - 5s/epoch - 2ms/step\n",
            "Epoch 8/100\n",
            "1904/1904 - 5s - loss: 0.0133 - val_loss: 0.0148 - lr: 0.0010 - 5s/epoch - 2ms/step\n",
            "Epoch 9/100\n",
            "1904/1904 - 4s - loss: 0.0127 - val_loss: 0.0143 - lr: 0.0010 - 4s/epoch - 2ms/step\n",
            "Epoch 10/100\n",
            "1904/1904 - 5s - loss: 0.0123 - val_loss: 0.0139 - lr: 0.0010 - 5s/epoch - 2ms/step\n",
            "Epoch 11/100\n",
            "1904/1904 - 4s - loss: 0.0121 - val_loss: 0.0140 - lr: 0.0010 - 4s/epoch - 2ms/step\n",
            "Epoch 12/100\n",
            "1904/1904 - 4s - loss: 0.0118 - val_loss: 0.0137 - lr: 4.0000e-04 - 4s/epoch - 2ms/step\n",
            "Epoch 13/100\n",
            "1904/1904 - 5s - loss: 0.0118 - val_loss: 0.0136 - lr: 4.0000e-04 - 5s/epoch - 2ms/step\n",
            "Epoch 14/100\n",
            "1904/1904 - 4s - loss: 0.0117 - val_loss: 0.0135 - lr: 1.6000e-04 - 4s/epoch - 2ms/step\n",
            "Epoch 15/100\n",
            "1904/1904 - 6s - loss: 0.0117 - val_loss: 0.0134 - lr: 1.6000e-04 - 6s/epoch - 3ms/step\n",
            "Epoch 16/100\n",
            "1904/1904 - 4s - loss: 0.0117 - val_loss: 0.0134 - lr: 6.4000e-05 - 4s/epoch - 2ms/step\n",
            "Epoch 17/100\n",
            "1904/1904 - 4s - loss: 0.0117 - val_loss: 0.0134 - lr: 6.4000e-05 - 4s/epoch - 2ms/step\n",
            "Epoch 18/100\n",
            "1904/1904 - 5s - loss: 0.0116 - val_loss: 0.0134 - lr: 2.5600e-05 - 5s/epoch - 2ms/step\n",
            "Epoch 19/100\n",
            "1904/1904 - 5s - loss: 0.0116 - val_loss: 0.0134 - lr: 2.5600e-05 - 5s/epoch - 2ms/step\n",
            "Epoch 20/100\n",
            "1904/1904 - 5s - loss: 0.0116 - val_loss: 0.0134 - lr: 1.0240e-05 - 5s/epoch - 2ms/step\n",
            "Epoch 21/100\n",
            "1904/1904 - 5s - loss: 0.0116 - val_loss: 0.0134 - lr: 1.0240e-05 - 5s/epoch - 2ms/step\n",
            "Epoch 22/100\n",
            "1904/1904 - 4s - loss: 0.0116 - val_loss: 0.0134 - lr: 4.0960e-06 - 4s/epoch - 2ms/step\n",
            "Epoch 23/100\n",
            "1904/1904 - 4s - loss: 0.0116 - val_loss: 0.0134 - lr: 4.0960e-06 - 4s/epoch - 2ms/step\n",
            "Epoch 24/100\n",
            "1904/1904 - 4s - loss: 0.0116 - val_loss: 0.0134 - lr: 1.6384e-06 - 4s/epoch - 2ms/step\n",
            "Epoch 25/100\n",
            "1904/1904 - 4s - loss: 0.0116 - val_loss: 0.0134 - lr: 1.6384e-06 - 4s/epoch - 2ms/step\n",
            "Epoch 26/100\n",
            "1904/1904 - 5s - loss: 0.0116 - val_loss: 0.0134 - lr: 6.5536e-07 - 5s/epoch - 2ms/step\n",
            "Epoch 27/100\n",
            "1904/1904 - 5s - loss: 0.0116 - val_loss: 0.0134 - lr: 6.5536e-07 - 5s/epoch - 2ms/step\n",
            "Epoch 28/100\n",
            "1904/1904 - 4s - loss: 0.0116 - val_loss: 0.0134 - lr: 2.6214e-07 - 4s/epoch - 2ms/step\n",
            "Epoch 29/100\n",
            "1904/1904 - 5s - loss: 0.0116 - val_loss: 0.0134 - lr: 2.6214e-07 - 5s/epoch - 2ms/step\n",
            "Epoch 30/100\n",
            "1904/1904 - 4s - loss: 0.0116 - val_loss: 0.0134 - lr: 1.0486e-07 - 4s/epoch - 2ms/step\n",
            "Epoch 31/100\n",
            "1904/1904 - 6s - loss: 0.0116 - val_loss: 0.0134 - lr: 1.0486e-07 - 6s/epoch - 3ms/step\n",
            "Epoch 32/100\n",
            "1904/1904 - 5s - loss: 0.0116 - val_loss: 0.0134 - lr: 4.1943e-08 - 5s/epoch - 2ms/step\n",
            "Fold 1\n",
            "Epoch 1/100\n",
            "1904/1904 - 21s - loss: 0.0270 - val_loss: 0.0210 - lr: 0.0010 - 21s/epoch - 11ms/step\n",
            "Epoch 2/100\n",
            "1904/1904 - 5s - loss: 0.0204 - val_loss: 0.0186 - lr: 0.0010 - 5s/epoch - 2ms/step\n",
            "Epoch 3/100\n",
            "1904/1904 - 4s - loss: 0.0188 - val_loss: 0.0171 - lr: 0.0010 - 4s/epoch - 2ms/step\n",
            "Epoch 4/100\n",
            "1904/1904 - 5s - loss: 0.0171 - val_loss: 0.0147 - lr: 0.0010 - 5s/epoch - 2ms/step\n",
            "Epoch 5/100\n",
            "1904/1904 - 5s - loss: 0.0150 - val_loss: 0.0130 - lr: 0.0010 - 5s/epoch - 3ms/step\n",
            "Epoch 6/100\n",
            "1904/1904 - 4s - loss: 0.0137 - val_loss: 0.0122 - lr: 0.0010 - 4s/epoch - 2ms/step\n",
            "Epoch 7/100\n",
            "1904/1904 - 4s - loss: 0.0131 - val_loss: 0.0115 - lr: 0.0010 - 4s/epoch - 2ms/step\n",
            "Epoch 8/100\n",
            "1904/1904 - 4s - loss: 0.0128 - val_loss: 0.0115 - lr: 0.0010 - 4s/epoch - 2ms/step\n",
            "Epoch 9/100\n",
            "1904/1904 - 5s - loss: 0.0127 - val_loss: 0.0111 - lr: 0.0010 - 5s/epoch - 2ms/step\n",
            "Epoch 10/100\n",
            "1904/1904 - 5s - loss: 0.0124 - val_loss: 0.0110 - lr: 4.0000e-04 - 5s/epoch - 2ms/step\n",
            "Epoch 11/100\n",
            "1904/1904 - 5s - loss: 0.0122 - val_loss: 0.0109 - lr: 4.0000e-04 - 5s/epoch - 2ms/step\n",
            "Epoch 12/100\n",
            "1904/1904 - 5s - loss: 0.0121 - val_loss: 0.0108 - lr: 1.6000e-04 - 5s/epoch - 2ms/step\n",
            "Epoch 13/100\n",
            "1904/1904 - 4s - loss: 0.0120 - val_loss: 0.0108 - lr: 1.6000e-04 - 4s/epoch - 2ms/step\n",
            "Epoch 14/100\n",
            "1904/1904 - 5s - loss: 0.0119 - val_loss: 0.0107 - lr: 6.4000e-05 - 5s/epoch - 2ms/step\n",
            "Epoch 15/100\n",
            "1904/1904 - 5s - loss: 0.0119 - val_loss: 0.0107 - lr: 6.4000e-05 - 5s/epoch - 2ms/step\n",
            "Epoch 16/100\n",
            "1904/1904 - 4s - loss: 0.0119 - val_loss: 0.0107 - lr: 2.5600e-05 - 4s/epoch - 2ms/step\n",
            "Epoch 17/100\n",
            "1904/1904 - 4s - loss: 0.0119 - val_loss: 0.0107 - lr: 2.5600e-05 - 4s/epoch - 2ms/step\n",
            "Epoch 18/100\n",
            "1904/1904 - 5s - loss: 0.0119 - val_loss: 0.0107 - lr: 1.0240e-05 - 5s/epoch - 2ms/step\n",
            "Epoch 19/100\n",
            "1904/1904 - 5s - loss: 0.0119 - val_loss: 0.0107 - lr: 1.0240e-05 - 5s/epoch - 2ms/step\n",
            "Epoch 20/100\n",
            "1904/1904 - 4s - loss: 0.0119 - val_loss: 0.0107 - lr: 4.0960e-06 - 4s/epoch - 2ms/step\n",
            "Epoch 21/100\n",
            "1904/1904 - 4s - loss: 0.0119 - val_loss: 0.0107 - lr: 4.0960e-06 - 4s/epoch - 2ms/step\n",
            "Epoch 22/100\n",
            "1904/1904 - 4s - loss: 0.0119 - val_loss: 0.0107 - lr: 1.6384e-06 - 4s/epoch - 2ms/step\n",
            "Epoch 23/100\n",
            "1904/1904 - 5s - loss: 0.0119 - val_loss: 0.0107 - lr: 1.6384e-06 - 5s/epoch - 2ms/step\n",
            "Epoch 24/100\n",
            "1904/1904 - 5s - loss: 0.0119 - val_loss: 0.0107 - lr: 6.5536e-07 - 5s/epoch - 2ms/step\n",
            "Epoch 25/100\n",
            "1904/1904 - 4s - loss: 0.0119 - val_loss: 0.0107 - lr: 6.5536e-07 - 4s/epoch - 2ms/step\n",
            "Epoch 26/100\n",
            "1904/1904 - 5s - loss: 0.0119 - val_loss: 0.0107 - lr: 2.6214e-07 - 5s/epoch - 2ms/step\n",
            "Epoch 27/100\n",
            "1904/1904 - 5s - loss: 0.0119 - val_loss: 0.0107 - lr: 2.6214e-07 - 5s/epoch - 2ms/step\n",
            "Fold 2\n",
            "Epoch 1/100\n",
            "1904/1904 - 5s - loss: 0.0291 - val_loss: 0.0226 - lr: 0.0010 - 5s/epoch - 3ms/step\n",
            "Epoch 2/100\n",
            "1904/1904 - 4s - loss: 0.0212 - val_loss: 0.0173 - lr: 0.0010 - 4s/epoch - 2ms/step\n",
            "Epoch 3/100\n",
            "1904/1904 - 4s - loss: 0.0185 - val_loss: 0.0165 - lr: 0.0010 - 4s/epoch - 2ms/step\n",
            "Epoch 4/100\n",
            "1904/1904 - 4s - loss: 0.0170 - val_loss: 0.0150 - lr: 0.0010 - 4s/epoch - 2ms/step\n",
            "Epoch 5/100\n",
            "1904/1904 - 4s - loss: 0.0159 - val_loss: 0.0143 - lr: 0.0010 - 4s/epoch - 2ms/step\n",
            "Epoch 6/100\n",
            "1904/1904 - 4s - loss: 0.0154 - val_loss: 0.0138 - lr: 0.0010 - 4s/epoch - 2ms/step\n",
            "Epoch 7/100\n",
            "1904/1904 - 4s - loss: 0.0151 - val_loss: 0.0136 - lr: 0.0010 - 4s/epoch - 2ms/step\n",
            "Epoch 8/100\n",
            "1904/1904 - 4s - loss: 0.0148 - val_loss: 0.0133 - lr: 0.0010 - 4s/epoch - 2ms/step\n",
            "Epoch 9/100\n",
            "1904/1904 - 4s - loss: 0.0140 - val_loss: 0.0125 - lr: 4.0000e-04 - 4s/epoch - 2ms/step\n",
            "Epoch 10/100\n",
            "1904/1904 - 4s - loss: 0.0135 - val_loss: 0.0120 - lr: 4.0000e-04 - 4s/epoch - 2ms/step\n",
            "Epoch 11/100\n",
            "1904/1904 - 4s - loss: 0.0130 - val_loss: 0.0113 - lr: 4.0000e-04 - 4s/epoch - 2ms/step\n",
            "Epoch 12/100\n",
            "1904/1904 - 4s - loss: 0.0126 - val_loss: 0.0109 - lr: 4.0000e-04 - 4s/epoch - 2ms/step\n",
            "Epoch 13/100\n",
            "1904/1904 - 4s - loss: 0.0123 - val_loss: 0.0107 - lr: 4.0000e-04 - 4s/epoch - 2ms/step\n",
            "Epoch 14/100\n",
            "1904/1904 - 4s - loss: 0.0121 - val_loss: 0.0105 - lr: 1.6000e-04 - 4s/epoch - 2ms/step\n",
            "Epoch 15/100\n",
            "1904/1904 - 5s - loss: 0.0120 - val_loss: 0.0104 - lr: 1.6000e-04 - 5s/epoch - 2ms/step\n",
            "Epoch 16/100\n",
            "1904/1904 - 4s - loss: 0.0119 - val_loss: 0.0103 - lr: 6.4000e-05 - 4s/epoch - 2ms/step\n",
            "Epoch 17/100\n",
            "1904/1904 - 5s - loss: 0.0118 - val_loss: 0.0103 - lr: 6.4000e-05 - 5s/epoch - 2ms/step\n",
            "Epoch 18/100\n",
            "1904/1904 - 5s - loss: 0.0118 - val_loss: 0.0103 - lr: 6.4000e-05 - 5s/epoch - 2ms/step\n",
            "Epoch 19/100\n",
            "1904/1904 - 4s - loss: 0.0117 - val_loss: 0.0102 - lr: 6.4000e-05 - 4s/epoch - 2ms/step\n",
            "Epoch 20/100\n",
            "1904/1904 - 5s - loss: 0.0117 - val_loss: 0.0102 - lr: 2.5600e-05 - 5s/epoch - 2ms/step\n",
            "Epoch 21/100\n",
            "1904/1904 - 4s - loss: 0.0117 - val_loss: 0.0102 - lr: 2.5600e-05 - 4s/epoch - 2ms/step\n",
            "Epoch 22/100\n",
            "1904/1904 - 5s - loss: 0.0117 - val_loss: 0.0102 - lr: 1.0240e-05 - 5s/epoch - 2ms/step\n",
            "Epoch 23/100\n",
            "1904/1904 - 5s - loss: 0.0117 - val_loss: 0.0102 - lr: 1.0240e-05 - 5s/epoch - 2ms/step\n",
            "Epoch 24/100\n",
            "1904/1904 - 4s - loss: 0.0117 - val_loss: 0.0102 - lr: 4.0960e-06 - 4s/epoch - 2ms/step\n",
            "Epoch 25/100\n",
            "1904/1904 - 5s - loss: 0.0117 - val_loss: 0.0102 - lr: 4.0960e-06 - 5s/epoch - 2ms/step\n",
            "Epoch 26/100\n",
            "1904/1904 - 5s - loss: 0.0117 - val_loss: 0.0102 - lr: 1.6384e-06 - 5s/epoch - 2ms/step\n",
            "Epoch 27/100\n",
            "1904/1904 - 4s - loss: 0.0117 - val_loss: 0.0102 - lr: 1.6384e-06 - 4s/epoch - 2ms/step\n",
            "Epoch 28/100\n",
            "1904/1904 - 5s - loss: 0.0117 - val_loss: 0.0102 - lr: 6.5536e-07 - 5s/epoch - 2ms/step\n",
            "Epoch 29/100\n",
            "1904/1904 - 5s - loss: 0.0117 - val_loss: 0.0102 - lr: 6.5536e-07 - 5s/epoch - 2ms/step\n",
            "Epoch 30/100\n",
            "1904/1904 - 4s - loss: 0.0117 - val_loss: 0.0102 - lr: 2.6214e-07 - 4s/epoch - 2ms/step\n",
            "Epoch 31/100\n",
            "1904/1904 - 5s - loss: 0.0117 - val_loss: 0.0102 - lr: 2.6214e-07 - 5s/epoch - 2ms/step\n",
            "Epoch 32/100\n",
            "1904/1904 - 4s - loss: 0.0117 - val_loss: 0.0102 - lr: 1.0486e-07 - 4s/epoch - 2ms/step\n",
            "Epoch 33/100\n",
            "1904/1904 - 4s - loss: 0.0117 - val_loss: 0.0102 - lr: 1.0486e-07 - 4s/epoch - 2ms/step\n",
            "Epoch 34/100\n",
            "1904/1904 - 5s - loss: 0.0117 - val_loss: 0.0102 - lr: 4.1943e-08 - 5s/epoch - 2ms/step\n",
            "Fold 3\n",
            "Epoch 1/100\n",
            "1904/1904 - 5s - loss: 0.0273 - val_loss: 0.0237 - lr: 0.0010 - 5s/epoch - 3ms/step\n",
            "Epoch 2/100\n",
            "1904/1904 - 5s - loss: 0.0205 - val_loss: 0.0200 - lr: 0.0010 - 5s/epoch - 2ms/step\n",
            "Epoch 3/100\n",
            "1904/1904 - 5s - loss: 0.0175 - val_loss: 0.0187 - lr: 0.0010 - 5s/epoch - 2ms/step\n",
            "Epoch 4/100\n",
            "1904/1904 - 4s - loss: 0.0167 - val_loss: 0.0183 - lr: 0.0010 - 4s/epoch - 2ms/step\n",
            "Epoch 5/100\n",
            "1904/1904 - 4s - loss: 0.0164 - val_loss: 0.0179 - lr: 0.0010 - 4s/epoch - 2ms/step\n",
            "Epoch 6/100\n",
            "1904/1904 - 4s - loss: 0.0159 - val_loss: 0.0173 - lr: 4.0000e-04 - 4s/epoch - 2ms/step\n",
            "Epoch 7/100\n",
            "1904/1904 - 5s - loss: 0.0152 - val_loss: 0.0168 - lr: 4.0000e-04 - 5s/epoch - 2ms/step\n",
            "Epoch 8/100\n",
            "1904/1904 - 4s - loss: 0.0146 - val_loss: 0.0162 - lr: 4.0000e-04 - 4s/epoch - 2ms/step\n",
            "Epoch 9/100\n",
            "1904/1904 - 4s - loss: 0.0141 - val_loss: 0.0158 - lr: 4.0000e-04 - 4s/epoch - 2ms/step\n",
            "Epoch 10/100\n",
            "1904/1904 - 4s - loss: 0.0133 - val_loss: 0.0150 - lr: 4.0000e-04 - 4s/epoch - 2ms/step\n",
            "Epoch 11/100\n",
            "1904/1904 - 6s - loss: 0.0126 - val_loss: 0.0145 - lr: 4.0000e-04 - 6s/epoch - 3ms/step\n",
            "Epoch 12/100\n",
            "1904/1904 - 6s - loss: 0.0124 - val_loss: 0.0142 - lr: 4.0000e-04 - 6s/epoch - 3ms/step\n",
            "Epoch 13/100\n",
            "1904/1904 - 6s - loss: 0.0123 - val_loss: 0.0141 - lr: 1.6000e-04 - 6s/epoch - 3ms/step\n",
            "Epoch 14/100\n",
            "1904/1904 - 5s - loss: 0.0122 - val_loss: 0.0140 - lr: 1.6000e-04 - 5s/epoch - 3ms/step\n",
            "Epoch 15/100\n",
            "1904/1904 - 5s - loss: 0.0122 - val_loss: 0.0139 - lr: 1.6000e-04 - 5s/epoch - 3ms/step\n",
            "Epoch 16/100\n",
            "1904/1904 - 5s - loss: 0.0122 - val_loss: 0.0138 - lr: 1.6000e-04 - 5s/epoch - 2ms/step\n",
            "Epoch 17/100\n",
            "1904/1904 - 5s - loss: 0.0121 - val_loss: 0.0138 - lr: 6.4000e-05 - 5s/epoch - 2ms/step\n",
            "Epoch 18/100\n",
            "1904/1904 - 4s - loss: 0.0121 - val_loss: 0.0138 - lr: 6.4000e-05 - 4s/epoch - 2ms/step\n",
            "Epoch 19/100\n",
            "1904/1904 - 4s - loss: 0.0121 - val_loss: 0.0138 - lr: 2.5600e-05 - 4s/epoch - 2ms/step\n",
            "Epoch 20/100\n",
            "1904/1904 - 4s - loss: 0.0121 - val_loss: 0.0137 - lr: 2.5600e-05 - 4s/epoch - 2ms/step\n",
            "Epoch 21/100\n",
            "1904/1904 - 5s - loss: 0.0121 - val_loss: 0.0137 - lr: 1.0240e-05 - 5s/epoch - 2ms/step\n",
            "Epoch 22/100\n",
            "1904/1904 - 4s - loss: 0.0120 - val_loss: 0.0137 - lr: 1.0240e-05 - 4s/epoch - 2ms/step\n",
            "Epoch 23/100\n",
            "1904/1904 - 5s - loss: 0.0120 - val_loss: 0.0137 - lr: 4.0960e-06 - 5s/epoch - 2ms/step\n",
            "Epoch 24/100\n",
            "1904/1904 - 4s - loss: 0.0120 - val_loss: 0.0137 - lr: 4.0960e-06 - 4s/epoch - 2ms/step\n",
            "Epoch 25/100\n",
            "1904/1904 - 5s - loss: 0.0120 - val_loss: 0.0137 - lr: 1.6384e-06 - 5s/epoch - 2ms/step\n",
            "Epoch 26/100\n",
            "1904/1904 - 5s - loss: 0.0120 - val_loss: 0.0137 - lr: 1.6384e-06 - 5s/epoch - 2ms/step\n",
            "Epoch 27/100\n",
            "1904/1904 - 4s - loss: 0.0120 - val_loss: 0.0137 - lr: 6.5536e-07 - 4s/epoch - 2ms/step\n",
            "Epoch 28/100\n",
            "1904/1904 - 5s - loss: 0.0120 - val_loss: 0.0137 - lr: 6.5536e-07 - 5s/epoch - 2ms/step\n",
            "Epoch 29/100\n",
            "1904/1904 - 5s - loss: 0.0120 - val_loss: 0.0137 - lr: 2.6214e-07 - 5s/epoch - 2ms/step\n",
            "Epoch 30/100\n",
            "1904/1904 - 4s - loss: 0.0120 - val_loss: 0.0137 - lr: 2.6214e-07 - 4s/epoch - 2ms/step\n",
            "Epoch 31/100\n",
            "1904/1904 - 4s - loss: 0.0120 - val_loss: 0.0137 - lr: 1.0486e-07 - 4s/epoch - 2ms/step\n",
            "Epoch 32/100\n",
            "1904/1904 - 5s - loss: 0.0120 - val_loss: 0.0137 - lr: 1.0486e-07 - 5s/epoch - 3ms/step\n",
            "Epoch 33/100\n",
            "1904/1904 - 4s - loss: 0.0120 - val_loss: 0.0137 - lr: 4.1943e-08 - 4s/epoch - 2ms/step\n",
            "Epoch 34/100\n",
            "1904/1904 - 5s - loss: 0.0120 - val_loss: 0.0137 - lr: 4.1943e-08 - 5s/epoch - 2ms/step\n",
            "Epoch 35/100\n",
            "1904/1904 - 5s - loss: 0.0120 - val_loss: 0.0137 - lr: 1.6777e-08 - 5s/epoch - 2ms/step\n",
            "Epoch 36/100\n",
            "1904/1904 - 5s - loss: 0.0120 - val_loss: 0.0137 - lr: 1.6777e-08 - 5s/epoch - 2ms/step\n",
            "Epoch 37/100\n",
            "1904/1904 - 4s - loss: 0.0120 - val_loss: 0.0137 - lr: 6.7109e-09 - 4s/epoch - 2ms/step\n",
            "Epoch 38/100\n",
            "1904/1904 - 5s - loss: 0.0120 - val_loss: 0.0137 - lr: 6.7109e-09 - 5s/epoch - 2ms/step\n",
            "Epoch 39/100\n",
            "1904/1904 - 5s - loss: 0.0120 - val_loss: 0.0137 - lr: 2.6844e-09 - 5s/epoch - 2ms/step\n",
            "Epoch 40/100\n",
            "1904/1904 - 5s - loss: 0.0120 - val_loss: 0.0137 - lr: 2.6844e-09 - 5s/epoch - 2ms/step\n",
            "Fold 4\n",
            "Epoch 1/100\n",
            "1904/1904 - 5s - loss: 0.0279 - val_loss: 0.0239 - lr: 0.0010 - 5s/epoch - 3ms/step\n",
            "Epoch 2/100\n",
            "1904/1904 - 5s - loss: 0.0209 - val_loss: 0.0199 - lr: 0.0010 - 5s/epoch - 2ms/step\n",
            "Epoch 3/100\n",
            "1904/1904 - 5s - loss: 0.0180 - val_loss: 0.0175 - lr: 0.0010 - 5s/epoch - 3ms/step\n",
            "Epoch 4/100\n",
            "1904/1904 - 5s - loss: 0.0162 - val_loss: 0.0165 - lr: 0.0010 - 5s/epoch - 2ms/step\n",
            "Epoch 5/100\n",
            "1904/1904 - 5s - loss: 0.0153 - val_loss: 0.0161 - lr: 0.0010 - 5s/epoch - 2ms/step\n",
            "Epoch 6/100\n",
            "1904/1904 - 5s - loss: 0.0142 - val_loss: 0.0145 - lr: 0.0010 - 5s/epoch - 2ms/step\n",
            "Epoch 7/100\n",
            "1904/1904 - 5s - loss: 0.0133 - val_loss: 0.0141 - lr: 0.0010 - 5s/epoch - 2ms/step\n",
            "Epoch 8/100\n",
            "1904/1904 - 5s - loss: 0.0131 - val_loss: 0.0138 - lr: 0.0010 - 5s/epoch - 2ms/step\n",
            "Epoch 9/100\n",
            "1904/1904 - 5s - loss: 0.0127 - val_loss: 0.0134 - lr: 4.0000e-04 - 5s/epoch - 2ms/step\n",
            "Epoch 10/100\n",
            "1904/1904 - 5s - loss: 0.0123 - val_loss: 0.0127 - lr: 4.0000e-04 - 5s/epoch - 2ms/step\n",
            "Epoch 11/100\n",
            "1904/1904 - 4s - loss: 0.0116 - val_loss: 0.0122 - lr: 4.0000e-04 - 4s/epoch - 2ms/step\n",
            "Epoch 12/100\n",
            "1904/1904 - 5s - loss: 0.0113 - val_loss: 0.0120 - lr: 4.0000e-04 - 5s/epoch - 2ms/step\n",
            "Epoch 13/100\n",
            "1904/1904 - 5s - loss: 0.0112 - val_loss: 0.0119 - lr: 4.0000e-04 - 5s/epoch - 2ms/step\n",
            "Epoch 14/100\n",
            "1904/1904 - 5s - loss: 0.0111 - val_loss: 0.0118 - lr: 1.6000e-04 - 5s/epoch - 2ms/step\n",
            "Epoch 15/100\n",
            "1904/1904 - 5s - loss: 0.0111 - val_loss: 0.0118 - lr: 1.6000e-04 - 5s/epoch - 2ms/step\n",
            "Epoch 16/100\n",
            "1904/1904 - 5s - loss: 0.0111 - val_loss: 0.0118 - lr: 6.4000e-05 - 5s/epoch - 2ms/step\n",
            "Epoch 17/100\n",
            "1904/1904 - 5s - loss: 0.0111 - val_loss: 0.0118 - lr: 6.4000e-05 - 5s/epoch - 2ms/step\n",
            "Epoch 18/100\n",
            "1904/1904 - 5s - loss: 0.0111 - val_loss: 0.0118 - lr: 2.5600e-05 - 5s/epoch - 2ms/step\n",
            "Epoch 19/100\n",
            "1904/1904 - 4s - loss: 0.0110 - val_loss: 0.0118 - lr: 2.5600e-05 - 4s/epoch - 2ms/step\n",
            "Epoch 20/100\n",
            "1904/1904 - 5s - loss: 0.0110 - val_loss: 0.0118 - lr: 1.0240e-05 - 5s/epoch - 2ms/step\n",
            "Epoch 21/100\n",
            "1904/1904 - 5s - loss: 0.0110 - val_loss: 0.0118 - lr: 1.0240e-05 - 5s/epoch - 2ms/step\n",
            "Epoch 22/100\n",
            "1904/1904 - 5s - loss: 0.0110 - val_loss: 0.0118 - lr: 4.0960e-06 - 5s/epoch - 2ms/step\n",
            "Epoch 23/100\n",
            "1904/1904 - 5s - loss: 0.0110 - val_loss: 0.0118 - lr: 4.0960e-06 - 5s/epoch - 2ms/step\n",
            "Epoch 24/100\n",
            "1904/1904 - 5s - loss: 0.0110 - val_loss: 0.0118 - lr: 1.6384e-06 - 5s/epoch - 2ms/step\n",
            "Epoch 25/100\n",
            "1904/1904 - 5s - loss: 0.0110 - val_loss: 0.0118 - lr: 1.6384e-06 - 5s/epoch - 2ms/step\n",
            "Epoch 26/100\n",
            "1904/1904 - 5s - loss: 0.0110 - val_loss: 0.0118 - lr: 6.5536e-07 - 5s/epoch - 2ms/step\n",
            "Epoch 27/100\n",
            "1904/1904 - 5s - loss: 0.0110 - val_loss: 0.0118 - lr: 6.5536e-07 - 5s/epoch - 3ms/step\n",
            "Epoch 28/100\n",
            "1904/1904 - 5s - loss: 0.0110 - val_loss: 0.0118 - lr: 2.6214e-07 - 5s/epoch - 2ms/step\n",
            "Epoch 29/100\n",
            "1904/1904 - 5s - loss: 0.0110 - val_loss: 0.0118 - lr: 2.6214e-07 - 5s/epoch - 2ms/step\n",
            "Fold 5\n",
            "Epoch 1/100\n",
            "1904/1904 - 5s - loss: 0.0266 - val_loss: 0.0216 - lr: 0.0010 - 5s/epoch - 3ms/step\n",
            "Epoch 2/100\n",
            "1904/1904 - 4s - loss: 0.0177 - val_loss: 0.0161 - lr: 0.0010 - 4s/epoch - 2ms/step\n",
            "Epoch 3/100\n",
            "1904/1904 - 4s - loss: 0.0145 - val_loss: 0.0143 - lr: 0.0010 - 4s/epoch - 2ms/step\n",
            "Epoch 4/100\n",
            "1904/1904 - 4s - loss: 0.0131 - val_loss: 0.0135 - lr: 0.0010 - 4s/epoch - 2ms/step\n",
            "Epoch 5/100\n",
            "1904/1904 - 4s - loss: 0.0126 - val_loss: 0.0132 - lr: 0.0010 - 4s/epoch - 2ms/step\n",
            "Epoch 6/100\n",
            "1904/1904 - 5s - loss: 0.0125 - val_loss: 0.0132 - lr: 0.0010 - 5s/epoch - 2ms/step\n",
            "Epoch 7/100\n",
            "1904/1904 - 5s - loss: 0.0124 - val_loss: 0.0132 - lr: 0.0010 - 5s/epoch - 2ms/step\n",
            "Epoch 8/100\n",
            "1904/1904 - 4s - loss: 0.0122 - val_loss: 0.0129 - lr: 4.0000e-04 - 4s/epoch - 2ms/step\n",
            "Epoch 9/100\n",
            "1904/1904 - 5s - loss: 0.0122 - val_loss: 0.0128 - lr: 4.0000e-04 - 5s/epoch - 2ms/step\n",
            "Epoch 10/100\n",
            "1904/1904 - 5s - loss: 0.0121 - val_loss: 0.0128 - lr: 1.6000e-04 - 5s/epoch - 2ms/step\n",
            "Epoch 11/100\n",
            "1904/1904 - 5s - loss: 0.0120 - val_loss: 0.0127 - lr: 1.6000e-04 - 5s/epoch - 2ms/step\n",
            "Epoch 12/100\n",
            "1904/1904 - 5s - loss: 0.0120 - val_loss: 0.0127 - lr: 6.4000e-05 - 5s/epoch - 2ms/step\n",
            "Epoch 13/100\n",
            "1904/1904 - 5s - loss: 0.0120 - val_loss: 0.0126 - lr: 6.4000e-05 - 5s/epoch - 2ms/step\n",
            "Epoch 14/100\n",
            "1904/1904 - 5s - loss: 0.0119 - val_loss: 0.0126 - lr: 2.5600e-05 - 5s/epoch - 2ms/step\n",
            "Epoch 15/100\n",
            "1904/1904 - 4s - loss: 0.0119 - val_loss: 0.0126 - lr: 2.5600e-05 - 4s/epoch - 2ms/step\n",
            "Epoch 16/100\n",
            "1904/1904 - 4s - loss: 0.0119 - val_loss: 0.0126 - lr: 1.0240e-05 - 4s/epoch - 2ms/step\n",
            "Epoch 17/100\n",
            "1904/1904 - 4s - loss: 0.0119 - val_loss: 0.0126 - lr: 1.0240e-05 - 4s/epoch - 2ms/step\n",
            "Epoch 18/100\n",
            "1904/1904 - 5s - loss: 0.0119 - val_loss: 0.0126 - lr: 4.0960e-06 - 5s/epoch - 2ms/step\n",
            "Epoch 19/100\n",
            "1904/1904 - 5s - loss: 0.0119 - val_loss: 0.0126 - lr: 4.0960e-06 - 5s/epoch - 2ms/step\n",
            "Epoch 20/100\n",
            "1904/1904 - 5s - loss: 0.0119 - val_loss: 0.0126 - lr: 1.6384e-06 - 5s/epoch - 2ms/step\n",
            "Epoch 21/100\n",
            "1904/1904 - 5s - loss: 0.0119 - val_loss: 0.0126 - lr: 1.6384e-06 - 5s/epoch - 2ms/step\n",
            "Epoch 22/100\n",
            "1904/1904 - 4s - loss: 0.0119 - val_loss: 0.0126 - lr: 6.5536e-07 - 4s/epoch - 2ms/step\n",
            "Epoch 23/100\n",
            "1904/1904 - 5s - loss: 0.0119 - val_loss: 0.0126 - lr: 6.5536e-07 - 5s/epoch - 2ms/step\n",
            "Epoch 24/100\n",
            "1904/1904 - 4s - loss: 0.0119 - val_loss: 0.0126 - lr: 2.6214e-07 - 4s/epoch - 2ms/step\n",
            "Epoch 25/100\n",
            "1904/1904 - 4s - loss: 0.0119 - val_loss: 0.0126 - lr: 2.6214e-07 - 4s/epoch - 2ms/step\n",
            "Epoch 26/100\n",
            "1904/1904 - 5s - loss: 0.0119 - val_loss: 0.0126 - lr: 1.0486e-07 - 5s/epoch - 2ms/step\n",
            "Epoch 27/100\n",
            "1904/1904 - 4s - loss: 0.0119 - val_loss: 0.0126 - lr: 1.0486e-07 - 4s/epoch - 2ms/step\n",
            "Epoch 28/100\n",
            "1904/1904 - 4s - loss: 0.0119 - val_loss: 0.0126 - lr: 4.1943e-08 - 4s/epoch - 2ms/step\n",
            "Epoch 29/100\n",
            "1904/1904 - 5s - loss: 0.0119 - val_loss: 0.0126 - lr: 4.1943e-08 - 5s/epoch - 2ms/step\n",
            "Epoch 30/100\n",
            "1904/1904 - 5s - loss: 0.0119 - val_loss: 0.0126 - lr: 1.6777e-08 - 5s/epoch - 2ms/step\n",
            "Fold 6\n",
            "Epoch 1/100\n",
            "1904/1904 - 5s - loss: 0.0303 - val_loss: 0.0240 - lr: 0.0010 - 5s/epoch - 3ms/step\n",
            "Epoch 2/100\n",
            "1904/1904 - 5s - loss: 0.0221 - val_loss: 0.0202 - lr: 0.0010 - 5s/epoch - 2ms/step\n",
            "Epoch 3/100\n",
            "1904/1904 - 4s - loss: 0.0195 - val_loss: 0.0179 - lr: 0.0010 - 4s/epoch - 2ms/step\n",
            "Epoch 4/100\n",
            "1904/1904 - 5s - loss: 0.0168 - val_loss: 0.0159 - lr: 0.0010 - 5s/epoch - 2ms/step\n",
            "Epoch 5/100\n",
            "1904/1904 - 4s - loss: 0.0155 - val_loss: 0.0155 - lr: 0.0010 - 4s/epoch - 2ms/step\n",
            "Epoch 6/100\n",
            "1904/1904 - 5s - loss: 0.0149 - val_loss: 0.0147 - lr: 0.0010 - 5s/epoch - 2ms/step\n",
            "Epoch 7/100\n",
            "1904/1904 - 4s - loss: 0.0145 - val_loss: 0.0142 - lr: 0.0010 - 4s/epoch - 2ms/step\n",
            "Epoch 8/100\n",
            "1904/1904 - 4s - loss: 0.0142 - val_loss: 0.0141 - lr: 0.0010 - 4s/epoch - 2ms/step\n",
            "Epoch 9/100\n",
            "1904/1904 - 5s - loss: 0.0138 - val_loss: 0.0139 - lr: 4.0000e-04 - 5s/epoch - 2ms/step\n",
            "Epoch 10/100\n",
            "1904/1904 - 4s - loss: 0.0137 - val_loss: 0.0138 - lr: 4.0000e-04 - 4s/epoch - 2ms/step\n",
            "Epoch 11/100\n",
            "1904/1904 - 5s - loss: 0.0136 - val_loss: 0.0136 - lr: 1.6000e-04 - 5s/epoch - 2ms/step\n",
            "Epoch 12/100\n",
            "1904/1904 - 4s - loss: 0.0135 - val_loss: 0.0136 - lr: 1.6000e-04 - 4s/epoch - 2ms/step\n",
            "Epoch 13/100\n",
            "1904/1904 - 6s - loss: 0.0135 - val_loss: 0.0135 - lr: 1.6000e-04 - 6s/epoch - 3ms/step\n",
            "Epoch 14/100\n",
            "1904/1904 - 5s - loss: 0.0134 - val_loss: 0.0135 - lr: 6.4000e-05 - 5s/epoch - 2ms/step\n",
            "Epoch 15/100\n",
            "1904/1904 - 6s - loss: 0.0133 - val_loss: 0.0134 - lr: 6.4000e-05 - 6s/epoch - 3ms/step\n",
            "Epoch 16/100\n",
            "1904/1904 - 5s - loss: 0.0133 - val_loss: 0.0134 - lr: 2.5600e-05 - 5s/epoch - 2ms/step\n",
            "Epoch 17/100\n",
            "1904/1904 - 4s - loss: 0.0133 - val_loss: 0.0134 - lr: 2.5600e-05 - 4s/epoch - 2ms/step\n",
            "Epoch 18/100\n",
            "1904/1904 - 5s - loss: 0.0133 - val_loss: 0.0134 - lr: 1.0240e-05 - 5s/epoch - 2ms/step\n",
            "Epoch 19/100\n",
            "1904/1904 - 5s - loss: 0.0133 - val_loss: 0.0134 - lr: 1.0240e-05 - 5s/epoch - 2ms/step\n",
            "Epoch 20/100\n",
            "1904/1904 - 4s - loss: 0.0133 - val_loss: 0.0134 - lr: 4.0960e-06 - 4s/epoch - 2ms/step\n",
            "Epoch 21/100\n",
            "1904/1904 - 5s - loss: 0.0133 - val_loss: 0.0134 - lr: 4.0960e-06 - 5s/epoch - 2ms/step\n",
            "Epoch 22/100\n",
            "1904/1904 - 5s - loss: 0.0133 - val_loss: 0.0134 - lr: 1.6384e-06 - 5s/epoch - 2ms/step\n",
            "Epoch 23/100\n",
            "1904/1904 - 4s - loss: 0.0133 - val_loss: 0.0134 - lr: 1.6384e-06 - 4s/epoch - 2ms/step\n",
            "Epoch 24/100\n",
            "1904/1904 - 5s - loss: 0.0133 - val_loss: 0.0134 - lr: 6.5536e-07 - 5s/epoch - 2ms/step\n",
            "Epoch 25/100\n",
            "1904/1904 - 5s - loss: 0.0133 - val_loss: 0.0134 - lr: 6.5536e-07 - 5s/epoch - 3ms/step\n",
            "Epoch 26/100\n",
            "1904/1904 - 5s - loss: 0.0133 - val_loss: 0.0134 - lr: 2.6214e-07 - 5s/epoch - 2ms/step\n",
            "Epoch 27/100\n",
            "1904/1904 - 5s - loss: 0.0133 - val_loss: 0.0134 - lr: 2.6214e-07 - 5s/epoch - 2ms/step\n",
            "Epoch 28/100\n",
            "1904/1904 - 5s - loss: 0.0133 - val_loss: 0.0134 - lr: 1.0486e-07 - 5s/epoch - 2ms/step\n",
            "Epoch 29/100\n",
            "1904/1904 - 5s - loss: 0.0133 - val_loss: 0.0134 - lr: 1.0486e-07 - 5s/epoch - 2ms/step\n"
          ]
        }
      ]
    },
    {
      "cell_type": "code",
      "execution_count": 27,
      "id": "0573faf7",
      "metadata": {
        "id": "0573faf7"
      },
      "outputs": [],
      "source": [
        "   "
      ]
    },
    {
      "cell_type": "code",
      "execution_count": 30,
      "id": "fb215222",
      "metadata": {
        "id": "fb215222"
      },
      "outputs": [],
      "source": [
        "val_idx = folds[folds['fold'] == 0].index \n",
        "g_test  = data0.iloc[val_idx].reset_index(drop=True).values.copy()\n",
        "decoder_out = np.zeros( (40617, 29) , dtype=np.float64)\n",
        "\n",
        "for fold in range(n_folds):\n",
        "  #Test data\n",
        "  scaler = fscalers[fold]\n",
        "  X_test  = scaler.transform(g_test)\n",
        "\n",
        "  encoder_out = model.encoder(X_test).numpy() \n",
        "  decoder_out += model.decoder(encoder_out).numpy()\n",
        "\n",
        "decoder_out /= n_folds"
      ]
    },
    {
      "cell_type": "code",
      "execution_count": 40,
      "id": "2ea72c4f",
      "metadata": {
        "colab": {
          "base_uri": "https://localhost:8080/",
          "height": 336
        },
        "id": "2ea72c4f",
        "outputId": "107d50e4-b1a5-4cc0-d1cf-21e939835a94"
      },
      "outputs": [
        {
          "output_type": "display_data",
          "data": {
            "text/plain": [
              "<Figure size 720x360 with 1 Axes>"
            ],
            "image/png": "[encoded data removed]"
          },
          "metadata": {
            "needs_background": "light"
          }
        }
      ],
      "source": [
        "fig = plt.figure(figsize = (10, 5))\n",
        "plt.plot(X_test[0], 'b')\n",
        "plt.plot(decoder_out[0], 'r')\n",
        "plt.title(\"Model performance on Test Normal data\")\n",
        "plt.show()"
      ]
    },
    {
      "cell_type": "code",
      "execution_count": 44,
      "id": "b47a5494",
      "metadata": {
        "id": "b47a5494"
      },
      "outputs": [],
      "source": [
        "decoder_out = np.zeros( (492,29) , dtype=np.float64)\n",
        "\n",
        "for fold in range(n_folds):\n",
        "  #Test data\n",
        "  scaler = fscalers[fold]\n",
        "  X_test  = scaler.transform(data1)\n",
        "\n",
        "  encoder_out = model.encoder(X_test).numpy() \n",
        "  decoder_out += model.decoder(encoder_out).numpy()\n",
        "\n",
        "decoder_out /= n_folds"
      ]
    },
    {
      "cell_type": "code",
      "execution_count": 45,
      "id": "9d49945d",
      "metadata": {
        "colab": {
          "base_uri": "https://localhost:8080/",
          "height": 336
        },
        "id": "9d49945d",
        "outputId": "72aea15f-8f5c-451c-f3db-3213ce1ac48e"
      },
      "outputs": [
        {
          "output_type": "display_data",
          "data": {
            "text/plain": [
              "<Figure size 720x360 with 1 Axes>"
            ],
            "image/png": "[encoded data removed]"
          },
          "metadata": {
            "needs_background": "light"
          }
        }
      ],
      "source": [
        "fig = plt.figure(figsize = (10, 5))\n",
        "plt.plot(X_test[10], 'b')\n",
        "plt.plot(decoder_out[10], 'r')\n",
        "plt.title(\"Model performance on Train Anomaly Data\")\n",
        "plt.show()"
      ]
    },
    {
      "cell_type": "markdown",
      "id": "56d97c1a",
      "metadata": {
        "id": "56d97c1a"
      },
      "source": [
        "Detecting anomalies\n",
        "We will detect anomalies by determining how well our model can reconstruct the input data.\n",
        "\n",
        "Find MAE loss on training samples.\n",
        "Find max MAE loss value. This is the worst our model has performed trying to reconstruct a sample. We will make this the threshold for anomaly detection.\n",
        "If the reconstruction loss for a sample is greater than this threshold value then we can infer that the model is seeing a pattern that it isn't familiar with. We will label this sample as an anomaly."
      ]
    },
    {
      "cell_type": "code",
      "execution_count": 51,
      "id": "b02ff58e",
      "metadata": {
        "id": "b02ff58e"
      },
      "outputs": [],
      "source": [
        "train_loss = 0\n",
        "\n",
        "for fold in range(n_folds):\n",
        "    trn_idx = folds[folds['fold'] != fold_num].index\n",
        "    g_test  = data0.iloc[trn_idx].reset_index(drop=True).values.copy()\n",
        "\n",
        "    scaler = fscalers[fold]\n",
        "    X_train  = scaler.transform(g_test)\n",
        "\n",
        "    model = models[fold]\n",
        "\n",
        "    encoder_out = model.encoder(X_train).numpy() \n",
        "    decoder_out = model.decoder(encoder_out).numpy()\n",
        "    train_loss += tf.keras.losses.mae(decoder_out, X_train).numpy()\n",
        "\n",
        "train_loss /= n_folds"
      ]
    },
    {
      "cell_type": "code",
      "execution_count": 52,
      "id": "745c133b",
      "metadata": {
        "colab": {
          "base_uri": "https://localhost:8080/"
        },
        "id": "745c133b",
        "outputId": "ead6c567-2919-4380-835a-e44f34ab3bf6"
      },
      "outputs": [
        {
          "output_type": "stream",
          "name": "stdout",
          "text": [
            "0.018938299721217244\n"
          ]
        }
      ],
      "source": [
        "threshold = np.mean(train_loss) + np.std(train_loss)\n",
        "print(threshold)"
      ]
    },
    {
      "cell_type": "code",
      "execution_count": 48,
      "id": "4102ab5e",
      "metadata": {
        "id": "4102ab5e"
      },
      "outputs": [],
      "source": [
        "preds = tf.math.less(train_loss, threshold)\n",
        "pred_nc = tf.math.count_nonzero(preds).numpy()"
      ]
    },
    {
      "cell_type": "code",
      "execution_count": 49,
      "id": "4f69996e",
      "metadata": {
        "scrolled": true,
        "colab": {
          "base_uri": "https://localhost:8080/",
          "height": 320
        },
        "id": "4f69996e",
        "outputId": "9ba37597-a91b-48ee-ab9e-20706ad13a18"
      },
      "outputs": [
        {
          "output_type": "display_data",
          "data": {
            "text/plain": [
              "<Figure size 720x360 with 1 Axes>"
            ],
            "image/png": "[encoded data removed]"
          },
          "metadata": {
            "needs_background": "light"
          }
        }
      ],
      "source": [
        "fig = plt.figure(figsize = (10, 5))\n",
        "x = plt.hist(train_loss, bins=100)"
      ]
    },
    {
      "cell_type": "code",
      "execution_count": 53,
      "id": "7c8c2906",
      "metadata": {
        "id": "7c8c2906"
      },
      "outputs": [],
      "source": [
        "loss_anomaly = 0\n",
        "\n",
        "for fold in range(n_folds):\n",
        "  # Anomaly data\n",
        "  scaler = fscalers[fold]\n",
        "  X_anomaly  = scaler.transform(data1)\n",
        "\n",
        "  model = models[fold]\n",
        "\n",
        "  encoder_out = model.encoder(X_anomaly).numpy() \n",
        "  decoder_out = model.decoder(encoder_out).numpy()\n",
        "  loss_anomaly += tf.keras.losses.mae(decoder_out, X_anomaly).numpy()\n",
        "\n",
        "loss_anomaly /= n_folds"
      ]
    },
    {
      "cell_type": "code",
      "execution_count": 54,
      "id": "85fb6508",
      "metadata": {
        "id": "85fb6508"
      },
      "outputs": [],
      "source": [
        "preds_a = tf.math.greater(loss_anomaly, threshold)\n",
        "pred_an = tf.math.count_nonzero(preds_a).numpy()"
      ]
    },
    {
      "cell_type": "code",
      "execution_count": 55,
      "id": "89c79327",
      "metadata": {
        "colab": {
          "base_uri": "https://localhost:8080/",
          "height": 336
        },
        "id": "89c79327",
        "outputId": "d262e5a7-9618-4c25-d2a0-ab7ced119b17"
      },
      "outputs": [
        {
          "output_type": "display_data",
          "data": {
            "text/plain": [
              "<Figure size 720x360 with 1 Axes>"
            ],
            "image/png": "[encoded data removed]"
          },
          "metadata": {
            "needs_background": "light"
          }
        }
      ],
      "source": [
        "fig = plt.figure(figsize = (10, 5))\n",
        "plt.hist(loss_anomaly, bins=100)\n",
        "plt.title(\"loss on anomaly test data\")\n",
        "plt.show()"
      ]
    },
    {
      "cell_type": "markdown",
      "id": "b9b02277",
      "metadata": {
        "id": "b9b02277"
      },
      "source": [
        "**Dataset evaluation**"
      ]
    },
    {
      "cell_type": "code",
      "execution_count": 56,
      "id": "8e72aa86",
      "metadata": {
        "colab": {
          "base_uri": "https://localhost:8080/",
          "height": 607
        },
        "id": "8e72aa86",
        "outputId": "1f1c520a-a80e-43d8-d324-bda8b0c67b20"
      },
      "outputs": [
        {
          "output_type": "display_data",
          "data": {
            "text/plain": [
              "<Figure size 1080x720 with 1 Axes>"
            ],
            "image/png": "[encoded data removed]"
          },
          "metadata": {
            "needs_background": "light"
          }
        }
      ],
      "source": [
        "fig = plt.figure(figsize = (15, 10))\n",
        "plt.hist(train_loss, bins=100, label='normal')\n",
        "plt.hist(loss_anomaly, bins=100, label='anomaly')\n",
        "plt.axvline(threshold, color='r', linewidth=3, linestyle='dashed', label='{:0.3f}'.format(threshold))\n",
        "plt.legend(loc='upper right')\n",
        "plt.title(\"Normal and Anomaly Loss\")\n",
        "plt.show()"
      ]
    },
    {
      "cell_type": "code",
      "source": [
        "threshold"
      ],
      "metadata": {
        "id": "DRF62JFLcFxE",
        "outputId": "fb4eb53e-d866-44d7-f7bc-3bd6de792d42",
        "colab": {
          "base_uri": "https://localhost:8080/"
        }
      },
      "id": "DRF62JFLcFxE",
      "execution_count": 63,
      "outputs": [
        {
          "output_type": "execute_result",
          "data": {
            "text/plain": [
              "0.018938299721217244"
            ]
          },
          "metadata": {},
          "execution_count": 63
        }
      ]
    },
    {
      "cell_type": "code",
      "source": [
        "preds_data  = np.zeros((data.shape[0]), dtype=np.int32)\n",
        "\n",
        "for fold in range(n_folds):\n",
        "   scaler = fscalers[fold]\n",
        "   X_data  = scaler.transform(data)\n",
        "\n",
        "   model = models[fold]\n",
        "\n",
        "   reconstruction_data = model.predict(X_data)\n",
        "   loss_data = tf.keras.losses.mae(reconstruction_data,X_data).numpy()\n",
        "   preds_data += (loss_data > threshold).astype(np.int32)\n",
        "\n",
        "preds_data //= n_folds"
      ],
      "metadata": {
        "id": "0QAYvy9TZ5gz"
      },
      "id": "0QAYvy9TZ5gz",
      "execution_count": 80,
      "outputs": []
    },
    {
      "cell_type": "code",
      "execution_count": 81,
      "id": "311122e5",
      "metadata": {
        "colab": {
          "base_uri": "https://localhost:8080/"
        },
        "id": "311122e5",
        "outputId": "bff395eb-6154-4321-e8b3-aefe481c7ff9"
      },
      "outputs": [
        {
          "output_type": "stream",
          "name": "stdout",
          "text": [
            "Accuracy: 94.37%\n"
          ]
        }
      ],
      "source": [
        "# make predictions for test data and evaluate\n",
        "accuracy = accuracy_score(Class['Class'].values, preds_data)\n",
        "print(\"Accuracy: %.2f%%\" % (accuracy * 100.0))"
      ]
    },
    {
      "cell_type": "code",
      "execution_count": 82,
      "id": "54be4c4b",
      "metadata": {
        "colab": {
          "base_uri": "https://localhost:8080/"
        },
        "id": "54be4c4b",
        "outputId": "09a6b734-d251-4ddd-d43d-2326ced0ae37"
      },
      "outputs": [
        {
          "output_type": "stream",
          "name": "stdout",
          "text": [
            "268329 15986 53 439\n"
          ]
        }
      ],
      "source": [
        "# confusion m,atrix\n",
        "tn, fp, fn, tp = confusion_matrix(Class['Class'].values, preds_data).ravel()\n",
        "print(tn, fp, fn, tp)"
      ]
    },
    {
      "cell_type": "code",
      "execution_count": 83,
      "id": "4fda2484",
      "metadata": {
        "colab": {
          "base_uri": "https://localhost:8080/"
        },
        "id": "4fda2484",
        "outputId": "366da92c-31f4-492b-d6b5-a06c816d67a0"
      },
      "outputs": [
        {
          "output_type": "stream",
          "name": "stdout",
          "text": [
            "Sensitivity: 89.23%\n",
            "Specificity: 94.38%\n"
          ]
        }
      ],
      "source": [
        "sensitivity = tp/(tp+fn)\n",
        "print(\"Sensitivity: %.2f%%\" % (sensitivity * 100.0))\n",
        "specificity = tn/(tn+fp)\n",
        "print(\"Specificity: %.2f%%\" % (specificity * 100.0))"
      ]
    },
    {
      "cell_type": "code",
      "execution_count": 84,
      "id": "8a3a6fb4",
      "metadata": {
        "colab": {
          "base_uri": "https://localhost:8080/"
        },
        "id": "8a3a6fb4",
        "outputId": "d349ba40-90be-4d6a-ae8f-4147160d4c52"
      },
      "outputs": [
        {
          "output_type": "execute_result",
          "data": {
            "text/plain": [
              "array([[268329,  15986],\n",
              "       [    53,    439]])"
            ]
          },
          "metadata": {},
          "execution_count": 84
        }
      ],
      "source": [
        "confusion_matrix(Class['Class'].values, preds_data)"
      ]
    },
    {
      "cell_type": "markdown",
      "id": "aee47f3c",
      "metadata": {
        "id": "aee47f3c"
      },
      "source": [
        "**Out of sample results**"
      ]
    },
    {
      "cell_type": "code",
      "source": [
        "preds_data1  = np.zeros((data1.shape[0]), dtype=np.int32)\n",
        "\n",
        "for fold in range(n_folds):\n",
        "   scaler = fscalers[fold]\n",
        "   X_data1  = scaler.transform(data1)\n",
        "\n",
        "   model = models[fold]\n",
        "\n",
        "   reconstruction_data1 = model.predict(X_data1)\n",
        "   loss_data1 = tf.keras.losses.mae(reconstruction_data1,X_data1).numpy()\n",
        "   preds_data1 += (loss_data1 >= threshold).astype(np.int32)\n",
        "\n",
        "preds_data1 //= n_folds"
      ],
      "metadata": {
        "id": "DH0iEdqYf8F2"
      },
      "id": "DH0iEdqYf8F2",
      "execution_count": 97,
      "outputs": []
    },
    {
      "cell_type": "code",
      "execution_count": 98,
      "id": "b86b4353",
      "metadata": {
        "colab": {
          "base_uri": "https://localhost:8080/"
        },
        "id": "b86b4353",
        "outputId": "0bd405c2-d4d9-4550-e757-fca385d165db"
      },
      "outputs": [
        {
          "output_type": "stream",
          "name": "stdout",
          "text": [
            "Accuracy: 89.23%\n"
          ]
        }
      ],
      "source": [
        "# make predictions for test data and evaluate\n",
        "accuracy_class1 = accuracy_score(class1, preds_data1)\n",
        "print(\"Accuracy: %.2f%%\" % (accuracy_class1 * 100.0))"
      ]
    },
    {
      "cell_type": "code",
      "execution_count": 99,
      "id": "342b7fd7",
      "metadata": {
        "colab": {
          "base_uri": "https://localhost:8080/"
        },
        "id": "342b7fd7",
        "outputId": "67951b8b-5e14-4417-e373-919a0f559cc4"
      },
      "outputs": [
        {
          "output_type": "stream",
          "name": "stdout",
          "text": [
            "Sensitivity: 90.85%\n"
          ]
        }
      ],
      "source": [
        "# confusion matrix\n",
        "tn, fp, fn, tp = confusion_matrix(class1, preds_a).ravel()\n",
        "sensitivity = tp/(tp+fn)\n",
        "print(\"Sensitivity: %.2f%%\" % (sensitivity * 100.0))"
      ]
    },
    {
      "cell_type": "code",
      "source": [
        ""
      ],
      "metadata": {
        "id": "tqr2SDDDYZEt"
      },
      "id": "tqr2SDDDYZEt",
      "execution_count": null,
      "outputs": []
    }
  ],
  "metadata": {
    "kernelspec": {
      "display_name": "Python 3 (ipykernel)",
      "language": "python",
      "name": "python3"
    },
    "language_info": {
      "codemirror_mode": {
        "name": "ipython",
        "version": 3
      },
      "file_extension": ".py",
      "mimetype": "text/x-python",
      "name": "python",
      "nbconvert_exporter": "python",
      "pygments_lexer": "ipython3",
      "version": "3.9.12"
    },
    "colab": {
      "name": "Autoencoder.ipynb",
      "provenance": [],
      "include_colab_link": true
    },
    "accelerator": "GPU",
    "gpuClass": "standard"
  },
  "nbformat": 4,
  "nbformat_minor": 5
}