{
 "cells": [
  {
   "cell_type": "code",
   "execution_count": 79,
   "id": "901196e4",
   "metadata": {},
   "outputs": [],
   "source": [
    "import pandas as pd  \n",
    "import numpy as np  \n",
    "import matplotlib.pyplot as plt\n",
    "import seaborn as sns\n",
    "\n",
    "import warnings\n",
    "warnings.filterwarnings(\"ignore\")\n",
    "\n",
    "from sklearn.model_selection import train_test_split \n",
    "from sklearn import metrics\n",
    "from sklearn.model_selection import cross_val_score\n",
    "from sklearn.model_selection import RepeatedStratifiedKFold\n",
    "\n",
    "from imblearn.over_sampling import SMOTE\n",
    "from sklearn.pipeline import make_pipeline\n",
    "from sklearn.preprocessing import MinMaxScaler\n",
    "from sklearn.ensemble import GradientBoostingClassifier\n",
    "\n",
    "from sklearn.metrics import confusion_matrix, accuracy_score, classification_report\n",
    "from sklearn.metrics import roc_auc_score\n",
    "from sklearn.metrics import roc_curve"
   ]
  },
  {
   "cell_type": "code",
   "execution_count": 2,
   "id": "f65005aa",
   "metadata": {},
   "outputs": [],
   "source": [
    "# read in file\n",
    "nRowsRead = 284807\n",
    "df1 = pd.read_csv('C:\\\\Users\\\\ajens\\\\OneDrive\\\\Documents\\\\Personal\\\\A.Jensen MDS\\\\creditcard.csv\\\\creditcard.csv', delimiter=',', nrows= nRowsRead)\n",
    "df1.dataframeName = 'Fraud Detection'"
   ]
  },
  {
   "cell_type": "code",
   "execution_count": 41,
   "id": "09e62099",
   "metadata": {},
   "outputs": [],
   "source": [
    "Class = pd.DataFrame(df1['Class'],columns=['Class'])"
   ]
  },
  {
   "cell_type": "code",
   "execution_count": 42,
   "id": "e7393bef",
   "metadata": {},
   "outputs": [],
   "source": [
    "df1.drop(['Time', 'Class'], axis=1,inplace=True)"
   ]
  },
  {
   "cell_type": "code",
   "execution_count": 77,
   "id": "6fe241fb",
   "metadata": {},
   "outputs": [],
   "source": [
    "# transform the dataset\n",
    "oversample = SMOTE()\n",
    "df1, Class = oversample.fit_resample(df1, Class)"
   ]
  },
  {
   "cell_type": "code",
   "execution_count": 94,
   "id": "e9d6beb2",
   "metadata": {},
   "outputs": [
    {
     "name": "stdout",
     "output_type": "stream",
     "text": [
      "Class\n",
      "0        284315\n",
      "1        284315\n",
      "dtype: int64\n"
     ]
    },
    {
     "data": {
      "image/png": "[encoded data removed]",
      "text/plain": [
       "<Figure size 432x288 with 1 Axes>"
      ]
     },
     "metadata": {
      "needs_background": "light"
     },
     "output_type": "display_data"
    },
    {
     "name": "stdout",
     "output_type": "stream",
     "text": [
      "Percentage of fraudulent class: 50.0\n",
      "Percentage of non-fraudulent class: 50.0\n"
     ]
    }
   ],
   "source": [
    "# Value count showing imbalanced data\n",
    "print(Class.value_counts())\n",
    "# Visulaize the imbalance\n",
    "sns.countplot(x=Class.iloc[:,0], data=df1, palette='hls')\n",
    "plt.show()\n",
    "# Percentage of imbalanced data by class\n",
    "not_fraud = len(Class.iloc[:,0]==0)\n",
    "fraud = len(Class.iloc[:,0]==1)\n",
    "pct_of_no_fraud = not_fraud/(not_fraud+fraud)\n",
    "pct_of_fraud = fraud/(not_fraud+fraud)\n",
    "print(\"Percentage of fraudulent class:\", pct_of_fraud*100)\n",
    "print(\"Percentage of non-fraudulent class:\", pct_of_no_fraud *100)"
   ]
  },
  {
   "cell_type": "markdown",
   "id": "213a929c",
   "metadata": {},
   "source": [
    "Our classes are now balanced! Compare to the original EDA notebook to see the class distribution differences."
   ]
  },
  {
   "cell_type": "code",
   "execution_count": 95,
   "id": "f25f8a38",
   "metadata": {},
   "outputs": [
    {
     "data": {
      "text/plain": [
       "0.9809542233086541"
      ]
     },
     "execution_count": 95,
     "metadata": {},
     "output_type": "execute_result"
    }
   ],
   "source": [
    "pipe = make_pipeline(\n",
    "    MinMaxScaler(),\n",
    "    GradientBoostingClassifier(random_state=42,\n",
    "                             n_estimators=100,\n",
    "                             verbose=False)\n",
    ")\n",
    "X_train, X_test, y_train, y_test = train_test_split(df1, Class, test_size=0.3, random_state=42)\n",
    "pipe.fit(X_train, y_train).score(X_test, y_test)"
   ]
  },
  {
   "cell_type": "code",
   "execution_count": 97,
   "id": "a5839301",
   "metadata": {},
   "outputs": [
    {
     "name": "stdout",
     "output_type": "stream",
     "text": [
      "Pipeline(steps=[('minmaxscaler', MinMaxScaler()),\n",
      "                ('gradientboostingclassifier',\n",
      "                 GradientBoostingClassifier(random_state=42, verbose=False))]) \n",
      "\n",
      "Accuracy:  98.09542233086542\n"
     ]
    }
   ],
   "source": [
    "y_pred = pipe.predict(X_test)\n",
    "print(pipe,\"\\n\\nAccuracy: \",accuracy_score(y_test,y_pred)*100)"
   ]
  },
  {
   "cell_type": "markdown",
   "id": "a26bddae",
   "metadata": {},
   "source": [
    "As expected, the accuracy decreased compared to the imbalaced data, but only by a small margin. This gives us a better representation of our metrics now that we balanced our data. "
   ]
  },
  {
   "cell_type": "code",
   "execution_count": 98,
   "id": "6760871c",
   "metadata": {},
   "outputs": [
    {
     "name": "stdout",
     "output_type": "stream",
     "text": [
      "[[84239   910]\n",
      " [ 2339 83101]]\n",
      "              precision    recall  f1-score   support\n",
      "\n",
      "           0       0.97      0.99      0.98     85149\n",
      "           1       0.99      0.97      0.98     85440\n",
      "\n",
      "    accuracy                           0.98    170589\n",
      "   macro avg       0.98      0.98      0.98    170589\n",
      "weighted avg       0.98      0.98      0.98    170589\n",
      "\n"
     ]
    }
   ],
   "source": [
    "from sklearn.metrics import confusion_matrix\n",
    "confusion_matrix = confusion_matrix(y_test, y_pred)\n",
    "print(confusion_matrix)\n",
    "print(classification_report(y_test, y_pred))"
   ]
  },
  {
   "cell_type": "code",
   "execution_count": 99,
   "id": "af6ef14a",
   "metadata": {},
   "outputs": [],
   "source": [
    "# Creating a function to report confusion metrics\n",
    "def confusion_metrics (conf_matrix):\n",
    "# save confusion matrix and slice into four pieces\n",
    "    TP = conf_matrix[1][1]\n",
    "    TN = conf_matrix[0][0]\n",
    "    FP = conf_matrix[0][1]\n",
    "    FN = conf_matrix[1][0]\n",
    "    print('True Positives:', TP)\n",
    "    print('True Negatives:', TN)\n",
    "    print('False Positives:', FP)\n",
    "    print('False Negatives:', FN)\n",
    "    \n",
    "    # calculate accuracy\n",
    "    conf_accuracy = (float (TP+TN) / float(TP + TN + FP + FN))\n",
    "    \n",
    "    # calculate the sensitivity\n",
    "    conf_sensitivity = (TP / float(TP + FN)) \n",
    "    # calculate the specificity\n",
    "    conf_specificity = (TN / float(TN + FP))\n",
    "    \n",
    "    # calculate precision\n",
    "    conf_precision = (TN / float(TN + FP))\n",
    "    # calculate f_1 score\n",
    "    conf_f1 = 2 * ((conf_precision * conf_sensitivity) / (conf_precision + conf_sensitivity))\n",
    "    print('-'*40)\n",
    "    print(f'Accuracy: {round(conf_accuracy * 100.0,4)}%') \n",
    "    print(f'Sensitivity: {round(conf_sensitivity * 100.0,4)}%') \n",
    "    print(f'Specificity: {round(conf_specificity * 100.0,4)}%') \n",
    "    print(f'Precision: {round(conf_precision * 100.0,4)}%')\n",
    "    print(f'f_1 Score: {round(conf_f1 * 100.0,4)}%')"
   ]
  },
  {
   "cell_type": "code",
   "execution_count": 100,
   "id": "07139bf0",
   "metadata": {},
   "outputs": [
    {
     "name": "stdout",
     "output_type": "stream",
     "text": [
      "True Positives: 83101\n",
      "True Negatives: 84239\n",
      "False Positives: 910\n",
      "False Negatives: 2339\n",
      "----------------------------------------\n",
      "Accuracy: 98.0954%\n",
      "Sensitivity: 97.2624%\n",
      "Specificity: 98.9313%\n",
      "Precision: 98.9313%\n",
      "f_1 Score: 98.0897%\n"
     ]
    }
   ],
   "source": [
    "confusion_metrics(confusion_matrix)"
   ]
  },
  {
   "cell_type": "markdown",
   "id": "ce23f485",
   "metadata": {},
   "source": [
    "Sensitivity (aka Recall) means out of all actual Positives, how many did we predict as Positive.\n",
    "\n",
    "Specificity (aka Selectivity or True Negative Rate, TNR) means out of all actual Negatives, how many did we predict as Negative.\n",
    "\n",
    "Precision (aka Positive Predictive Value, PPV) means “out of all predicted Positive cases, how many were actually Positive.\n",
    "\n",
    "F1 Score is the harmonic, or weighted average of Precision and Sensitivity."
   ]
  },
  {
   "cell_type": "code",
   "execution_count": 101,
   "id": "455ab603",
   "metadata": {},
   "outputs": [
    {
     "name": "stdout",
     "output_type": "stream",
     "text": [
      "[0.97307564 0.97961768 0.97961768 0.97910768 0.97965285 0.97905492\n",
      " 0.98153457 0.98069043 0.98056733 0.98220284]\n",
      "\n",
      "Average Cross Validation score= 0.9795121608075549\n"
     ]
    }
   ],
   "source": [
    "# cross validation score\n",
    "scores= cross_val_score(pipe, df1, Class, cv= 10)\n",
    "print(scores)\n",
    "print(f'\\nAverage Cross Validation score= {np.mean(scores)}')"
   ]
  },
  {
   "cell_type": "markdown",
   "id": "4a4fc702",
   "metadata": {},
   "source": [
    "Our data ran through the pipeline with cross validation appears to perform slightly better, however, the improved performance is insignificant. "
   ]
  }
 ],
 "metadata": {
  "kernelspec": {
   "display_name": "Python 3 (ipykernel)",
   "language": "python",
   "name": "python3"
  },
  "language_info": {
   "codemirror_mode": {
    "name": "ipython",
    "version": 3
   },
   "file_extension": ".py",
   "mimetype": "text/x-python",
   "name": "python",
   "nbconvert_exporter": "python",
   "pygments_lexer": "ipython3",
   "version": "3.7.4"
  }
 },
 "nbformat": 4,
 "nbformat_minor": 5
}
