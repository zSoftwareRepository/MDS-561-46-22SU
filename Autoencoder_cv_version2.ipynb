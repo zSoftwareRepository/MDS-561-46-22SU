{
  "cells": [
    {
      "cell_type": "markdown",
      "metadata": {
        "id": "view-in-github",
        "colab_type": "text"
      },
      "source": [
        "<a href=\"https://colab.research.google.com/github/zSoftwareRepository/MDS-561-46-22SU/blob/main/Autoencoder_cv_version2.ipynb\" target=\"_parent\"><img src=\"https://colab.research.google.com/assets/colab-badge.svg\" alt=\"Open In Colab\"/></a>"
      ]
    },
    {
      "cell_type": "code",
      "execution_count": 1,
      "id": "4ce0c4ea",
      "metadata": {
        "id": "4ce0c4ea"
      },
      "outputs": [],
      "source": [
        "seed = 23\n",
        "\n",
        "import numpy as np\n",
        "np.random.seed(seed)\n",
        "\n",
        "from tensorflow.keras.utils import set_random_seed \n",
        "set_random_seed(seed)\n",
        "\n",
        "import pandas as pd\n",
        "\n",
        "import warnings\n",
        "warnings.filterwarnings(\"ignore\")\n",
        "\n",
        "from sklearn.metrics import accuracy_score, confusion_matrix\n",
        "from sklearn.model_selection import train_test_split\n",
        "from sklearn.feature_selection import SelectFromModel\n",
        "from sklearn.preprocessing import MinMaxScaler\n",
        "from sklearn.model_selection import KFold\n",
        "from sklearn.model_selection import cross_val_score\n",
        "\n",
        "import tensorflow as tf\n",
        "\n",
        "from tensorflow import keras\n",
        "from tensorflow.keras.models import load_model, Model\n",
        "\n",
        "import matplotlib.pyplot as plt\n",
        "import seaborn as sns\n",
        "\n",
        "from google.colab import drive\n",
        "\n",
        "import math"
      ]
    },
    {
      "cell_type": "code",
      "execution_count": 110,
      "id": "a55bf946",
      "metadata": {
        "id": "a55bf946"
      },
      "outputs": [],
      "source": [
        "class AutoEncoder(Model):\n",
        "    def __init__(self):\n",
        "        super(AutoEncoder, self).__init__()\n",
        "        \n",
        "        self.encoder = tf.keras.Sequential([\n",
        "                       tf.keras.layers.Dense(24, activation=\"elu\",input_shape=(features,)),\n",
        "                       tf.keras.layers.Dropout(0.2),\n",
        "                       tf.keras.layers.Dense(20, activation=\"elu\"),\n",
        "                       tf.keras.layers.Dropout(0.2),\n",
        "                       tf.keras.layers.Dense(16, activation=\"elu\"),\n",
        "                       tf.keras.layers.Dropout(0.2),\n",
        "                       tf.keras.layers.Dense(8, activation=\"elu\"),\n",
        "                       ])\n",
        "        self.decoder = tf.keras.Sequential([\n",
        "                       tf.keras.layers.Dense(16, activation=\"elu\"),\n",
        "                       tf.keras.layers.Dense(20, activation=\"elu\"),\n",
        "                       tf.keras.layers.Dense(24, activation=\"elu\"),\n",
        "                       tf.keras.layers.Dense(features, activation=\"sigmoid\")\n",
        "                       ])\n",
        "    def call(self, x):\n",
        "        encoded = self.encoder(x)\n",
        "        decoded = self.decoder(encoded)\n",
        "        return decoded\n",
        "    \n",
        "    def get_config(self):\n",
        "        base_config = super().get_config()\n",
        "        return{**base_config, \"output_dim\" : output_dim, \"activation\": activation}"
      ]
    },
    {
      "cell_type": "code",
      "source": [
        "drive.mount('/content/drive/')"
      ],
      "metadata": {
        "colab": {
          "base_uri": "https://localhost:8080/"
        },
        "id": "qIqq3gODaqPt",
        "outputId": "65dc8e6b-1176-483f-bb46-38eb08ff9380"
      },
      "id": "qIqq3gODaqPt",
      "execution_count": 3,
      "outputs": [
        {
          "output_type": "stream",
          "name": "stdout",
          "text": [
            "Mounted at /content/drive/\n"
          ]
        }
      ]
    },
    {
      "cell_type": "code",
      "execution_count": 111,
      "id": "fbf6b05e",
      "metadata": {
        "id": "fbf6b05e"
      },
      "outputs": [],
      "source": [
        "data = pd.read_csv('drive/MyDrive/data/creditcard.csv')"
      ]
    },
    {
      "cell_type": "code",
      "execution_count": 112,
      "id": "376d2261",
      "metadata": {
        "id": "376d2261"
      },
      "outputs": [],
      "source": [
        "Class = pd.DataFrame(data['Class'],columns=['Class'])"
      ]
    },
    {
      "cell_type": "code",
      "execution_count": 113,
      "id": "612334b7",
      "metadata": {
        "id": "612334b7"
      },
      "outputs": [],
      "source": [
        "data.drop(['Time', 'Class'], axis=1,inplace=True)"
      ]
    },
    {
      "cell_type": "code",
      "source": [
        "data0  = data[Class['Class']==0].reset_index(drop=True)\n",
        "class0 = Class[Class['Class']==0].reset_index(drop=True)\n",
        "\n",
        "data1  = data[Class['Class']==1].reset_index(drop=True)\n",
        "class1 = Class[Class['Class']==1].reset_index(drop=True)"
      ],
      "metadata": {
        "id": "xoVCHrRy8-jf"
      },
      "id": "xoVCHrRy8-jf",
      "execution_count": 114,
      "outputs": []
    },
    {
      "cell_type": "code",
      "source": [
        "folds = pd.DataFrame(np.zeros(data0.shape[0]),columns=['fold'])\n",
        "folds.index = data0.index\n",
        "\n",
        "n_folds = 10\n",
        "\n",
        "kf = KFold(n_splits=n_folds)\n",
        "\n",
        "for n, (train_index, val_index) in enumerate(kf.split(data0)):\n",
        "    folds.loc[val_index, 'fold'] = int(n)\n",
        "\n",
        "folds.loc[:,'fold'] = folds.loc[:,'fold'].astype(int)"
      ],
      "metadata": {
        "id": "lyKgsaY1UNZ1"
      },
      "id": "lyKgsaY1UNZ1",
      "execution_count": 115,
      "outputs": []
    },
    {
      "cell_type": "code",
      "source": [
        "val_idx = folds[folds['fold'] == 0].index \n",
        "holdout = data0.iloc[val_idx].reset_index(drop=True).copy()\n",
        "Class_holdout = class0.iloc[val_idx].reset_index(drop=True).copy()"
      ],
      "metadata": {
        "id": "e92j4-QnJqNl"
      },
      "id": "e92j4-QnJqNl",
      "execution_count": 116,
      "outputs": []
    },
    {
      "cell_type": "code",
      "source": [
        "trn_idx = folds[folds['fold'] != 0].index\n",
        "data0 = data0.iloc[trn_idx].reset_index(drop=True).copy()"
      ],
      "metadata": {
        "id": "CrkK52zSKUP9"
      },
      "id": "CrkK52zSKUP9",
      "execution_count": 117,
      "outputs": []
    },
    {
      "cell_type": "code",
      "source": [
        "folds = pd.DataFrame(np.zeros(data0.shape[0]),columns=['fold'])\n",
        "folds.index = data0.index\n",
        "\n",
        "n_folds = 10\n",
        "\n",
        "kf = KFold(n_splits=n_folds)\n",
        "\n",
        "for n, (train_index, val_index) in enumerate(kf.split(data0)):\n",
        "    folds.loc[val_index, 'fold'] = int(n)\n",
        "\n",
        "folds.loc[:,'fold'] = folds.loc[:,'fold'].astype(int)"
      ],
      "metadata": {
        "id": "qGBP7AcuLD91"
      },
      "id": "qGBP7AcuLD91",
      "execution_count": 118,
      "outputs": []
    },
    {
      "cell_type": "code",
      "source": [
        "learning_rate = 1e-3\n",
        "i_count = 0\n",
        "models = []\n",
        "fscalers = []\n",
        "\n",
        "for fold_num in range(n_folds):\n",
        "     print(f'Fold {fold_num}')\n",
        "        \n",
        "     trn_idx = folds[folds['fold'] != fold_num].index\n",
        "     val_idx = folds[folds['fold'] == fold_num].index    \n",
        "\n",
        "     X_train = data0.iloc[trn_idx].reset_index(drop=True).values.copy()\n",
        "     X_test  = data0.iloc[val_idx].reset_index(drop=True).values.copy()\n",
        "        \n",
        "     tf.keras.backend.clear_session()\n",
        "     features = X_train.shape[1]\n",
        "\n",
        "     model = AutoEncoder()\n",
        "\n",
        "     scaler = MinMaxScaler()\n",
        "     scaler.fit(X_train)\n",
        "     fscalers.append(scaler)\n",
        "     X_train = scaler.transform(X_train)\n",
        "     X_test  = scaler.transform(X_test)\n",
        "\n",
        "     cb_lr = tf.keras.callbacks.ReduceLROnPlateau(monitor = 'val_loss', factor = 0.4, patience = 2, verbose = 0, min_delta = 0.001, mode = 'min')\n",
        "     es = tf.keras.callbacks.EarlyStopping(monitor=\"val_loss\", patience=5, mode=\"min\")\n",
        "\n",
        "     model.compile(optimizer=tf.keras.optimizers.Adam(learning_rate = learning_rate),loss=\"mae\")\n",
        "     history = model.fit(X_train, X_train, epochs=100, batch_size=128,\n",
        "                         validation_data=(X_test, X_test),\n",
        "                         shuffle=True,\n",
        "                         callbacks=[cb_lr,es],\n",
        "                         verbose=2)\n",
        "      \n",
        "     models.append(model)\n",
        "     i_count += 1"
      ],
      "metadata": {
        "colab": {
          "base_uri": "https://localhost:8080/"
        },
        "id": "qC0sbRmZUH-B",
        "outputId": "604f7fb8-1db2-40aa-e8c2-fed1804a5e07"
      },
      "id": "qC0sbRmZUH-B",
      "execution_count": 119,
      "outputs": [
        {
          "output_type": "stream",
          "name": "stdout",
          "text": [
            "Fold 0\n",
            "Epoch 1/100\n",
            "1800/1800 - 7s - loss: 0.0303 - val_loss: 0.0267 - lr: 0.0010 - 7s/epoch - 4ms/step\n",
            "Epoch 2/100\n",
            "1800/1800 - 6s - loss: 0.0249 - val_loss: 0.0219 - lr: 0.0010 - 6s/epoch - 3ms/step\n",
            "Epoch 3/100\n",
            "1800/1800 - 5s - loss: 0.0218 - val_loss: 0.0178 - lr: 0.0010 - 5s/epoch - 3ms/step\n",
            "Epoch 4/100\n",
            "1800/1800 - 5s - loss: 0.0201 - val_loss: 0.0165 - lr: 0.0010 - 5s/epoch - 3ms/step\n",
            "Epoch 5/100\n",
            "1800/1800 - 5s - loss: 0.0196 - val_loss: 0.0158 - lr: 0.0010 - 5s/epoch - 3ms/step\n",
            "Epoch 6/100\n",
            "1800/1800 - 5s - loss: 0.0194 - val_loss: 0.0160 - lr: 0.0010 - 5s/epoch - 3ms/step\n",
            "Epoch 7/100\n",
            "1800/1800 - 5s - loss: 0.0192 - val_loss: 0.0157 - lr: 4.0000e-04 - 5s/epoch - 3ms/step\n",
            "Epoch 8/100\n",
            "1800/1800 - 6s - loss: 0.0192 - val_loss: 0.0156 - lr: 4.0000e-04 - 6s/epoch - 3ms/step\n",
            "Epoch 9/100\n",
            "1800/1800 - 5s - loss: 0.0191 - val_loss: 0.0156 - lr: 1.6000e-04 - 5s/epoch - 3ms/step\n",
            "Epoch 10/100\n",
            "1800/1800 - 6s - loss: 0.0191 - val_loss: 0.0156 - lr: 1.6000e-04 - 6s/epoch - 3ms/step\n",
            "Epoch 11/100\n",
            "1800/1800 - 5s - loss: 0.0190 - val_loss: 0.0155 - lr: 6.4000e-05 - 5s/epoch - 3ms/step\n",
            "Epoch 12/100\n",
            "1800/1800 - 5s - loss: 0.0190 - val_loss: 0.0154 - lr: 6.4000e-05 - 5s/epoch - 3ms/step\n",
            "Epoch 13/100\n",
            "1800/1800 - 6s - loss: 0.0190 - val_loss: 0.0154 - lr: 6.4000e-05 - 6s/epoch - 3ms/step\n",
            "Epoch 14/100\n",
            "1800/1800 - 5s - loss: 0.0190 - val_loss: 0.0154 - lr: 2.5600e-05 - 5s/epoch - 3ms/step\n",
            "Epoch 15/100\n",
            "1800/1800 - 5s - loss: 0.0190 - val_loss: 0.0154 - lr: 2.5600e-05 - 5s/epoch - 3ms/step\n",
            "Epoch 16/100\n",
            "1800/1800 - 5s - loss: 0.0190 - val_loss: 0.0154 - lr: 1.0240e-05 - 5s/epoch - 3ms/step\n",
            "Epoch 17/100\n",
            "1800/1800 - 5s - loss: 0.0190 - val_loss: 0.0154 - lr: 1.0240e-05 - 5s/epoch - 3ms/step\n",
            "Epoch 18/100\n",
            "1800/1800 - 5s - loss: 0.0190 - val_loss: 0.0154 - lr: 4.0960e-06 - 5s/epoch - 3ms/step\n",
            "Epoch 19/100\n",
            "1800/1800 - 6s - loss: 0.0190 - val_loss: 0.0154 - lr: 4.0960e-06 - 6s/epoch - 4ms/step\n",
            "Epoch 20/100\n",
            "1800/1800 - 5s - loss: 0.0190 - val_loss: 0.0154 - lr: 1.6384e-06 - 5s/epoch - 3ms/step\n",
            "Epoch 21/100\n",
            "1800/1800 - 5s - loss: 0.0190 - val_loss: 0.0154 - lr: 1.6384e-06 - 5s/epoch - 3ms/step\n",
            "Epoch 22/100\n",
            "1800/1800 - 5s - loss: 0.0190 - val_loss: 0.0154 - lr: 6.5536e-07 - 5s/epoch - 3ms/step\n",
            "Epoch 23/100\n",
            "1800/1800 - 5s - loss: 0.0190 - val_loss: 0.0154 - lr: 6.5536e-07 - 5s/epoch - 3ms/step\n",
            "Fold 1\n",
            "Epoch 1/100\n",
            "1800/1800 - 6s - loss: 0.0313 - val_loss: 0.0265 - lr: 0.0010 - 6s/epoch - 3ms/step\n",
            "Epoch 2/100\n",
            "1800/1800 - 6s - loss: 0.0257 - val_loss: 0.0224 - lr: 0.0010 - 6s/epoch - 3ms/step\n",
            "Epoch 3/100\n",
            "1800/1800 - 5s - loss: 0.0232 - val_loss: 0.0201 - lr: 0.0010 - 5s/epoch - 3ms/step\n",
            "Epoch 4/100\n",
            "1800/1800 - 5s - loss: 0.0221 - val_loss: 0.0186 - lr: 0.0010 - 5s/epoch - 3ms/step\n",
            "Epoch 5/100\n",
            "1800/1800 - 5s - loss: 0.0212 - val_loss: 0.0174 - lr: 0.0010 - 5s/epoch - 3ms/step\n",
            "Epoch 6/100\n",
            "1800/1800 - 5s - loss: 0.0207 - val_loss: 0.0170 - lr: 0.0010 - 5s/epoch - 3ms/step\n",
            "Epoch 7/100\n",
            "1800/1800 - 5s - loss: 0.0202 - val_loss: 0.0163 - lr: 0.0010 - 5s/epoch - 3ms/step\n",
            "Epoch 8/100\n",
            "1800/1800 - 5s - loss: 0.0199 - val_loss: 0.0162 - lr: 0.0010 - 5s/epoch - 3ms/step\n",
            "Epoch 9/100\n",
            "1800/1800 - 5s - loss: 0.0197 - val_loss: 0.0160 - lr: 0.0010 - 5s/epoch - 3ms/step\n",
            "Epoch 10/100\n",
            "1800/1800 - 5s - loss: 0.0194 - val_loss: 0.0158 - lr: 4.0000e-04 - 5s/epoch - 3ms/step\n",
            "Epoch 11/100\n",
            "1800/1800 - 5s - loss: 0.0193 - val_loss: 0.0156 - lr: 4.0000e-04 - 5s/epoch - 3ms/step\n",
            "Epoch 12/100\n",
            "1800/1800 - 5s - loss: 0.0192 - val_loss: 0.0155 - lr: 1.6000e-04 - 5s/epoch - 3ms/step\n",
            "Epoch 13/100\n",
            "1800/1800 - 5s - loss: 0.0192 - val_loss: 0.0154 - lr: 1.6000e-04 - 5s/epoch - 3ms/step\n",
            "Epoch 14/100\n",
            "1800/1800 - 6s - loss: 0.0192 - val_loss: 0.0154 - lr: 6.4000e-05 - 6s/epoch - 3ms/step\n",
            "Epoch 15/100\n",
            "1800/1800 - 5s - loss: 0.0191 - val_loss: 0.0153 - lr: 6.4000e-05 - 5s/epoch - 3ms/step\n",
            "Epoch 16/100\n",
            "1800/1800 - 5s - loss: 0.0191 - val_loss: 0.0154 - lr: 2.5600e-05 - 5s/epoch - 3ms/step\n",
            "Epoch 17/100\n",
            "1800/1800 - 5s - loss: 0.0191 - val_loss: 0.0154 - lr: 2.5600e-05 - 5s/epoch - 3ms/step\n",
            "Epoch 18/100\n",
            "1800/1800 - 5s - loss: 0.0191 - val_loss: 0.0153 - lr: 1.0240e-05 - 5s/epoch - 3ms/step\n",
            "Epoch 19/100\n",
            "1800/1800 - 5s - loss: 0.0191 - val_loss: 0.0153 - lr: 1.0240e-05 - 5s/epoch - 3ms/step\n",
            "Epoch 20/100\n",
            "1800/1800 - 5s - loss: 0.0191 - val_loss: 0.0153 - lr: 1.0240e-05 - 5s/epoch - 3ms/step\n",
            "Epoch 21/100\n",
            "1800/1800 - 5s - loss: 0.0191 - val_loss: 0.0153 - lr: 4.0960e-06 - 5s/epoch - 3ms/step\n",
            "Epoch 22/100\n",
            "1800/1800 - 5s - loss: 0.0191 - val_loss: 0.0153 - lr: 4.0960e-06 - 5s/epoch - 3ms/step\n",
            "Epoch 23/100\n",
            "1800/1800 - 5s - loss: 0.0191 - val_loss: 0.0153 - lr: 1.6384e-06 - 5s/epoch - 3ms/step\n",
            "Fold 2\n",
            "Epoch 1/100\n",
            "1800/1800 - 6s - loss: 0.0296 - val_loss: 0.0218 - lr: 0.0010 - 6s/epoch - 3ms/step\n",
            "Epoch 2/100\n",
            "1800/1800 - 5s - loss: 0.0226 - val_loss: 0.0195 - lr: 0.0010 - 5s/epoch - 3ms/step\n",
            "Epoch 3/100\n",
            "1800/1800 - 5s - loss: 0.0213 - val_loss: 0.0174 - lr: 0.0010 - 5s/epoch - 3ms/step\n",
            "Epoch 4/100\n",
            "1800/1800 - 5s - loss: 0.0204 - val_loss: 0.0172 - lr: 0.0010 - 5s/epoch - 3ms/step\n",
            "Epoch 5/100\n",
            "1800/1800 - 5s - loss: 0.0199 - val_loss: 0.0163 - lr: 0.0010 - 5s/epoch - 3ms/step\n",
            "Epoch 6/100\n",
            "1800/1800 - 5s - loss: 0.0196 - val_loss: 0.0161 - lr: 0.0010 - 5s/epoch - 3ms/step\n",
            "Epoch 7/100\n",
            "1800/1800 - 5s - loss: 0.0193 - val_loss: 0.0158 - lr: 0.0010 - 5s/epoch - 3ms/step\n",
            "Epoch 8/100\n",
            "1800/1800 - 5s - loss: 0.0190 - val_loss: 0.0154 - lr: 4.0000e-04 - 5s/epoch - 3ms/step\n",
            "Epoch 9/100\n",
            "1800/1800 - 5s - loss: 0.0189 - val_loss: 0.0152 - lr: 4.0000e-04 - 5s/epoch - 3ms/step\n",
            "Epoch 10/100\n",
            "1800/1800 - 6s - loss: 0.0188 - val_loss: 0.0150 - lr: 4.0000e-04 - 6s/epoch - 3ms/step\n",
            "Epoch 11/100\n",
            "1800/1800 - 5s - loss: 0.0187 - val_loss: 0.0150 - lr: 4.0000e-04 - 5s/epoch - 3ms/step\n",
            "Epoch 12/100\n",
            "1800/1800 - 5s - loss: 0.0186 - val_loss: 0.0148 - lr: 1.6000e-04 - 5s/epoch - 3ms/step\n",
            "Epoch 13/100\n",
            "1800/1800 - 5s - loss: 0.0185 - val_loss: 0.0147 - lr: 1.6000e-04 - 5s/epoch - 3ms/step\n",
            "Epoch 14/100\n",
            "1800/1800 - 5s - loss: 0.0185 - val_loss: 0.0146 - lr: 6.4000e-05 - 5s/epoch - 3ms/step\n",
            "Epoch 15/100\n",
            "1800/1800 - 5s - loss: 0.0185 - val_loss: 0.0147 - lr: 6.4000e-05 - 5s/epoch - 3ms/step\n",
            "Epoch 16/100\n",
            "1800/1800 - 5s - loss: 0.0185 - val_loss: 0.0146 - lr: 2.5600e-05 - 5s/epoch - 3ms/step\n",
            "Epoch 17/100\n",
            "1800/1800 - 5s - loss: 0.0185 - val_loss: 0.0146 - lr: 2.5600e-05 - 5s/epoch - 3ms/step\n",
            "Epoch 18/100\n",
            "1800/1800 - 5s - loss: 0.0185 - val_loss: 0.0146 - lr: 1.0240e-05 - 5s/epoch - 3ms/step\n",
            "Epoch 19/100\n",
            "1800/1800 - 5s - loss: 0.0185 - val_loss: 0.0146 - lr: 1.0240e-05 - 5s/epoch - 3ms/step\n",
            "Epoch 20/100\n",
            "1800/1800 - 5s - loss: 0.0185 - val_loss: 0.0146 - lr: 4.0960e-06 - 5s/epoch - 3ms/step\n",
            "Epoch 21/100\n",
            "1800/1800 - 5s - loss: 0.0185 - val_loss: 0.0146 - lr: 4.0960e-06 - 5s/epoch - 3ms/step\n",
            "Epoch 22/100\n",
            "1800/1800 - 6s - loss: 0.0185 - val_loss: 0.0146 - lr: 1.6384e-06 - 6s/epoch - 3ms/step\n",
            "Epoch 23/100\n",
            "1800/1800 - 5s - loss: 0.0185 - val_loss: 0.0146 - lr: 1.6384e-06 - 5s/epoch - 3ms/step\n",
            "Fold 3\n",
            "Epoch 1/100\n",
            "1800/1800 - 6s - loss: 0.0323 - val_loss: 0.0260 - lr: 0.0010 - 6s/epoch - 3ms/step\n",
            "Epoch 2/100\n",
            "1800/1800 - 5s - loss: 0.0255 - val_loss: 0.0211 - lr: 0.0010 - 5s/epoch - 3ms/step\n",
            "Epoch 3/100\n",
            "1800/1800 - 5s - loss: 0.0230 - val_loss: 0.0193 - lr: 0.0010 - 5s/epoch - 3ms/step\n",
            "Epoch 4/100\n",
            "1800/1800 - 5s - loss: 0.0224 - val_loss: 0.0189 - lr: 0.0010 - 5s/epoch - 3ms/step\n",
            "Epoch 5/100\n",
            "1800/1800 - 5s - loss: 0.0220 - val_loss: 0.0182 - lr: 0.0010 - 5s/epoch - 3ms/step\n",
            "Epoch 6/100\n",
            "1800/1800 - 6s - loss: 0.0214 - val_loss: 0.0181 - lr: 0.0010 - 6s/epoch - 3ms/step\n",
            "Epoch 7/100\n",
            "1800/1800 - 5s - loss: 0.0211 - val_loss: 0.0176 - lr: 0.0010 - 5s/epoch - 3ms/step\n",
            "Epoch 8/100\n",
            "1800/1800 - 5s - loss: 0.0208 - val_loss: 0.0171 - lr: 4.0000e-04 - 5s/epoch - 3ms/step\n",
            "Epoch 9/100\n",
            "1800/1800 - 5s - loss: 0.0207 - val_loss: 0.0170 - lr: 4.0000e-04 - 5s/epoch - 3ms/step\n",
            "Epoch 10/100\n",
            "1800/1800 - 5s - loss: 0.0206 - val_loss: 0.0171 - lr: 4.0000e-04 - 5s/epoch - 3ms/step\n",
            "Epoch 11/100\n",
            "1800/1800 - 5s - loss: 0.0205 - val_loss: 0.0169 - lr: 1.6000e-04 - 5s/epoch - 3ms/step\n",
            "Epoch 12/100\n",
            "1800/1800 - 5s - loss: 0.0205 - val_loss: 0.0169 - lr: 1.6000e-04 - 5s/epoch - 3ms/step\n",
            "Epoch 13/100\n",
            "1800/1800 - 5s - loss: 0.0205 - val_loss: 0.0168 - lr: 6.4000e-05 - 5s/epoch - 3ms/step\n",
            "Epoch 14/100\n",
            "1800/1800 - 5s - loss: 0.0205 - val_loss: 0.0169 - lr: 6.4000e-05 - 5s/epoch - 3ms/step\n",
            "Epoch 15/100\n",
            "1800/1800 - 5s - loss: 0.0205 - val_loss: 0.0169 - lr: 2.5600e-05 - 5s/epoch - 3ms/step\n",
            "Epoch 16/100\n",
            "1800/1800 - 5s - loss: 0.0205 - val_loss: 0.0168 - lr: 2.5600e-05 - 5s/epoch - 3ms/step\n",
            "Epoch 17/100\n",
            "1800/1800 - 5s - loss: 0.0205 - val_loss: 0.0168 - lr: 1.0240e-05 - 5s/epoch - 3ms/step\n",
            "Epoch 18/100\n",
            "1800/1800 - 6s - loss: 0.0205 - val_loss: 0.0169 - lr: 1.0240e-05 - 6s/epoch - 3ms/step\n",
            "Epoch 19/100\n",
            "1800/1800 - 5s - loss: 0.0205 - val_loss: 0.0168 - lr: 4.0960e-06 - 5s/epoch - 3ms/step\n",
            "Epoch 20/100\n",
            "1800/1800 - 5s - loss: 0.0205 - val_loss: 0.0168 - lr: 4.0960e-06 - 5s/epoch - 3ms/step\n",
            "Epoch 21/100\n",
            "1800/1800 - 5s - loss: 0.0204 - val_loss: 0.0168 - lr: 1.6384e-06 - 5s/epoch - 3ms/step\n",
            "Epoch 22/100\n",
            "1800/1800 - 5s - loss: 0.0204 - val_loss: 0.0168 - lr: 1.6384e-06 - 5s/epoch - 3ms/step\n",
            "Epoch 23/100\n",
            "1800/1800 - 5s - loss: 0.0204 - val_loss: 0.0168 - lr: 6.5536e-07 - 5s/epoch - 3ms/step\n",
            "Epoch 24/100\n",
            "1800/1800 - 5s - loss: 0.0204 - val_loss: 0.0168 - lr: 6.5536e-07 - 5s/epoch - 3ms/step\n",
            "Epoch 25/100\n",
            "1800/1800 - 5s - loss: 0.0204 - val_loss: 0.0168 - lr: 2.6214e-07 - 5s/epoch - 3ms/step\n",
            "Epoch 26/100\n",
            "1800/1800 - 5s - loss: 0.0204 - val_loss: 0.0168 - lr: 2.6214e-07 - 5s/epoch - 3ms/step\n",
            "Epoch 27/100\n",
            "1800/1800 - 5s - loss: 0.0204 - val_loss: 0.0168 - lr: 1.0486e-07 - 5s/epoch - 3ms/step\n",
            "Fold 4\n",
            "Epoch 1/100\n",
            "1800/1800 - 6s - loss: 0.0299 - val_loss: 0.0300 - lr: 0.0010 - 6s/epoch - 3ms/step\n",
            "Epoch 2/100\n",
            "1800/1800 - 6s - loss: 0.0269 - val_loss: 0.0300 - lr: 0.0010 - 6s/epoch - 3ms/step\n",
            "Epoch 3/100\n",
            "1800/1800 - 5s - loss: 0.0269 - val_loss: 0.0300 - lr: 0.0010 - 5s/epoch - 3ms/step\n",
            "Epoch 4/100\n",
            "1800/1800 - 5s - loss: 0.0268 - val_loss: 0.0299 - lr: 4.0000e-04 - 5s/epoch - 3ms/step\n",
            "Epoch 5/100\n",
            "1800/1800 - 5s - loss: 0.0268 - val_loss: 0.0300 - lr: 4.0000e-04 - 5s/epoch - 3ms/step\n",
            "Epoch 6/100\n",
            "1800/1800 - 5s - loss: 0.0268 - val_loss: 0.0299 - lr: 1.6000e-04 - 5s/epoch - 3ms/step\n",
            "Epoch 7/100\n",
            "1800/1800 - 5s - loss: 0.0268 - val_loss: 0.0293 - lr: 1.6000e-04 - 5s/epoch - 3ms/step\n",
            "Epoch 8/100\n",
            "1800/1800 - 5s - loss: 0.0257 - val_loss: 0.0286 - lr: 6.4000e-05 - 5s/epoch - 3ms/step\n",
            "Epoch 9/100\n",
            "1800/1800 - 5s - loss: 0.0254 - val_loss: 0.0285 - lr: 6.4000e-05 - 5s/epoch - 3ms/step\n",
            "Epoch 10/100\n",
            "1800/1800 - 5s - loss: 0.0252 - val_loss: 0.0283 - lr: 6.4000e-05 - 5s/epoch - 3ms/step\n",
            "Epoch 11/100\n",
            "1800/1800 - 5s - loss: 0.0250 - val_loss: 0.0282 - lr: 2.5600e-05 - 5s/epoch - 3ms/step\n",
            "Epoch 12/100\n",
            "1800/1800 - 5s - loss: 0.0250 - val_loss: 0.0281 - lr: 2.5600e-05 - 5s/epoch - 3ms/step\n",
            "Epoch 13/100\n",
            "1800/1800 - 5s - loss: 0.0249 - val_loss: 0.0281 - lr: 1.0240e-05 - 5s/epoch - 3ms/step\n",
            "Epoch 14/100\n",
            "1800/1800 - 6s - loss: 0.0249 - val_loss: 0.0280 - lr: 1.0240e-05 - 6s/epoch - 4ms/step\n",
            "Epoch 15/100\n",
            "1800/1800 - 5s - loss: 0.0249 - val_loss: 0.0280 - lr: 4.0960e-06 - 5s/epoch - 3ms/step\n",
            "Epoch 16/100\n",
            "1800/1800 - 5s - loss: 0.0248 - val_loss: 0.0280 - lr: 4.0960e-06 - 5s/epoch - 3ms/step\n",
            "Epoch 17/100\n",
            "1800/1800 - 5s - loss: 0.0248 - val_loss: 0.0280 - lr: 1.6384e-06 - 5s/epoch - 3ms/step\n",
            "Epoch 18/100\n",
            "1800/1800 - 5s - loss: 0.0248 - val_loss: 0.0280 - lr: 1.6384e-06 - 5s/epoch - 3ms/step\n",
            "Epoch 19/100\n",
            "1800/1800 - 5s - loss: 0.0248 - val_loss: 0.0280 - lr: 6.5536e-07 - 5s/epoch - 3ms/step\n",
            "Epoch 20/100\n",
            "1800/1800 - 5s - loss: 0.0248 - val_loss: 0.0280 - lr: 6.5536e-07 - 5s/epoch - 3ms/step\n",
            "Epoch 21/100\n",
            "1800/1800 - 5s - loss: 0.0248 - val_loss: 0.0280 - lr: 2.6214e-07 - 5s/epoch - 3ms/step\n",
            "Epoch 22/100\n",
            "1800/1800 - 5s - loss: 0.0248 - val_loss: 0.0280 - lr: 2.6214e-07 - 5s/epoch - 3ms/step\n",
            "Epoch 23/100\n",
            "1800/1800 - 5s - loss: 0.0248 - val_loss: 0.0280 - lr: 1.0486e-07 - 5s/epoch - 3ms/step\n",
            "Epoch 24/100\n",
            "1800/1800 - 5s - loss: 0.0248 - val_loss: 0.0280 - lr: 1.0486e-07 - 5s/epoch - 3ms/step\n",
            "Epoch 25/100\n",
            "1800/1800 - 5s - loss: 0.0248 - val_loss: 0.0280 - lr: 4.1943e-08 - 5s/epoch - 3ms/step\n",
            "Epoch 26/100\n",
            "1800/1800 - 6s - loss: 0.0248 - val_loss: 0.0280 - lr: 4.1943e-08 - 6s/epoch - 3ms/step\n",
            "Epoch 27/100\n",
            "1800/1800 - 5s - loss: 0.0248 - val_loss: 0.0280 - lr: 1.6777e-08 - 5s/epoch - 3ms/step\n",
            "Epoch 28/100\n",
            "1800/1800 - 5s - loss: 0.0248 - val_loss: 0.0280 - lr: 1.6777e-08 - 5s/epoch - 3ms/step\n",
            "Epoch 29/100\n",
            "1800/1800 - 5s - loss: 0.0248 - val_loss: 0.0280 - lr: 6.7109e-09 - 5s/epoch - 3ms/step\n",
            "Epoch 30/100\n",
            "1800/1800 - 5s - loss: 0.0248 - val_loss: 0.0280 - lr: 6.7109e-09 - 5s/epoch - 3ms/step\n",
            "Epoch 31/100\n",
            "1800/1800 - 5s - loss: 0.0248 - val_loss: 0.0280 - lr: 2.6844e-09 - 5s/epoch - 3ms/step\n",
            "Epoch 32/100\n",
            "1800/1800 - 5s - loss: 0.0248 - val_loss: 0.0280 - lr: 2.6844e-09 - 5s/epoch - 3ms/step\n",
            "Epoch 33/100\n",
            "1800/1800 - 5s - loss: 0.0248 - val_loss: 0.0280 - lr: 1.0737e-09 - 5s/epoch - 3ms/step\n",
            "Epoch 34/100\n",
            "1800/1800 - 5s - loss: 0.0248 - val_loss: 0.0280 - lr: 1.0737e-09 - 5s/epoch - 3ms/step\n",
            "Epoch 35/100\n",
            "1800/1800 - 5s - loss: 0.0248 - val_loss: 0.0280 - lr: 4.2950e-10 - 5s/epoch - 3ms/step\n",
            "Fold 5\n",
            "Epoch 1/100\n",
            "1800/1800 - 6s - loss: 0.0302 - val_loss: 0.0258 - lr: 0.0010 - 6s/epoch - 3ms/step\n",
            "Epoch 2/100\n",
            "1800/1800 - 5s - loss: 0.0232 - val_loss: 0.0218 - lr: 0.0010 - 5s/epoch - 3ms/step\n",
            "Epoch 3/100\n",
            "1800/1800 - 5s - loss: 0.0209 - val_loss: 0.0187 - lr: 0.0010 - 5s/epoch - 3ms/step\n",
            "Epoch 4/100\n",
            "1800/1800 - 5s - loss: 0.0197 - val_loss: 0.0181 - lr: 0.0010 - 5s/epoch - 3ms/step\n",
            "Epoch 5/100\n",
            "1800/1800 - 5s - loss: 0.0193 - val_loss: 0.0180 - lr: 0.0010 - 5s/epoch - 3ms/step\n",
            "Epoch 6/100\n",
            "1800/1800 - 5s - loss: 0.0189 - val_loss: 0.0176 - lr: 4.0000e-04 - 5s/epoch - 3ms/step\n",
            "Epoch 7/100\n",
            "1800/1800 - 5s - loss: 0.0188 - val_loss: 0.0174 - lr: 4.0000e-04 - 5s/epoch - 3ms/step\n",
            "Epoch 8/100\n",
            "1800/1800 - 5s - loss: 0.0187 - val_loss: 0.0173 - lr: 4.0000e-04 - 5s/epoch - 3ms/step\n",
            "Epoch 9/100\n",
            "1800/1800 - 5s - loss: 0.0186 - val_loss: 0.0172 - lr: 1.6000e-04 - 5s/epoch - 3ms/step\n",
            "Epoch 10/100\n",
            "1800/1800 - 5s - loss: 0.0185 - val_loss: 0.0172 - lr: 1.6000e-04 - 5s/epoch - 3ms/step\n",
            "Epoch 11/100\n",
            "1800/1800 - 6s - loss: 0.0185 - val_loss: 0.0171 - lr: 6.4000e-05 - 6s/epoch - 3ms/step\n",
            "Epoch 12/100\n",
            "1800/1800 - 5s - loss: 0.0185 - val_loss: 0.0172 - lr: 6.4000e-05 - 5s/epoch - 3ms/step\n",
            "Epoch 13/100\n",
            "1800/1800 - 5s - loss: 0.0185 - val_loss: 0.0171 - lr: 2.5600e-05 - 5s/epoch - 3ms/step\n",
            "Epoch 14/100\n",
            "1800/1800 - 5s - loss: 0.0185 - val_loss: 0.0171 - lr: 2.5600e-05 - 5s/epoch - 3ms/step\n",
            "Epoch 15/100\n",
            "1800/1800 - 5s - loss: 0.0185 - val_loss: 0.0171 - lr: 1.0240e-05 - 5s/epoch - 3ms/step\n",
            "Epoch 16/100\n",
            "1800/1800 - 5s - loss: 0.0185 - val_loss: 0.0171 - lr: 1.0240e-05 - 5s/epoch - 3ms/step\n",
            "Epoch 17/100\n",
            "1800/1800 - 5s - loss: 0.0185 - val_loss: 0.0171 - lr: 4.0960e-06 - 5s/epoch - 3ms/step\n",
            "Epoch 18/100\n",
            "1800/1800 - 5s - loss: 0.0185 - val_loss: 0.0171 - lr: 4.0960e-06 - 5s/epoch - 3ms/step\n",
            "Epoch 19/100\n",
            "1800/1800 - 5s - loss: 0.0185 - val_loss: 0.0171 - lr: 1.6384e-06 - 5s/epoch - 3ms/step\n",
            "Epoch 20/100\n",
            "1800/1800 - 5s - loss: 0.0185 - val_loss: 0.0171 - lr: 1.6384e-06 - 5s/epoch - 3ms/step\n",
            "Epoch 21/100\n",
            "1800/1800 - 5s - loss: 0.0185 - val_loss: 0.0171 - lr: 6.5536e-07 - 5s/epoch - 3ms/step\n",
            "Fold 6\n",
            "Epoch 1/100\n",
            "1800/1800 - 6s - loss: 0.0295 - val_loss: 0.0276 - lr: 0.0010 - 6s/epoch - 3ms/step\n",
            "Epoch 2/100\n",
            "1800/1800 - 7s - loss: 0.0265 - val_loss: 0.0257 - lr: 0.0010 - 7s/epoch - 4ms/step\n",
            "Epoch 3/100\n",
            "1800/1800 - 5s - loss: 0.0243 - val_loss: 0.0235 - lr: 0.0010 - 5s/epoch - 3ms/step\n",
            "Epoch 4/100\n",
            "1800/1800 - 5s - loss: 0.0226 - val_loss: 0.0211 - lr: 0.0010 - 5s/epoch - 3ms/step\n",
            "Epoch 5/100\n",
            "1800/1800 - 5s - loss: 0.0214 - val_loss: 0.0204 - lr: 0.0010 - 5s/epoch - 3ms/step\n",
            "Epoch 6/100\n",
            "1800/1800 - 5s - loss: 0.0209 - val_loss: 0.0196 - lr: 0.0010 - 5s/epoch - 3ms/step\n",
            "Epoch 7/100\n",
            "1800/1800 - 5s - loss: 0.0203 - val_loss: 0.0189 - lr: 0.0010 - 5s/epoch - 3ms/step\n",
            "Epoch 8/100\n",
            "1800/1800 - 5s - loss: 0.0197 - val_loss: 0.0176 - lr: 0.0010 - 5s/epoch - 3ms/step\n",
            "Epoch 9/100\n",
            "1800/1800 - 5s - loss: 0.0190 - val_loss: 0.0171 - lr: 0.0010 - 5s/epoch - 3ms/step\n",
            "Epoch 10/100\n",
            "1800/1800 - 5s - loss: 0.0187 - val_loss: 0.0167 - lr: 0.0010 - 5s/epoch - 3ms/step\n",
            "Epoch 11/100\n",
            "1800/1800 - 5s - loss: 0.0185 - val_loss: 0.0166 - lr: 4.0000e-04 - 5s/epoch - 3ms/step\n",
            "Epoch 12/100\n",
            "1800/1800 - 5s - loss: 0.0184 - val_loss: 0.0164 - lr: 4.0000e-04 - 5s/epoch - 3ms/step\n",
            "Epoch 13/100\n",
            "1800/1800 - 5s - loss: 0.0184 - val_loss: 0.0164 - lr: 4.0000e-04 - 5s/epoch - 3ms/step\n",
            "Epoch 14/100\n",
            "1800/1800 - 6s - loss: 0.0183 - val_loss: 0.0163 - lr: 1.6000e-04 - 6s/epoch - 3ms/step\n",
            "Epoch 15/100\n",
            "1800/1800 - 5s - loss: 0.0183 - val_loss: 0.0163 - lr: 1.6000e-04 - 5s/epoch - 3ms/step\n",
            "Epoch 16/100\n",
            "1800/1800 - 5s - loss: 0.0182 - val_loss: 0.0162 - lr: 6.4000e-05 - 5s/epoch - 3ms/step\n",
            "Epoch 17/100\n",
            "1800/1800 - 5s - loss: 0.0182 - val_loss: 0.0162 - lr: 6.4000e-05 - 5s/epoch - 3ms/step\n",
            "Epoch 18/100\n",
            "1800/1800 - 5s - loss: 0.0182 - val_loss: 0.0162 - lr: 2.5600e-05 - 5s/epoch - 3ms/step\n",
            "Epoch 19/100\n",
            "1800/1800 - 5s - loss: 0.0182 - val_loss: 0.0162 - lr: 2.5600e-05 - 5s/epoch - 3ms/step\n",
            "Epoch 20/100\n",
            "1800/1800 - 5s - loss: 0.0182 - val_loss: 0.0162 - lr: 1.0240e-05 - 5s/epoch - 3ms/step\n",
            "Epoch 21/100\n",
            "1800/1800 - 5s - loss: 0.0182 - val_loss: 0.0162 - lr: 1.0240e-05 - 5s/epoch - 3ms/step\n",
            "Epoch 22/100\n",
            "1800/1800 - 5s - loss: 0.0182 - val_loss: 0.0162 - lr: 4.0960e-06 - 5s/epoch - 3ms/step\n",
            "Epoch 23/100\n",
            "1800/1800 - 5s - loss: 0.0182 - val_loss: 0.0162 - lr: 4.0960e-06 - 5s/epoch - 3ms/step\n",
            "Epoch 24/100\n",
            "1800/1800 - 5s - loss: 0.0182 - val_loss: 0.0162 - lr: 1.6384e-06 - 5s/epoch - 3ms/step\n",
            "Epoch 25/100\n",
            "1800/1800 - 5s - loss: 0.0182 - val_loss: 0.0162 - lr: 1.6384e-06 - 5s/epoch - 3ms/step\n",
            "Epoch 26/100\n",
            "1800/1800 - 6s - loss: 0.0182 - val_loss: 0.0162 - lr: 6.5536e-07 - 6s/epoch - 3ms/step\n",
            "Epoch 27/100\n",
            "1800/1800 - 5s - loss: 0.0182 - val_loss: 0.0162 - lr: 6.5536e-07 - 5s/epoch - 3ms/step\n",
            "Epoch 28/100\n",
            "1800/1800 - 5s - loss: 0.0182 - val_loss: 0.0162 - lr: 2.6214e-07 - 5s/epoch - 3ms/step\n",
            "Fold 7\n",
            "Epoch 1/100\n",
            "1800/1800 - 6s - loss: 0.0305 - val_loss: 0.0276 - lr: 0.0010 - 6s/epoch - 3ms/step\n",
            "Epoch 2/100\n",
            "1800/1800 - 5s - loss: 0.0257 - val_loss: 0.0236 - lr: 0.0010 - 5s/epoch - 3ms/step\n",
            "Epoch 3/100\n",
            "1800/1800 - 5s - loss: 0.0223 - val_loss: 0.0203 - lr: 0.0010 - 5s/epoch - 3ms/step\n",
            "Epoch 4/100\n",
            "1800/1800 - 5s - loss: 0.0206 - val_loss: 0.0193 - lr: 0.0010 - 5s/epoch - 3ms/step\n",
            "Epoch 5/100\n",
            "1800/1800 - 5s - loss: 0.0202 - val_loss: 0.0187 - lr: 0.0010 - 5s/epoch - 3ms/step\n",
            "Epoch 6/100\n",
            "1800/1800 - 5s - loss: 0.0200 - val_loss: 0.0184 - lr: 0.0010 - 5s/epoch - 3ms/step\n",
            "Epoch 7/100\n",
            "1800/1800 - 5s - loss: 0.0198 - val_loss: 0.0182 - lr: 4.0000e-04 - 5s/epoch - 3ms/step\n",
            "Epoch 8/100\n",
            "1800/1800 - 5s - loss: 0.0197 - val_loss: 0.0181 - lr: 4.0000e-04 - 5s/epoch - 3ms/step\n",
            "Epoch 9/100\n",
            "1800/1800 - 5s - loss: 0.0193 - val_loss: 0.0174 - lr: 4.0000e-04 - 5s/epoch - 3ms/step\n",
            "Epoch 10/100\n",
            "1800/1800 - 5s - loss: 0.0191 - val_loss: 0.0171 - lr: 1.6000e-04 - 5s/epoch - 3ms/step\n",
            "Epoch 11/100\n",
            "1800/1800 - 5s - loss: 0.0190 - val_loss: 0.0171 - lr: 1.6000e-04 - 5s/epoch - 3ms/step\n",
            "Epoch 12/100\n",
            "1800/1800 - 6s - loss: 0.0189 - val_loss: 0.0169 - lr: 1.6000e-04 - 6s/epoch - 3ms/step\n",
            "Epoch 13/100\n",
            "1800/1800 - 5s - loss: 0.0188 - val_loss: 0.0168 - lr: 6.4000e-05 - 5s/epoch - 3ms/step\n",
            "Epoch 14/100\n",
            "1800/1800 - 5s - loss: 0.0188 - val_loss: 0.0167 - lr: 6.4000e-05 - 5s/epoch - 3ms/step\n",
            "Epoch 15/100\n",
            "1800/1800 - 5s - loss: 0.0188 - val_loss: 0.0168 - lr: 2.5600e-05 - 5s/epoch - 3ms/step\n",
            "Epoch 16/100\n",
            "1800/1800 - 5s - loss: 0.0188 - val_loss: 0.0167 - lr: 2.5600e-05 - 5s/epoch - 3ms/step\n",
            "Epoch 17/100\n",
            "1800/1800 - 5s - loss: 0.0187 - val_loss: 0.0168 - lr: 1.0240e-05 - 5s/epoch - 3ms/step\n",
            "Epoch 18/100\n",
            "1800/1800 - 5s - loss: 0.0187 - val_loss: 0.0167 - lr: 1.0240e-05 - 5s/epoch - 3ms/step\n",
            "Epoch 19/100\n",
            "1800/1800 - 5s - loss: 0.0187 - val_loss: 0.0167 - lr: 4.0960e-06 - 5s/epoch - 3ms/step\n",
            "Epoch 20/100\n",
            "1800/1800 - 5s - loss: 0.0187 - val_loss: 0.0167 - lr: 4.0960e-06 - 5s/epoch - 3ms/step\n",
            "Epoch 21/100\n",
            "1800/1800 - 5s - loss: 0.0187 - val_loss: 0.0167 - lr: 1.6384e-06 - 5s/epoch - 3ms/step\n",
            "Epoch 22/100\n",
            "1800/1800 - 5s - loss: 0.0187 - val_loss: 0.0167 - lr: 1.6384e-06 - 5s/epoch - 3ms/step\n",
            "Epoch 23/100\n",
            "1800/1800 - 5s - loss: 0.0187 - val_loss: 0.0167 - lr: 6.5536e-07 - 5s/epoch - 3ms/step\n",
            "Epoch 24/100\n",
            "1800/1800 - 7s - loss: 0.0187 - val_loss: 0.0167 - lr: 6.5536e-07 - 7s/epoch - 4ms/step\n",
            "Epoch 25/100\n",
            "1800/1800 - 5s - loss: 0.0187 - val_loss: 0.0167 - lr: 2.6214e-07 - 5s/epoch - 3ms/step\n",
            "Epoch 26/100\n",
            "1800/1800 - 5s - loss: 0.0187 - val_loss: 0.0167 - lr: 2.6214e-07 - 5s/epoch - 3ms/step\n",
            "Epoch 27/100\n",
            "1800/1800 - 5s - loss: 0.0187 - val_loss: 0.0167 - lr: 1.0486e-07 - 5s/epoch - 3ms/step\n",
            "Epoch 28/100\n",
            "1800/1800 - 5s - loss: 0.0187 - val_loss: 0.0167 - lr: 1.0486e-07 - 5s/epoch - 3ms/step\n",
            "Fold 8\n",
            "Epoch 1/100\n",
            "1800/1800 - 6s - loss: 0.0303 - val_loss: 0.0267 - lr: 0.0010 - 6s/epoch - 3ms/step\n",
            "Epoch 2/100\n",
            "1800/1800 - 5s - loss: 0.0271 - val_loss: 0.0266 - lr: 0.0010 - 5s/epoch - 3ms/step\n",
            "Epoch 3/100\n",
            "1800/1800 - 5s - loss: 0.0253 - val_loss: 0.0228 - lr: 0.0010 - 5s/epoch - 3ms/step\n",
            "Epoch 4/100\n",
            "1800/1800 - 5s - loss: 0.0226 - val_loss: 0.0201 - lr: 0.0010 - 5s/epoch - 3ms/step\n",
            "Epoch 5/100\n",
            "1800/1800 - 5s - loss: 0.0211 - val_loss: 0.0182 - lr: 0.0010 - 5s/epoch - 3ms/step\n",
            "Epoch 6/100\n",
            "1800/1800 - 5s - loss: 0.0204 - val_loss: 0.0180 - lr: 0.0010 - 5s/epoch - 3ms/step\n",
            "Epoch 7/100\n",
            "1800/1800 - 5s - loss: 0.0202 - val_loss: 0.0177 - lr: 0.0010 - 5s/epoch - 3ms/step\n",
            "Epoch 8/100\n",
            "1800/1800 - 7s - loss: 0.0200 - val_loss: 0.0177 - lr: 4.0000e-04 - 7s/epoch - 4ms/step\n",
            "Epoch 9/100\n",
            "1800/1800 - 5s - loss: 0.0200 - val_loss: 0.0177 - lr: 4.0000e-04 - 5s/epoch - 3ms/step\n",
            "Epoch 10/100\n",
            "1800/1800 - 5s - loss: 0.0199 - val_loss: 0.0174 - lr: 1.6000e-04 - 5s/epoch - 3ms/step\n",
            "Epoch 11/100\n",
            "1800/1800 - 5s - loss: 0.0198 - val_loss: 0.0174 - lr: 1.6000e-04 - 5s/epoch - 3ms/step\n",
            "Epoch 12/100\n",
            "1800/1800 - 5s - loss: 0.0198 - val_loss: 0.0173 - lr: 6.4000e-05 - 5s/epoch - 3ms/step\n",
            "Epoch 13/100\n",
            "1800/1800 - 5s - loss: 0.0198 - val_loss: 0.0174 - lr: 6.4000e-05 - 5s/epoch - 3ms/step\n",
            "Epoch 14/100\n",
            "1800/1800 - 5s - loss: 0.0198 - val_loss: 0.0173 - lr: 2.5600e-05 - 5s/epoch - 3ms/step\n",
            "Epoch 15/100\n",
            "1800/1800 - 5s - loss: 0.0198 - val_loss: 0.0173 - lr: 2.5600e-05 - 5s/epoch - 3ms/step\n",
            "Epoch 16/100\n",
            "1800/1800 - 5s - loss: 0.0198 - val_loss: 0.0173 - lr: 1.0240e-05 - 5s/epoch - 3ms/step\n",
            "Epoch 17/100\n",
            "1800/1800 - 5s - loss: 0.0198 - val_loss: 0.0173 - lr: 1.0240e-05 - 5s/epoch - 3ms/step\n",
            "Epoch 18/100\n",
            "1800/1800 - 5s - loss: 0.0198 - val_loss: 0.0173 - lr: 4.0960e-06 - 5s/epoch - 3ms/step\n",
            "Epoch 19/100\n",
            "1800/1800 - 5s - loss: 0.0198 - val_loss: 0.0173 - lr: 4.0960e-06 - 5s/epoch - 3ms/step\n",
            "Epoch 20/100\n",
            "1800/1800 - 6s - loss: 0.0198 - val_loss: 0.0173 - lr: 1.6384e-06 - 6s/epoch - 3ms/step\n",
            "Epoch 21/100\n",
            "1800/1800 - 5s - loss: 0.0198 - val_loss: 0.0173 - lr: 1.6384e-06 - 5s/epoch - 3ms/step\n",
            "Fold 9\n",
            "Epoch 1/100\n",
            "1800/1800 - 6s - loss: 0.0323 - val_loss: 0.0280 - lr: 0.0010 - 6s/epoch - 3ms/step\n",
            "Epoch 2/100\n",
            "1800/1800 - 5s - loss: 0.0262 - val_loss: 0.0226 - lr: 0.0010 - 5s/epoch - 3ms/step\n",
            "Epoch 3/100\n",
            "1800/1800 - 5s - loss: 0.0237 - val_loss: 0.0200 - lr: 0.0010 - 5s/epoch - 3ms/step\n",
            "Epoch 4/100\n",
            "1800/1800 - 5s - loss: 0.0227 - val_loss: 0.0195 - lr: 0.0010 - 5s/epoch - 3ms/step\n",
            "Epoch 5/100\n",
            "1800/1800 - 5s - loss: 0.0221 - val_loss: 0.0187 - lr: 0.0010 - 5s/epoch - 3ms/step\n",
            "Epoch 6/100\n",
            "1800/1800 - 5s - loss: 0.0215 - val_loss: 0.0180 - lr: 0.0010 - 5s/epoch - 3ms/step\n",
            "Epoch 7/100\n",
            "1800/1800 - 5s - loss: 0.0212 - val_loss: 0.0178 - lr: 0.0010 - 5s/epoch - 3ms/step\n",
            "Epoch 8/100\n",
            "1800/1800 - 5s - loss: 0.0209 - val_loss: 0.0175 - lr: 4.0000e-04 - 5s/epoch - 3ms/step\n",
            "Epoch 9/100\n",
            "1800/1800 - 5s - loss: 0.0209 - val_loss: 0.0175 - lr: 4.0000e-04 - 5s/epoch - 3ms/step\n",
            "Epoch 10/100\n",
            "1800/1800 - 5s - loss: 0.0208 - val_loss: 0.0175 - lr: 4.0000e-04 - 5s/epoch - 3ms/step\n",
            "Epoch 11/100\n",
            "1800/1800 - 5s - loss: 0.0207 - val_loss: 0.0174 - lr: 1.6000e-04 - 5s/epoch - 3ms/step\n",
            "Epoch 12/100\n",
            "1800/1800 - 6s - loss: 0.0207 - val_loss: 0.0174 - lr: 1.6000e-04 - 6s/epoch - 3ms/step\n",
            "Epoch 13/100\n",
            "1800/1800 - 5s - loss: 0.0206 - val_loss: 0.0173 - lr: 6.4000e-05 - 5s/epoch - 3ms/step\n",
            "Epoch 14/100\n",
            "1800/1800 - 5s - loss: 0.0206 - val_loss: 0.0173 - lr: 6.4000e-05 - 5s/epoch - 3ms/step\n",
            "Epoch 15/100\n",
            "1800/1800 - 5s - loss: 0.0206 - val_loss: 0.0173 - lr: 2.5600e-05 - 5s/epoch - 3ms/step\n",
            "Epoch 16/100\n",
            "1800/1800 - 5s - loss: 0.0206 - val_loss: 0.0173 - lr: 2.5600e-05 - 5s/epoch - 3ms/step\n",
            "Epoch 17/100\n",
            "1800/1800 - 5s - loss: 0.0206 - val_loss: 0.0173 - lr: 1.0240e-05 - 5s/epoch - 3ms/step\n",
            "Epoch 18/100\n",
            "1800/1800 - 5s - loss: 0.0206 - val_loss: 0.0173 - lr: 1.0240e-05 - 5s/epoch - 3ms/step\n",
            "Epoch 19/100\n",
            "1800/1800 - 5s - loss: 0.0206 - val_loss: 0.0173 - lr: 4.0960e-06 - 5s/epoch - 3ms/step\n",
            "Epoch 20/100\n",
            "1800/1800 - 5s - loss: 0.0206 - val_loss: 0.0173 - lr: 4.0960e-06 - 5s/epoch - 3ms/step\n",
            "Epoch 21/100\n",
            "1800/1800 - 5s - loss: 0.0206 - val_loss: 0.0173 - lr: 1.6384e-06 - 5s/epoch - 3ms/step\n",
            "Epoch 22/100\n",
            "1800/1800 - 5s - loss: 0.0206 - val_loss: 0.0173 - lr: 1.6384e-06 - 5s/epoch - 3ms/step\n",
            "Epoch 23/100\n",
            "1800/1800 - 5s - loss: 0.0206 - val_loss: 0.0173 - lr: 6.5536e-07 - 5s/epoch - 3ms/step\n"
          ]
        }
      ]
    },
    {
      "cell_type": "code",
      "execution_count": 125,
      "id": "fb215222",
      "metadata": {
        "id": "fb215222"
      },
      "outputs": [],
      "source": [
        "decoder_out = np.zeros( (holdout.shape) , dtype=np.float64)\n",
        "\n",
        "for fold in range(n_folds):\n",
        "  #Test data\n",
        "  scaler = fscalers[fold]\n",
        "  X_test  = scaler.transform(holdout)\n",
        "\n",
        "  encoder_out = model.encoder(X_test).numpy() \n",
        "  decoder_out += model.decoder(encoder_out).numpy()\n",
        "\n",
        "decoder_out /= n_folds"
      ]
    },
    {
      "cell_type": "code",
      "execution_count": 127,
      "id": "2ea72c4f",
      "metadata": {
        "colab": {
          "base_uri": "https://localhost:8080/",
          "height": 336
        },
        "id": "2ea72c4f",
        "outputId": "c506220f-2788-4902-c186-49c8cf47b83d"
      },
      "outputs": [
        {
          "output_type": "display_data",
          "data": {
            "text/plain": [
              "<Figure size 720x360 with 1 Axes>"
            ],
            "image/png": "[encoded data removed]"
          },
          "metadata": {
            "needs_background": "light"
          }
        }
      ],
      "source": [
        "fig = plt.figure(figsize = (10, 5))\n",
        "plt.plot(X_test[2], 'b')\n",
        "plt.plot(decoder_out[2], 'r')\n",
        "plt.title(\"Model performance on Test Normal data\")\n",
        "plt.show()"
      ]
    },
    {
      "cell_type": "code",
      "execution_count": 128,
      "id": "b47a5494",
      "metadata": {
        "id": "b47a5494"
      },
      "outputs": [],
      "source": [
        "decoder_out = np.zeros( (data1.shape) , dtype=np.float64)\n",
        "\n",
        "for fold in range(n_folds):\n",
        "  #Test data\n",
        "  scaler = fscalers[fold]\n",
        "  X_test  = scaler.transform(data1)\n",
        "\n",
        "  encoder_out = model.encoder(X_test).numpy() \n",
        "  decoder_out += model.decoder(encoder_out).numpy()\n",
        "\n",
        "decoder_out /= n_folds"
      ]
    },
    {
      "cell_type": "code",
      "execution_count": 132,
      "id": "9d49945d",
      "metadata": {
        "colab": {
          "base_uri": "https://localhost:8080/",
          "height": 336
        },
        "id": "9d49945d",
        "outputId": "f3a592dd-09e3-4a4e-dddd-297f4cf90784"
      },
      "outputs": [
        {
          "output_type": "display_data",
          "data": {
            "text/plain": [
              "<Figure size 720x360 with 1 Axes>"
            ],
            "image/png": "[encoded data removed]"
          },
          "metadata": {
            "needs_background": "light"
          }
        }
      ],
      "source": [
        "fig = plt.figure(figsize = (10, 5))\n",
        "plt.plot(X_test[2], 'b')\n",
        "plt.plot(decoder_out[2], 'r')\n",
        "plt.title(\"Model performance on Train Anomaly Data\")\n",
        "plt.show()"
      ]
    },
    {
      "cell_type": "markdown",
      "id": "56d97c1a",
      "metadata": {
        "id": "56d97c1a"
      },
      "source": [
        "Detecting anomalies\n",
        "We will detect anomalies by determining how well our model can reconstruct the input data.\n",
        "\n",
        "Find MAE loss on training samples.\n",
        "Find max MAE loss value. This is the worst our model has performed trying to reconstruct a sample. We will make this the threshold for anomaly detection.\n",
        "If the reconstruction loss for a sample is greater than this threshold value then we can infer that the model is seeing a pattern that it isn't familiar with. We will label this sample as an anomaly."
      ]
    },
    {
      "cell_type": "code",
      "execution_count": 133,
      "id": "b02ff58e",
      "metadata": {
        "id": "b02ff58e"
      },
      "outputs": [],
      "source": [
        "train_loss = 0\n",
        "\n",
        "for fold in range(n_folds):\n",
        "    trn_idx = folds[folds['fold'] != fold_num].index\n",
        "    g_test  = data0.iloc[trn_idx].reset_index(drop=True).values.copy()\n",
        "\n",
        "    scaler = fscalers[fold]\n",
        "    X_train  = scaler.transform(g_test)\n",
        "\n",
        "    model = models[fold]\n",
        "\n",
        "    encoder_out = model.encoder(X_train).numpy() \n",
        "    decoder_out = model.decoder(encoder_out).numpy()\n",
        "    train_loss += tf.keras.losses.mae(decoder_out, X_train).numpy()\n",
        "\n",
        "train_loss /= n_folds"
      ]
    },
    {
      "cell_type": "code",
      "execution_count": 134,
      "id": "745c133b",
      "metadata": {
        "colab": {
          "base_uri": "https://localhost:8080/"
        },
        "id": "745c133b",
        "outputId": "1c48ebae-7351-484f-8f97-b8931ed9bf1e"
      },
      "outputs": [
        {
          "output_type": "stream",
          "name": "stdout",
          "text": [
            "0.025503167136697015\n"
          ]
        }
      ],
      "source": [
        "threshold = np.mean(train_loss) + np.std(train_loss)\n",
        "print(threshold)"
      ]
    },
    {
      "cell_type": "code",
      "execution_count": 135,
      "id": "4102ab5e",
      "metadata": {
        "id": "4102ab5e"
      },
      "outputs": [],
      "source": [
        "preds = tf.math.less(train_loss, threshold)\n",
        "pred_nc = tf.math.count_nonzero(preds).numpy()"
      ]
    },
    {
      "cell_type": "code",
      "execution_count": 136,
      "id": "4f69996e",
      "metadata": {
        "scrolled": true,
        "colab": {
          "base_uri": "https://localhost:8080/",
          "height": 320
        },
        "id": "4f69996e",
        "outputId": "89ac3744-bded-4f87-d0b2-de37591e3579"
      },
      "outputs": [
        {
          "output_type": "display_data",
          "data": {
            "text/plain": [
              "<Figure size 720x360 with 1 Axes>"
            ],
            "image/png": "[encoded data removed]"
          },
          "metadata": {
            "needs_background": "light"
          }
        }
      ],
      "source": [
        "fig = plt.figure(figsize = (10, 5))\n",
        "x = plt.hist(train_loss, bins=100)"
      ]
    },
    {
      "cell_type": "code",
      "execution_count": 137,
      "id": "7c8c2906",
      "metadata": {
        "id": "7c8c2906"
      },
      "outputs": [],
      "source": [
        "loss_anomaly = 0\n",
        "\n",
        "for fold in range(n_folds):\n",
        "  # Anomaly data\n",
        "  scaler = fscalers[fold]\n",
        "  X_anomaly  = scaler.transform(data1)\n",
        "\n",
        "  model = models[fold]\n",
        "\n",
        "  encoder_out = model.encoder(X_anomaly).numpy() \n",
        "  decoder_out = model.decoder(encoder_out).numpy()\n",
        "  loss_anomaly += tf.keras.losses.mae(decoder_out, X_anomaly).numpy()\n",
        "\n",
        "loss_anomaly /= n_folds"
      ]
    },
    {
      "cell_type": "code",
      "execution_count": 138,
      "id": "85fb6508",
      "metadata": {
        "id": "85fb6508"
      },
      "outputs": [],
      "source": [
        "preds_a = tf.math.greater(loss_anomaly, threshold)\n",
        "pred_an = tf.math.count_nonzero(preds_a).numpy()"
      ]
    },
    {
      "cell_type": "code",
      "execution_count": 139,
      "id": "89c79327",
      "metadata": {
        "colab": {
          "base_uri": "https://localhost:8080/",
          "height": 336
        },
        "id": "89c79327",
        "outputId": "45762439-4d21-4815-e830-ccd29ea4bdb8"
      },
      "outputs": [
        {
          "output_type": "display_data",
          "data": {
            "text/plain": [
              "<Figure size 720x360 with 1 Axes>"
            ],
            "image/png": "[encoded data removed]"
          },
          "metadata": {
            "needs_background": "light"
          }
        }
      ],
      "source": [
        "fig = plt.figure(figsize = (10, 5))\n",
        "plt.hist(loss_anomaly, bins=100)\n",
        "plt.title(\"loss on anomaly test data\")\n",
        "plt.show()"
      ]
    },
    {
      "cell_type": "markdown",
      "id": "b9b02277",
      "metadata": {
        "id": "b9b02277"
      },
      "source": [
        "**Dataset evaluation**"
      ]
    },
    {
      "cell_type": "code",
      "execution_count": 140,
      "id": "8e72aa86",
      "metadata": {
        "colab": {
          "base_uri": "https://localhost:8080/",
          "height": 607
        },
        "id": "8e72aa86",
        "outputId": "b81954e5-6bb8-4586-b66a-44502b61cf26"
      },
      "outputs": [
        {
          "output_type": "display_data",
          "data": {
            "text/plain": [
              "<Figure size 1080x720 with 1 Axes>"
            ],
            "image/png": "[encoded data removed]"
          },
          "metadata": {
            "needs_background": "light"
          }
        }
      ],
      "source": [
        "fig = plt.figure(figsize = (15, 10))\n",
        "plt.hist(train_loss, bins=100, label='normal')\n",
        "plt.hist(loss_anomaly, bins=100, label='anomaly')\n",
        "plt.axvline(threshold, color='r', linewidth=3, linestyle='dashed', label='{:0.3f}'.format(threshold))\n",
        "plt.legend(loc='upper right')\n",
        "plt.title(\"Normal and Anomaly Loss\")\n",
        "plt.show()"
      ]
    },
    {
      "cell_type": "code",
      "source": [
        "threshold"
      ],
      "metadata": {
        "colab": {
          "base_uri": "https://localhost:8080/"
        },
        "id": "DRF62JFLcFxE",
        "outputId": "efb53723-dbaa-486a-cb3d-8297c9eef814"
      },
      "id": "DRF62JFLcFxE",
      "execution_count": 141,
      "outputs": [
        {
          "output_type": "execute_result",
          "data": {
            "text/plain": [
              "0.025503167136697015"
            ]
          },
          "metadata": {},
          "execution_count": 141
        }
      ]
    },
    {
      "cell_type": "markdown",
      "id": "aee47f3c",
      "metadata": {
        "id": "aee47f3c"
      },
      "source": [
        "**Out of sample results**"
      ]
    },
    {
      "cell_type": "code",
      "source": [
        "holdout = pd.concat([holdout,data1],axis=0)\n",
        "Class_holdout = pd.concat([Class_holdout,class1],axis=0)"
      ],
      "metadata": {
        "id": "Z3Bc_zafRg-3"
      },
      "id": "Z3Bc_zafRg-3",
      "execution_count": 142,
      "outputs": []
    },
    {
      "cell_type": "code",
      "source": [
        "preds_data  = np.zeros((holdout.shape[0]), dtype=np.int32)\n",
        "\n",
        "for fold in range(n_folds):\n",
        "   scaler = fscalers[fold]\n",
        "   X_data  = scaler.transform(holdout)\n",
        "\n",
        "   model = models[fold]\n",
        "\n",
        "   reconstruction_data = model.predict(X_data)\n",
        "   loss_data = tf.keras.losses.mae(reconstruction_data,X_data).numpy()\n",
        "   preds_data += (loss_data >= threshold).astype(np.int32)\n",
        "\n",
        "preds_data //= n_folds"
      ],
      "metadata": {
        "id": "0QAYvy9TZ5gz"
      },
      "id": "0QAYvy9TZ5gz",
      "execution_count": 148,
      "outputs": []
    },
    {
      "cell_type": "code",
      "execution_count": 149,
      "id": "311122e5",
      "metadata": {
        "colab": {
          "base_uri": "https://localhost:8080/"
        },
        "id": "311122e5",
        "outputId": "97c768a6-afea-45a7-8f07-2465721ddff4"
      },
      "outputs": [
        {
          "output_type": "stream",
          "name": "stdout",
          "text": [
            "Accuracy: 83.61%\n"
          ]
        }
      ],
      "source": [
        "# make predictions for test data and evaluate\n",
        "accuracy = accuracy_score(Class_holdout, preds_data)\n",
        "print(\"Accuracy: %.2f%%\" % (accuracy * 100.0))"
      ]
    },
    {
      "cell_type": "code",
      "execution_count": 150,
      "id": "54be4c4b",
      "metadata": {
        "colab": {
          "base_uri": "https://localhost:8080/"
        },
        "id": "54be4c4b",
        "outputId": "7cf9b648-25a1-4e4c-cac0-9b9292eae101"
      },
      "outputs": [
        {
          "output_type": "stream",
          "name": "stdout",
          "text": [
            "23740 4692 48 444\n"
          ]
        }
      ],
      "source": [
        "# confusion m,atrix\n",
        "tn, fp, fn, tp = confusion_matrix(Class_holdout, preds_data).ravel()\n",
        "print(tn, fp, fn, tp)"
      ]
    },
    {
      "cell_type": "code",
      "execution_count": 151,
      "id": "4fda2484",
      "metadata": {
        "colab": {
          "base_uri": "https://localhost:8080/"
        },
        "id": "4fda2484",
        "outputId": "1f6eb648-56c4-47fe-d2a9-eb3dc3161682"
      },
      "outputs": [
        {
          "output_type": "stream",
          "name": "stdout",
          "text": [
            "Sensitivity: 90.24%\n",
            "Specificity: 83.50%\n"
          ]
        }
      ],
      "source": [
        "sensitivity = tp/(tp+fn)\n",
        "print(\"Sensitivity: %.2f%%\" % (sensitivity * 100.0))\n",
        "specificity = tn/(tn+fp)\n",
        "print(\"Specificity: %.2f%%\" % (specificity * 100.0))"
      ]
    },
    {
      "cell_type": "code",
      "execution_count": 152,
      "id": "8a3a6fb4",
      "metadata": {
        "colab": {
          "base_uri": "https://localhost:8080/"
        },
        "id": "8a3a6fb4",
        "outputId": "07702436-7bd1-4663-c75a-37df42d4be6e"
      },
      "outputs": [
        {
          "output_type": "execute_result",
          "data": {
            "text/plain": [
              "array([[23740,  4692],\n",
              "       [   48,   444]])"
            ]
          },
          "metadata": {},
          "execution_count": 152
        }
      ],
      "source": [
        "confusion_matrix(Class_holdout, preds_data)"
      ]
    },
    {
      "cell_type": "code",
      "source": [
        ""
      ],
      "metadata": {
        "id": "tqr2SDDDYZEt"
      },
      "id": "tqr2SDDDYZEt",
      "execution_count": null,
      "outputs": []
    }
  ],
  "metadata": {
    "kernelspec": {
      "display_name": "Python 3 (ipykernel)",
      "language": "python",
      "name": "python3"
    },
    "language_info": {
      "codemirror_mode": {
        "name": "ipython",
        "version": 3
      },
      "file_extension": ".py",
      "mimetype": "text/x-python",
      "name": "python",
      "nbconvert_exporter": "python",
      "pygments_lexer": "ipython3",
      "version": "3.9.12"
    },
    "colab": {
      "name": "Autoencoder.ipynb",
      "provenance": [],
      "include_colab_link": true
    },
    "accelerator": "GPU",
    "gpuClass": "standard"
  },
  "nbformat": 4,
  "nbformat_minor": 5
}