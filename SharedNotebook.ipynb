{
  "nbformat": 4,
  "nbformat_minor": 0,
  "metadata": {
    "colab": {
      "name": "Untitled0.ipynb",
      "provenance": [],
      "authorship_tag": "ABX9TyPNEFpnt5JNl/mzUMwM1BTk",
      "include_colab_link": true
    },
    "kernelspec": {
      "name": "python3",
      "display_name": "Python 3"
    },
    "language_info": {
      "name": "python"
    }
  },
  "cells": [
    {
      "cell_type": "markdown",
      "metadata": {
        "id": "view-in-github",
        "colab_type": "text"
      },
      "source": [
        "<a href=\"https://colab.research.google.com/github/zSoftwareRepository/MDS-561-46-22SU/blob/main/SharedNotebook.ipynb\" target=\"_parent\"><img src=\"https://colab.research.google.com/assets/colab-badge.svg\" alt=\"Open In Colab\"/></a>"
      ]
    },
    {
      "cell_type": "code",
      "execution_count": 2,
      "metadata": {
        "id": "9yAuAh98R7oc"
      },
      "outputs": [],
      "source": [
        "import pandas as pd"
      ]
    },
    {
      "cell_type": "code",
      "source": [
        "print('first change')"
      ],
      "metadata": {
        "colab": {
          "base_uri": "https://localhost:8080/"
        },
        "id": "FmV9TE2JSBOG",
        "outputId": "74892641-ae86-48e7-f976-b317c03f78f2"
      },
      "execution_count": 3,
      "outputs": [
        {
          "output_type": "stream",
          "name": "stdout",
          "text": [
            "first change\n"
          ]
        }
      ]
    },
    {
      "cell_type": "code",
      "source": [
        "print('second change')"
      ],
      "metadata": {
        "id": "jwlFofoxxEX_",
        "colab": {
          "base_uri": "https://localhost:8080/"
        },
        "outputId": "7174efbe-492d-4a64-b6ca-b536dfdba225"
      },
      "execution_count": 4,
      "outputs": [
        {
          "output_type": "stream",
          "name": "stdout",
          "text": [
            "second change\n"
          ]
        }
      ]
    },
    {
      "cell_type": "code",
      "source": [
        "print('third change')"
      ],
      "metadata": {
        "id": "72bPV2WozVXY"
      },
      "execution_count": null,
      "outputs": []
    }
  ]
}