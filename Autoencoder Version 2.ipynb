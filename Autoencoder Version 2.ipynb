{
  "cells": [
    {
      "cell_type": "markdown",
      "metadata": {
        "id": "view-in-github",
        "colab_type": "text"
      },
      "source": [
        "<a href=\"https://colab.research.google.com/github/zSoftwareRepository/MDS-561-46-22SU/blob/main/Autoencoder%20Version%202.ipynb\" target=\"_parent\"><img src=\"https://colab.research.google.com/assets/colab-badge.svg\" alt=\"Open In Colab\"/></a>"
      ]
    },
    {
      "cell_type": "code",
      "execution_count": 1,
      "id": "4ce0c4ea",
      "metadata": {
        "id": "4ce0c4ea"
      },
      "outputs": [],
      "source": [
        "seed = 23\n",
        "\n",
        "import numpy as np\n",
        "np.random.seed(seed)\n",
        "\n",
        "from tensorflow.keras.utils import set_random_seed \n",
        "set_random_seed(seed)\n",
        "\n",
        "import pandas as pd\n",
        "\n",
        "import warnings\n",
        "warnings.filterwarnings(\"ignore\")\n",
        "\n",
        "from sklearn.metrics import accuracy_score, confusion_matrix\n",
        "from sklearn.model_selection import train_test_split\n",
        "from sklearn.feature_selection import SelectFromModel\n",
        "from sklearn.preprocessing import MinMaxScaler\n",
        "from sklearn.model_selection import KFold\n",
        "\n",
        "import tensorflow as tf\n",
        "\n",
        "from tensorflow import keras\n",
        "from tensorflow.keras.models import load_model, Model\n",
        "\n",
        "import matplotlib.pyplot as plt\n",
        "import seaborn as sns\n",
        "\n",
        "from google.colab import drive"
      ]
    },
    {
      "cell_type": "code",
      "execution_count": 2,
      "id": "a55bf946",
      "metadata": {
        "id": "a55bf946"
      },
      "outputs": [],
      "source": [
        "class AutoEncoder(Model):\n",
        "    def __init__(self):\n",
        "        super(AutoEncoder, self).__init__()\n",
        "        \n",
        "        self.encoder = tf.keras.Sequential([\n",
        "                       tf.keras.layers.Dense(20, activation=\"relu\",input_shape=(features,)),\n",
        "                       tf.keras.layers.Dense(16, activation=\"relu\"),\n",
        "                       tf.keras.layers.Dense(8, activation=\"relu\"),\n",
        "                       ])\n",
        "        self.decoder = tf.keras.Sequential([\n",
        "                       tf.keras.layers.Dense(16, activation=\"relu\"),\n",
        "                       tf.keras.layers.Dense(20, activation=\"relu\"),\n",
        "                       tf.keras.layers.Dense(features, activation=\"sigmoid\")\n",
        "                       ])\n",
        "    def call(self, x):\n",
        "        encoded = self.encoder(x)\n",
        "        decoded = self.decoder(encoded)\n",
        "        return decoded\n",
        "    \n",
        "    def get_config(self):\n",
        "        base_config = super().get_config()\n",
        "        return{**base_config, \"output_dim\" : output_dim, \"activation\": activation}"
      ]
    },
    {
      "cell_type": "code",
      "source": [
        "drive.mount('/content/drive/')"
      ],
      "metadata": {
        "colab": {
          "base_uri": "https://localhost:8080/"
        },
        "id": "qIqq3gODaqPt",
        "outputId": "d5283cd4-8669-40f9-aeba-92f9dc096287"
      },
      "id": "qIqq3gODaqPt",
      "execution_count": 3,
      "outputs": [
        {
          "output_type": "stream",
          "name": "stdout",
          "text": [
            "Mounted at /content/drive/\n"
          ]
        }
      ]
    },
    {
      "cell_type": "code",
      "execution_count": 55,
      "id": "fbf6b05e",
      "metadata": {
        "id": "fbf6b05e"
      },
      "outputs": [],
      "source": [
        "data = pd.read_csv('drive/MyDrive/data/creditcard.csv')"
      ]
    },
    {
      "cell_type": "code",
      "execution_count": 56,
      "id": "376d2261",
      "metadata": {
        "id": "376d2261"
      },
      "outputs": [],
      "source": [
        "Class = pd.DataFrame(data['Class'],columns=['Class'])"
      ]
    },
    {
      "cell_type": "code",
      "execution_count": 57,
      "id": "612334b7",
      "metadata": {
        "id": "612334b7"
      },
      "outputs": [],
      "source": [
        "data.drop(['Time', 'Class'], axis=1,inplace=True)"
      ]
    },
    {
      "cell_type": "code",
      "source": [
        "data1  = data[Class['Class']==1].reset_index(drop=True)\n",
        "class1 = Class[Class['Class']==1].reset_index(drop=True)"
      ],
      "metadata": {
        "id": "g3cINL6wuikV"
      },
      "id": "g3cINL6wuikV",
      "execution_count": 58,
      "outputs": []
    },
    {
      "cell_type": "code",
      "source": [
        "folds = pd.DataFrame(np.zeros(data.shape[0]),columns=['fold'])\n",
        "folds.index = data.index\n",
        "\n",
        "n_folds = 10\n",
        "\n",
        "kf = KFold(n_splits=n_folds,random_state=seed,shuffle=True)\n",
        "\n",
        "for n, (train_index, val_index) in enumerate(kf.split(data)):\n",
        "    folds.loc[val_index, 'fold'] = int(n)\n",
        "\n",
        "folds.loc[:,'fold'] = folds.loc[:,'fold'].astype(int)"
      ],
      "metadata": {
        "id": "3GD-FncJkOki"
      },
      "id": "3GD-FncJkOki",
      "execution_count": 59,
      "outputs": []
    },
    {
      "cell_type": "code",
      "source": [
        "val_idx = folds[folds['fold'] == 0].index \n",
        "holdout = data.iloc[val_idx].reset_index(drop=True).copy()\n",
        "Class_holdout = Class.iloc[val_idx].reset_index(drop=True).copy()"
      ],
      "metadata": {
        "id": "ivVK-WBLkN4o"
      },
      "id": "ivVK-WBLkN4o",
      "execution_count": 60,
      "outputs": []
    },
    {
      "cell_type": "code",
      "source": [
        "trn_idx = folds[folds['fold'] != 0].index\n",
        "data = data.iloc[trn_idx].reset_index(drop=True).copy()\n",
        "Class = Class.iloc[trn_idx].reset_index(drop=True).copy()"
      ],
      "metadata": {
        "id": "6LUqf_dTkcAD"
      },
      "id": "6LUqf_dTkcAD",
      "execution_count": 61,
      "outputs": []
    },
    {
      "cell_type": "code",
      "execution_count": 62,
      "id": "96f0805a",
      "metadata": {
        "id": "96f0805a"
      },
      "outputs": [],
      "source": [
        "X_train, X_test, y_train, y_test = train_test_split(data, Class, test_size=0.2, random_state=seed)"
      ]
    },
    {
      "cell_type": "code",
      "execution_count": 63,
      "id": "0573faf7",
      "metadata": {
        "id": "0573faf7"
      },
      "outputs": [],
      "source": [
        "scaler = MinMaxScaler()\n",
        "scaler.fit(X_train)\n",
        "Xn_train = scaler.transform(X_train)\n",
        "Xn_test  = scaler.transform(X_test)"
      ]
    },
    {
      "cell_type": "code",
      "execution_count": 64,
      "id": "fb215222",
      "metadata": {
        "id": "fb215222"
      },
      "outputs": [],
      "source": [
        "features = X_train.shape[1]"
      ]
    },
    {
      "cell_type": "code",
      "execution_count": 65,
      "id": "8b2acf39",
      "metadata": {
        "id": "8b2acf39"
      },
      "outputs": [],
      "source": [
        "nc_train = Xn_train[y_train['Class'] == 0]\n",
        "nc_test  = Xn_test[y_test['Class'] == 0]"
      ]
    },
    {
      "cell_type": "code",
      "execution_count": 66,
      "id": "9ae8c6ee",
      "metadata": {
        "id": "9ae8c6ee"
      },
      "outputs": [],
      "source": [
        "an_train = Xn_train[y_train['Class'] == 1]\n",
        "an_test  = Xn_test[y_test['Class'] == 1]"
      ]
    },
    {
      "cell_type": "code",
      "execution_count": 67,
      "id": "c828cfe6",
      "metadata": {
        "id": "c828cfe6"
      },
      "outputs": [],
      "source": [
        "test = np.concatenate([an_test,nc_test],axis=0)"
      ]
    },
    {
      "cell_type": "code",
      "execution_count": 68,
      "id": "be701cc3",
      "metadata": {
        "scrolled": true,
        "id": "be701cc3",
        "outputId": "356716d6-0a89-4019-ed2d-f8d3372ac2a7",
        "colab": {
          "base_uri": "https://localhost:8080/"
        }
      },
      "outputs": [
        {
          "output_type": "stream",
          "name": "stdout",
          "text": [
            "Epoch 1/100\n",
            "1600/1600 - 5s - loss: 0.0313 - val_loss: 0.0231 - lr: 0.0010 - 5s/epoch - 3ms/step\n",
            "Epoch 2/100\n",
            "1600/1600 - 4s - loss: 0.0227 - val_loss: 0.0227 - lr: 0.0010 - 4s/epoch - 3ms/step\n",
            "Epoch 3/100\n",
            "1600/1600 - 4s - loss: 0.0225 - val_loss: 0.0225 - lr: 0.0010 - 4s/epoch - 3ms/step\n",
            "Epoch 4/100\n",
            "1600/1600 - 4s - loss: 0.0224 - val_loss: 0.0225 - lr: 4.0000e-04 - 4s/epoch - 3ms/step\n",
            "Epoch 5/100\n",
            "1600/1600 - 5s - loss: 0.0224 - val_loss: 0.0225 - lr: 4.0000e-04 - 5s/epoch - 3ms/step\n",
            "Epoch 6/100\n",
            "1600/1600 - 4s - loss: 0.0224 - val_loss: 0.0225 - lr: 1.6000e-04 - 4s/epoch - 3ms/step\n",
            "Epoch 7/100\n",
            "1600/1600 - 4s - loss: 0.0224 - val_loss: 0.0225 - lr: 1.6000e-04 - 4s/epoch - 3ms/step\n",
            "Epoch 8/100\n",
            "1600/1600 - 5s - loss: 0.0224 - val_loss: 0.0225 - lr: 6.4000e-05 - 5s/epoch - 3ms/step\n",
            "Epoch 9/100\n",
            "1600/1600 - 4s - loss: 0.0224 - val_loss: 0.0224 - lr: 6.4000e-05 - 4s/epoch - 3ms/step\n",
            "Epoch 10/100\n",
            "1600/1600 - 4s - loss: 0.0224 - val_loss: 0.0224 - lr: 2.5600e-05 - 4s/epoch - 3ms/step\n",
            "Epoch 11/100\n",
            "1600/1600 - 4s - loss: 0.0224 - val_loss: 0.0224 - lr: 2.5600e-05 - 4s/epoch - 3ms/step\n",
            "Epoch 12/100\n",
            "1600/1600 - 4s - loss: 0.0224 - val_loss: 0.0224 - lr: 1.0240e-05 - 4s/epoch - 3ms/step\n",
            "Epoch 13/100\n",
            "1600/1600 - 4s - loss: 0.0223 - val_loss: 0.0224 - lr: 1.0240e-05 - 4s/epoch - 3ms/step\n",
            "Epoch 14/100\n",
            "1600/1600 - 4s - loss: 0.0223 - val_loss: 0.0224 - lr: 4.0960e-06 - 4s/epoch - 3ms/step\n",
            "Epoch 15/100\n",
            "1600/1600 - 4s - loss: 0.0223 - val_loss: 0.0224 - lr: 4.0960e-06 - 4s/epoch - 3ms/step\n",
            "Epoch 16/100\n",
            "1600/1600 - 4s - loss: 0.0223 - val_loss: 0.0224 - lr: 1.6384e-06 - 4s/epoch - 3ms/step\n",
            "Epoch 17/100\n",
            "1600/1600 - 4s - loss: 0.0223 - val_loss: 0.0224 - lr: 1.6384e-06 - 4s/epoch - 3ms/step\n",
            "Epoch 18/100\n",
            "1600/1600 - 4s - loss: 0.0223 - val_loss: 0.0224 - lr: 6.5536e-07 - 4s/epoch - 3ms/step\n",
            "Epoch 19/100\n",
            "1600/1600 - 4s - loss: 0.0223 - val_loss: 0.0224 - lr: 6.5536e-07 - 4s/epoch - 3ms/step\n",
            "Epoch 20/100\n",
            "1600/1600 - 4s - loss: 0.0223 - val_loss: 0.0224 - lr: 2.6214e-07 - 4s/epoch - 3ms/step\n",
            "Epoch 21/100\n",
            "1600/1600 - 4s - loss: 0.0223 - val_loss: 0.0224 - lr: 2.6214e-07 - 4s/epoch - 3ms/step\n",
            "Epoch 22/100\n",
            "1600/1600 - 4s - loss: 0.0223 - val_loss: 0.0224 - lr: 1.0486e-07 - 4s/epoch - 3ms/step\n",
            "Epoch 23/100\n",
            "1600/1600 - 4s - loss: 0.0223 - val_loss: 0.0224 - lr: 1.0486e-07 - 4s/epoch - 3ms/step\n",
            "Epoch 24/100\n",
            "1600/1600 - 5s - loss: 0.0223 - val_loss: 0.0224 - lr: 4.1943e-08 - 5s/epoch - 3ms/step\n",
            "Epoch 25/100\n",
            "1600/1600 - 4s - loss: 0.0223 - val_loss: 0.0224 - lr: 4.1943e-08 - 4s/epoch - 3ms/step\n",
            "Epoch 26/100\n",
            "1600/1600 - 4s - loss: 0.0223 - val_loss: 0.0224 - lr: 1.6777e-08 - 4s/epoch - 3ms/step\n",
            "Epoch 27/100\n",
            "1600/1600 - 4s - loss: 0.0223 - val_loss: 0.0224 - lr: 1.6777e-08 - 4s/epoch - 3ms/step\n",
            "Epoch 28/100\n",
            "1600/1600 - 4s - loss: 0.0223 - val_loss: 0.0224 - lr: 6.7109e-09 - 4s/epoch - 3ms/step\n",
            "Epoch 29/100\n",
            "1600/1600 - 4s - loss: 0.0223 - val_loss: 0.0224 - lr: 6.7109e-09 - 4s/epoch - 3ms/step\n",
            "Epoch 30/100\n",
            "1600/1600 - 4s - loss: 0.0223 - val_loss: 0.0224 - lr: 2.6844e-09 - 4s/epoch - 3ms/step\n"
          ]
        }
      ],
      "source": [
        "model = AutoEncoder()\n",
        "\n",
        "learning_rate = 1e-3\n",
        "\n",
        "cb_lr = tf.keras.callbacks.ReduceLROnPlateau(monitor = 'val_loss', factor = 0.4, patience = 2, verbose = 0, min_delta = 0.001, mode = 'min')\n",
        "es = tf.keras.callbacks.EarlyStopping(monitor=\"val_loss\", patience=5, mode=\"min\")\n",
        "\n",
        "model.compile(optimizer=tf.keras.optimizers.Adam(learning_rate = learning_rate),loss=\"mae\")\n",
        "history = model.fit(nc_train, nc_train, epochs=100, batch_size=128,\n",
        "                    validation_data=(nc_test, nc_test),\n",
        "                    shuffle=True,\n",
        "                    callbacks=[cb_lr,es],\n",
        "                    verbose=2)"
      ]
    },
    {
      "cell_type": "code",
      "execution_count": 69,
      "id": "fc6a52e5",
      "metadata": {
        "id": "fc6a52e5"
      },
      "outputs": [],
      "source": [
        "#Test data\n",
        "encoder_out = model.encoder(nc_test).numpy() \n",
        "decoder_out = model.decoder(encoder_out).numpy()"
      ]
    },
    {
      "cell_type": "code",
      "execution_count": 100,
      "id": "2ea72c4f",
      "metadata": {
        "colab": {
          "base_uri": "https://localhost:8080/",
          "height": 336
        },
        "id": "2ea72c4f",
        "outputId": "a415d08c-7e1c-4359-f7ea-af74245df3f4"
      },
      "outputs": [
        {
          "output_type": "display_data",
          "data": {
            "text/plain": [
              "<Figure size 720x360 with 1 Axes>"
            ],
            "image/png": "[encoded data removed]"
          },
          "metadata": {
            "needs_background": "light"
          }
        }
      ],
      "source": [
        "fig = plt.figure(figsize = (10, 5))\n",
        "plt.plot(nc_test[1], 'b')\n",
        "plt.plot(decoder_out[1], 'r')\n",
        "plt.title(\"Model performance on Test Normal data\")\n",
        "plt.show()"
      ]
    },
    {
      "cell_type": "code",
      "execution_count": 71,
      "id": "596727f0",
      "metadata": {
        "id": "596727f0"
      },
      "outputs": [],
      "source": [
        "# Train Data\n",
        "encoder_out = model.encoder(nc_train).numpy() \n",
        "decoder_out = model.decoder(encoder_out).numpy()"
      ]
    },
    {
      "cell_type": "code",
      "execution_count": 72,
      "id": "01a6ef12",
      "metadata": {
        "scrolled": true,
        "colab": {
          "base_uri": "https://localhost:8080/",
          "height": 336
        },
        "id": "01a6ef12",
        "outputId": "13c32e20-f7a7-4e5a-9c81-7c689e7bbb6c"
      },
      "outputs": [
        {
          "output_type": "display_data",
          "data": {
            "text/plain": [
              "<Figure size 720x360 with 1 Axes>"
            ],
            "image/png": "[encoded data removed]"
          },
          "metadata": {
            "needs_background": "light"
          }
        }
      ],
      "source": [
        "fig = plt.figure(figsize = (10, 5))\n",
        "plt.plot(nc_train[10], 'b')\n",
        "plt.plot(decoder_out[10], 'r')\n",
        "plt.title(\"Model performance on Train Normal data\")\n",
        "plt.show()"
      ]
    },
    {
      "cell_type": "code",
      "execution_count": 73,
      "id": "b47a5494",
      "metadata": {
        "id": "b47a5494"
      },
      "outputs": [],
      "source": [
        "encoder_out_a = model.encoder(an_train).numpy() \n",
        "decoder_out_a = model.decoder(encoder_out_a).numpy()"
      ]
    },
    {
      "cell_type": "code",
      "execution_count": 101,
      "id": "9d49945d",
      "metadata": {
        "colab": {
          "base_uri": "https://localhost:8080/",
          "height": 336
        },
        "id": "9d49945d",
        "outputId": "99e82c29-c867-4ab8-a457-ca1670d008a6"
      },
      "outputs": [
        {
          "output_type": "display_data",
          "data": {
            "text/plain": [
              "<Figure size 720x360 with 1 Axes>"
            ],
            "image/png": "[encoded data removed]"
          },
          "metadata": {
            "needs_background": "light"
          }
        }
      ],
      "source": [
        "fig = plt.figure(figsize = (10, 5))\n",
        "plt.plot(an_test[1], 'b')\n",
        "plt.plot(decoder_out_a[1], 'r')\n",
        "plt.title(\"Model performance on Train Anomaly Data\")\n",
        "plt.show()"
      ]
    },
    {
      "cell_type": "markdown",
      "id": "56d97c1a",
      "metadata": {
        "id": "56d97c1a"
      },
      "source": [
        "Detecting anomalies\n",
        "We will detect anomalies by determining how well our model can reconstruct the input data.\n",
        "\n",
        "Find MAE loss on training samples.\n",
        "Find max MAE loss value. This is the worst our model has performed trying to reconstruct a sample. We will make this the threshold for anomaly detection.\n",
        "If the reconstruction loss for a sample is greater than this threshold value then we can infer that the model is seeing a pattern that it isn't familiar with. We will label this sample as an anomaly."
      ]
    },
    {
      "cell_type": "code",
      "execution_count": 75,
      "id": "b02ff58e",
      "metadata": {
        "id": "b02ff58e"
      },
      "outputs": [],
      "source": [
        "reconstruction = model.predict(nc_train)\n",
        "train_loss = tf.keras.losses.mae(reconstruction, nc_train).numpy()"
      ]
    },
    {
      "cell_type": "code",
      "execution_count": 76,
      "id": "745c133b",
      "metadata": {
        "colab": {
          "base_uri": "https://localhost:8080/"
        },
        "id": "745c133b",
        "outputId": "a4b78a26-488e-4453-8fb0-d70bfb20606b"
      },
      "outputs": [
        {
          "output_type": "stream",
          "name": "stdout",
          "text": [
            "0.029944836535729442\n"
          ]
        }
      ],
      "source": [
        "threshold = np.mean(train_loss) + np.std(train_loss)\n",
        "print(threshold)"
      ]
    },
    {
      "cell_type": "code",
      "execution_count": 77,
      "id": "4102ab5e",
      "metadata": {
        "id": "4102ab5e"
      },
      "outputs": [],
      "source": [
        "preds = tf.math.less(train_loss, threshold)\n",
        "pred_nc = tf.math.count_nonzero(preds).numpy()"
      ]
    },
    {
      "cell_type": "code",
      "execution_count": 78,
      "id": "4f69996e",
      "metadata": {
        "scrolled": true,
        "colab": {
          "base_uri": "https://localhost:8080/",
          "height": 320
        },
        "id": "4f69996e",
        "outputId": "9d4310e3-cbab-4b69-f149-382fe9084b42"
      },
      "outputs": [
        {
          "output_type": "display_data",
          "data": {
            "text/plain": [
              "<Figure size 720x360 with 1 Axes>"
            ],
            "image/png": "[encoded data removed]"
          },
          "metadata": {
            "needs_background": "light"
          }
        }
      ],
      "source": [
        "fig = plt.figure(figsize = (10, 5))\n",
        "x = plt.hist(train_loss, bins=100)"
      ]
    },
    {
      "cell_type": "code",
      "execution_count": 79,
      "id": "7c8c2906",
      "metadata": {
        "id": "7c8c2906"
      },
      "outputs": [],
      "source": [
        "reconstruction_a = model.predict(an_train)\n",
        "train_loss_a = tf.keras.losses.mae(reconstruction_a, an_train).numpy()"
      ]
    },
    {
      "cell_type": "code",
      "execution_count": 80,
      "id": "85fb6508",
      "metadata": {
        "id": "85fb6508"
      },
      "outputs": [],
      "source": [
        "preds_a = tf.math.greater(train_loss_a, threshold)\n",
        "pred_an = tf.math.count_nonzero(preds_a).numpy()"
      ]
    },
    {
      "cell_type": "code",
      "execution_count": 81,
      "id": "89c79327",
      "metadata": {
        "colab": {
          "base_uri": "https://localhost:8080/",
          "height": 336
        },
        "id": "89c79327",
        "outputId": "f9f7ade1-30da-4dfa-f3df-366d6c234069"
      },
      "outputs": [
        {
          "output_type": "display_data",
          "data": {
            "text/plain": [
              "<Figure size 720x360 with 1 Axes>"
            ],
            "image/png": "[encoded data removed]"
          },
          "metadata": {
            "needs_background": "light"
          }
        }
      ],
      "source": [
        "fig = plt.figure(figsize = (10, 5))\n",
        "plt.hist(train_loss_a, bins=100)\n",
        "plt.title(\"loss on anomaly test data\")\n",
        "plt.show()"
      ]
    },
    {
      "cell_type": "markdown",
      "id": "b9b02277",
      "metadata": {
        "id": "b9b02277"
      },
      "source": [
        "**Dataset evaluation**"
      ]
    },
    {
      "cell_type": "code",
      "execution_count": 82,
      "id": "8e72aa86",
      "metadata": {
        "colab": {
          "base_uri": "https://localhost:8080/",
          "height": 607
        },
        "id": "8e72aa86",
        "outputId": "5cffa642-ab01-4dd5-e87a-ce3f0fba8136"
      },
      "outputs": [
        {
          "output_type": "display_data",
          "data": {
            "text/plain": [
              "<Figure size 1080x720 with 1 Axes>"
            ],
            "image/png": "[encoded data removed]"
          },
          "metadata": {
            "needs_background": "light"
          }
        }
      ],
      "source": [
        "fig = plt.figure(figsize = (15, 10))\n",
        "plt.hist(train_loss, bins=100, label='normal')\n",
        "plt.hist(train_loss_a, bins=100, label='anomaly')\n",
        "plt.axvline(threshold, color='r', linewidth=3, linestyle='dashed', label='{:0.3f}'.format(threshold))\n",
        "plt.legend(loc='upper right')\n",
        "plt.title(\"Normal and Anomaly Loss\")\n",
        "plt.show()"
      ]
    },
    {
      "cell_type": "code",
      "execution_count": 84,
      "id": "5a9263eb",
      "metadata": {
        "id": "5a9263eb"
      },
      "outputs": [],
      "source": [
        "rec_data = scaler.transform(data)"
      ]
    },
    {
      "cell_type": "code",
      "execution_count": 85,
      "id": "2b7ae22d",
      "metadata": {
        "id": "2b7ae22d"
      },
      "outputs": [],
      "source": [
        "reconstruction_data = model.predict(rec_data)\n",
        "train_loss_data = tf.keras.losses.mae(rec_data,reconstruction_data).numpy()\n",
        "preds_data = tf.math.greater(train_loss_data, threshold)"
      ]
    },
    {
      "cell_type": "code",
      "execution_count": 86,
      "id": "311122e5",
      "metadata": {
        "colab": {
          "base_uri": "https://localhost:8080/"
        },
        "id": "311122e5",
        "outputId": "94b46fca-bc39-4de1-abb0-4deff50b45a5"
      },
      "outputs": [
        {
          "output_type": "stream",
          "name": "stdout",
          "text": [
            "Accuracy: 88.03%\n"
          ]
        }
      ],
      "source": [
        "# make predictions for test data and evaluate\n",
        "predictions = preds_data.numpy()\n",
        "accuracy = accuracy_score(Class['Class'].values, predictions)\n",
        "print(\"Accuracy: %.2f%%\" % (accuracy * 100.0))"
      ]
    },
    {
      "cell_type": "code",
      "execution_count": 87,
      "id": "54be4c4b",
      "metadata": {
        "colab": {
          "base_uri": "https://localhost:8080/"
        },
        "id": "54be4c4b",
        "outputId": "9f3a4234-925f-4a3c-9e17-602b364a72bc"
      },
      "outputs": [
        {
          "output_type": "stream",
          "name": "stdout",
          "text": [
            "225255 30626 47 398\n"
          ]
        }
      ],
      "source": [
        "# confusion m,atrix\n",
        "tn, fp, fn, tp = confusion_matrix(Class['Class'].values, predictions).ravel()\n",
        "print(tn, fp, fn, tp)"
      ]
    },
    {
      "cell_type": "code",
      "execution_count": 88,
      "id": "4fda2484",
      "metadata": {
        "colab": {
          "base_uri": "https://localhost:8080/"
        },
        "id": "4fda2484",
        "outputId": "3de2c5fa-b74f-4007-9e0f-6dee88947324"
      },
      "outputs": [
        {
          "output_type": "stream",
          "name": "stdout",
          "text": [
            "Sensitivity: 89.44%\n",
            "Specificity: 88.03%\n"
          ]
        }
      ],
      "source": [
        "sensitivity = tp/(tp+fn)\n",
        "print(\"Sensitivity: %.2f%%\" % (sensitivity * 100.0))\n",
        "specificity = tn/(tn+fp)\n",
        "print(\"Specificity: %.2f%%\" % (specificity * 100.0))"
      ]
    },
    {
      "cell_type": "code",
      "execution_count": 89,
      "id": "8a3a6fb4",
      "metadata": {
        "colab": {
          "base_uri": "https://localhost:8080/"
        },
        "id": "8a3a6fb4",
        "outputId": "0482df66-13f0-4c78-c3ba-135426562766"
      },
      "outputs": [
        {
          "output_type": "execute_result",
          "data": {
            "text/plain": [
              "array([[225255,  30626],\n",
              "       [    47,    398]])"
            ]
          },
          "metadata": {},
          "execution_count": 89
        }
      ],
      "source": [
        "confusion_matrix(Class['Class'].values, predictions)"
      ]
    },
    {
      "cell_type": "markdown",
      "id": "aee47f3c",
      "metadata": {
        "id": "aee47f3c"
      },
      "source": [
        "**Out of sample results**"
      ]
    },
    {
      "cell_type": "code",
      "source": [
        "holdout = pd.concat([holdout,data1],axis=0)\n",
        "Class_holdout = pd.concat([Class_holdout,class1],axis=0)"
      ],
      "metadata": {
        "id": "qOwBiCdsuB7U"
      },
      "id": "qOwBiCdsuB7U",
      "execution_count": 83,
      "outputs": []
    },
    {
      "cell_type": "code",
      "source": [
        "X_holdout  = scaler.transform(holdout)\n",
        "\n",
        "reconstruction_holdout = model.predict(X_holdout)\n",
        "loss_holdout = tf.keras.losses.mae(reconstruction_holdout,X_holdout).numpy()\n",
        "preds_holdout = (loss_holdout >= threshold).astype(np.int32)"
      ],
      "metadata": {
        "id": "BArOItrtbpP_"
      },
      "id": "BArOItrtbpP_",
      "execution_count": 91,
      "outputs": []
    },
    {
      "cell_type": "code",
      "source": [
        "# make predictions for test data and evaluate\n",
        "accuracy = accuracy_score(Class_holdout, preds_holdout)\n",
        "print(\"Accuracy: %.2f%%\" % (accuracy * 100.0))"
      ],
      "metadata": {
        "id": "mUKnsGMmyLOF",
        "outputId": "aeb42dde-94c7-4335-8a03-fbcb0165fd2d",
        "colab": {
          "base_uri": "https://localhost:8080/"
        }
      },
      "id": "mUKnsGMmyLOF",
      "execution_count": 92,
      "outputs": [
        {
          "output_type": "stream",
          "name": "stdout",
          "text": [
            "Accuracy: 87.92%\n"
          ]
        }
      ]
    },
    {
      "cell_type": "code",
      "source": [
        "# confusion m,atrix\n",
        "tn, fp, fn, tp = confusion_matrix(Class_holdout, preds_holdout).ravel()\n",
        "print(tn, fp, fn, tp)"
      ],
      "metadata": {
        "id": "yudISBEsy1iO",
        "outputId": "18d61b6e-a225-49ec-c69a-74cb126323aa",
        "colab": {
          "base_uri": "https://localhost:8080/"
        }
      },
      "id": "yudISBEsy1iO",
      "execution_count": 94,
      "outputs": [
        {
          "output_type": "stream",
          "name": "stdout",
          "text": [
            "24984 3450 51 488\n"
          ]
        }
      ]
    },
    {
      "cell_type": "code",
      "source": [
        "sensitivity = tp/(tp+fn)\n",
        "print(\"Sensitivity: %.2f%%\" % (sensitivity * 100.0))\n",
        "specificity = tn/(tn+fp)\n",
        "print(\"Specificity: %.2f%%\" % (specificity * 100.0))"
      ],
      "metadata": {
        "id": "3d0bupGozSgF",
        "outputId": "9b947bd8-4a2b-4622-d8e7-f07d9a94e1a8",
        "colab": {
          "base_uri": "https://localhost:8080/"
        }
      },
      "id": "3d0bupGozSgF",
      "execution_count": 95,
      "outputs": [
        {
          "output_type": "stream",
          "name": "stdout",
          "text": [
            "Sensitivity: 90.54%\n",
            "Specificity: 87.87%\n"
          ]
        }
      ]
    },
    {
      "cell_type": "code",
      "source": [
        "confusion_matrix(Class_holdout, preds_holdout)"
      ],
      "metadata": {
        "id": "o5fcLiBFztUM",
        "outputId": "d7d726b4-899e-4d7c-8576-ec8db25566da",
        "colab": {
          "base_uri": "https://localhost:8080/"
        }
      },
      "id": "o5fcLiBFztUM",
      "execution_count": 97,
      "outputs": [
        {
          "output_type": "execute_result",
          "data": {
            "text/plain": [
              "array([[24984,  3450],\n",
              "       [   51,   488]])"
            ]
          },
          "metadata": {},
          "execution_count": 97
        }
      ]
    },
    {
      "cell_type": "code",
      "source": [
        ""
      ],
      "metadata": {
        "id": "M9f4nZnazwzd"
      },
      "id": "M9f4nZnazwzd",
      "execution_count": null,
      "outputs": []
    }
  ],
  "metadata": {
    "kernelspec": {
      "display_name": "Python 3 (ipykernel)",
      "language": "python",
      "name": "python3"
    },
    "language_info": {
      "codemirror_mode": {
        "name": "ipython",
        "version": 3
      },
      "file_extension": ".py",
      "mimetype": "text/x-python",
      "name": "python",
      "nbconvert_exporter": "python",
      "pygments_lexer": "ipython3",
      "version": "3.9.12"
    },
    "colab": {
      "name": "Autoencoder.ipynb",
      "provenance": [],
      "include_colab_link": true
    },
    "accelerator": "GPU",
    "gpuClass": "standard"
  },
  "nbformat": 4,
  "nbformat_minor": 5
}