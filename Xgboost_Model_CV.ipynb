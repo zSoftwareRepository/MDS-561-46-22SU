{
  "cells": [
    {
      "cell_type": "markdown",
      "metadata": {
        "id": "view-in-github",
        "colab_type": "text"
      },
      "source": [
        "<a href=\"https://colab.research.google.com/github/zSoftwareRepository/MDS-561-46-22SU/blob/main/Xgboost_Model_CV.ipynb\" target=\"_parent\"><img src=\"https://colab.research.google.com/assets/colab-badge.svg\" alt=\"Open In Colab\"/></a>"
      ]
    },
    {
      "cell_type": "code",
      "execution_count": 1,
      "metadata": {
        "_uuid": "3e410c3508beb0ff1c681badbacb4e0d32ceeb0a",
        "id": "ou9uXUa4NKwb"
      },
      "outputs": [],
      "source": [
        "import numpy as np\n",
        "import pandas as pd\n",
        "\n",
        "from sklearn.metrics import accuracy_score, confusion_matrix\n",
        "from sklearn.model_selection import KFold\n",
        "\n",
        "import xgboost\n",
        "import pickle\n",
        "\n",
        "seed = 23\n",
        "np.random.seed(seed)\n",
        "\n",
        "from google.colab import drive"
      ]
    },
    {
      "cell_type": "code",
      "source": [
        "drive.mount('/content/drive/')"
      ],
      "metadata": {
        "colab": {
          "base_uri": "https://localhost:8080/"
        },
        "id": "Em7Zr8buNWW8",
        "outputId": "d0c1d354-c2a6-401d-bede-27545d2498a4"
      },
      "execution_count": 2,
      "outputs": [
        {
          "output_type": "stream",
          "name": "stdout",
          "text": [
            "Mounted at /content/drive/\n"
          ]
        }
      ]
    },
    {
      "cell_type": "code",
      "source": [
        "training_data = pd.read_csv('drive/MyDrive/data/creditcard.csv')"
      ],
      "metadata": {
        "id": "6EihzYjDNXXt"
      },
      "execution_count": 5,
      "outputs": []
    },
    {
      "cell_type": "code",
      "execution_count": 6,
      "metadata": {
        "id": "y4N4HR6gNKwh"
      },
      "outputs": [],
      "source": [
        "train_target = pd.DataFrame()\n",
        "train_target['class'] = training_data.loc[:,'Class'].copy()\n",
        "train_target.index = training_data.index"
      ]
    },
    {
      "cell_type": "code",
      "execution_count": 7,
      "metadata": {
        "id": "pq2H0-KsNKwi"
      },
      "outputs": [],
      "source": [
        "folds = pd.DataFrame()\n",
        "folds['class'] = training_data.loc[:,'Class']\n",
        "folds['fold']   = -1\n",
        "folds.index = training_data.index"
      ]
    },
    {
      "cell_type": "code",
      "execution_count": 8,
      "metadata": {
        "scrolled": true,
        "id": "DofR7TkXNKwj"
      },
      "outputs": [],
      "source": [
        "n_folds = 10\n",
        "\n",
        "kf = KFold(n_splits=n_folds,shuffle=True,random_state=seed)\n",
        "\n",
        "for n, (train_index, val_index) in enumerate(kf.split(training_data)):\n",
        "    folds.loc[val_index, 'fold'] = int(n)\n",
        "\n",
        "folds.loc[:,'fold'] = folds.loc[:,'fold'].astype(int)"
      ]
    },
    {
      "cell_type": "code",
      "execution_count": 9,
      "metadata": {
        "id": "TwtxDOqONKwk"
      },
      "outputs": [],
      "source": [
        "val_idx = folds[folds['fold'] == 0].index \n",
        "holdout = training_data.iloc[val_idx].reset_index(drop=True).copy()\n",
        "class_holdout = train_target.iloc[val_idx].reset_index(drop=True).copy()"
      ]
    },
    {
      "cell_type": "code",
      "execution_count": 10,
      "metadata": {
        "id": "af4PA72cNKwl"
      },
      "outputs": [],
      "source": [
        "trn_idx = folds[folds['fold'] != 0].index\n",
        "training_data = training_data.iloc[trn_idx].reset_index(drop=True).copy()"
      ]
    },
    {
      "cell_type": "code",
      "execution_count": 11,
      "metadata": {
        "id": "kcSoIvy1NKwm"
      },
      "outputs": [],
      "source": [
        "train_target = pd.DataFrame()\n",
        "train_target['class'] = training_data.loc[:,'Class'].copy()\n",
        "train_target.index = training_data.index"
      ]
    },
    {
      "cell_type": "code",
      "execution_count": 12,
      "metadata": {
        "id": "s9vc34EjNKwn"
      },
      "outputs": [],
      "source": [
        "folds = pd.DataFrame()\n",
        "folds['class'] = training_data.loc[:,'Class']\n",
        "folds['fold']   = -1\n",
        "folds.index = training_data.index"
      ]
    },
    {
      "cell_type": "code",
      "execution_count": 13,
      "metadata": {
        "id": "ost_PZZDNKwo"
      },
      "outputs": [],
      "source": [
        "n_folds = 10\n",
        "\n",
        "kf = KFold(n_splits=n_folds,shuffle=True,random_state=seed)\n",
        "\n",
        "for n, (train_index, val_index) in enumerate(kf.split(training_data)):\n",
        "    folds.loc[val_index, 'fold'] = int(n)\n",
        "\n",
        "folds.loc[:,'fold'] = folds.loc[:,'fold'].astype(int)"
      ]
    },
    {
      "cell_type": "code",
      "execution_count": 14,
      "metadata": {
        "id": "LHzpz27UNKwp"
      },
      "outputs": [],
      "source": [
        "data = training_data.copy()\n",
        "data.drop(['Class','Time'],axis=1,inplace=True)"
      ]
    },
    {
      "cell_type": "code",
      "execution_count": 17,
      "metadata": {
        "id": "8KAYXdWhNKwp"
      },
      "outputs": [],
      "source": [
        "scale_pos_weight = train_target.loc[train_target['class'] == 0,'class'].count() / \\\n",
        "                   train_target.loc[train_target['class'] == 1,'class'].count()\n",
        "\n",
        "models    = []\n",
        "\n",
        "param = {\n",
        "    'max_depth': 4,\n",
        "    'eta':0.01,\n",
        "    'objective':'binary:logistic',\n",
        "    'eval_metric':'logloss',\n",
        "    'nthread': -1,\n",
        "    'seed' : seed,\n",
        "    'subsample' : 0.9,\n",
        "    'colsample_bytree' : 0.8,\n",
        "    'tree_method' : 'gpu_hist',\n",
        "    'lambda' : 3,\n",
        "    'scale_pos_weight' : scale_pos_weight\n",
        "}"
      ]
    },
    {
      "cell_type": "code",
      "execution_count": 18,
      "metadata": {
        "scrolled": true,
        "colab": {
          "base_uri": "https://localhost:8080/"
        },
        "id": "hTlb_KT6NKwq",
        "outputId": "cdd8534c-381a-40c9-daf7-f4865046e8ac"
      },
      "outputs": [
        {
          "output_type": "stream",
          "name": "stdout",
          "text": [
            "[0]\ttrain-logloss:0.685034\ttest-logloss:0.685072\n",
            "Multiple eval metrics have been passed: 'test-logloss' will be used for early stopping.\n",
            "\n",
            "Will train until test-logloss hasn't improved in 100 rounds.\n",
            "[100]\ttrain-logloss:0.263469\ttest-logloss:0.264365\n",
            "[200]\ttrain-logloss:0.136629\ttest-logloss:0.138124\n",
            "[300]\ttrain-logloss:0.087683\ttest-logloss:0.089413\n",
            "[400]\ttrain-logloss:0.062579\ttest-logloss:0.064385\n",
            "[500]\ttrain-logloss:0.047964\ttest-logloss:0.049663\n",
            "[600]\ttrain-logloss:0.037922\ttest-logloss:0.039625\n",
            "[700]\ttrain-logloss:0.029949\ttest-logloss:0.03165\n",
            "[800]\ttrain-logloss:0.024444\ttest-logloss:0.02618\n",
            "[900]\ttrain-logloss:0.020046\ttest-logloss:0.021786\n",
            "[1000]\ttrain-logloss:0.016629\ttest-logloss:0.018358\n",
            "[1100]\ttrain-logloss:0.013788\ttest-logloss:0.015543\n",
            "[1200]\ttrain-logloss:0.011721\ttest-logloss:0.013513\n",
            "[1300]\ttrain-logloss:0.00989\ttest-logloss:0.011671\n",
            "[1400]\ttrain-logloss:0.008554\ttest-logloss:0.010358\n",
            "[1500]\ttrain-logloss:0.007321\ttest-logloss:0.009168\n",
            "[1600]\ttrain-logloss:0.006273\ttest-logloss:0.008153\n",
            "[1700]\ttrain-logloss:0.005361\ttest-logloss:0.00731\n",
            "[1800]\ttrain-logloss:0.004683\ttest-logloss:0.006675\n",
            "[1900]\ttrain-logloss:0.004046\ttest-logloss:0.006084\n",
            "[2000]\ttrain-logloss:0.003497\ttest-logloss:0.005592\n",
            "[2100]\ttrain-logloss:0.00305\ttest-logloss:0.005195\n",
            "[2200]\ttrain-logloss:0.002685\ttest-logloss:0.004874\n",
            "[2300]\ttrain-logloss:0.002358\ttest-logloss:0.004587\n",
            "[2400]\ttrain-logloss:0.002079\ttest-logloss:0.004345\n",
            "[2500]\ttrain-logloss:0.001846\ttest-logloss:0.004147\n",
            "[2600]\ttrain-logloss:0.00165\ttest-logloss:0.003988\n",
            "[2700]\ttrain-logloss:0.001478\ttest-logloss:0.003863\n",
            "[2800]\ttrain-logloss:0.001328\ttest-logloss:0.003748\n",
            "[2900]\ttrain-logloss:0.00119\ttest-logloss:0.003652\n",
            "[3000]\ttrain-logloss:0.001069\ttest-logloss:0.003574\n",
            "[3100]\ttrain-logloss:0.000964\ttest-logloss:0.003506\n",
            "[3200]\ttrain-logloss:0.000871\ttest-logloss:0.003461\n",
            "[3300]\ttrain-logloss:0.000786\ttest-logloss:0.003437\n",
            "[3400]\ttrain-logloss:0.000712\ttest-logloss:0.003405\n",
            "[3500]\ttrain-logloss:0.000642\ttest-logloss:0.003378\n",
            "[3600]\ttrain-logloss:0.000577\ttest-logloss:0.003358\n",
            "[3700]\ttrain-logloss:0.000519\ttest-logloss:0.003343\n",
            "[3800]\ttrain-logloss:0.000464\ttest-logloss:0.003331\n",
            "[3900]\ttrain-logloss:0.000419\ttest-logloss:0.003323\n",
            "[4000]\ttrain-logloss:0.000379\ttest-logloss:0.00332\n",
            "[4100]\ttrain-logloss:0.000346\ttest-logloss:0.00332\n",
            "Stopping. Best iteration:\n",
            "[4055]\ttrain-logloss:0.000361\ttest-logloss:0.003316\n",
            "\n",
            "[0]\ttrain-logloss:0.684932\ttest-logloss:0.684941\n",
            "Multiple eval metrics have been passed: 'test-logloss' will be used for early stopping.\n",
            "\n",
            "Will train until test-logloss hasn't improved in 100 rounds.\n",
            "[100]\ttrain-logloss:0.266707\ttest-logloss:0.266657\n",
            "[200]\ttrain-logloss:0.140159\ttest-logloss:0.139935\n",
            "[300]\ttrain-logloss:0.091225\ttest-logloss:0.090872\n",
            "[400]\ttrain-logloss:0.066666\ttest-logloss:0.066405\n",
            "[500]\ttrain-logloss:0.051431\ttest-logloss:0.051297\n",
            "[600]\ttrain-logloss:0.040695\ttest-logloss:0.040634\n",
            "[700]\ttrain-logloss:0.032924\ttest-logloss:0.032873\n",
            "[800]\ttrain-logloss:0.027015\ttest-logloss:0.027021\n",
            "[900]\ttrain-logloss:0.022063\ttest-logloss:0.022132\n",
            "[1000]\ttrain-logloss:0.018353\ttest-logloss:0.018465\n",
            "[1100]\ttrain-logloss:0.015274\ttest-logloss:0.015448\n",
            "[1200]\ttrain-logloss:0.013109\ttest-logloss:0.013328\n",
            "[1300]\ttrain-logloss:0.011252\ttest-logloss:0.011526\n",
            "[1400]\ttrain-logloss:0.00965\ttest-logloss:0.009977\n",
            "[1500]\ttrain-logloss:0.008236\ttest-logloss:0.008603\n",
            "[1600]\ttrain-logloss:0.007125\ttest-logloss:0.007543\n",
            "[1700]\ttrain-logloss:0.006225\ttest-logloss:0.006691\n",
            "[1800]\ttrain-logloss:0.005371\ttest-logloss:0.005877\n",
            "[1900]\ttrain-logloss:0.004654\ttest-logloss:0.005212\n",
            "[2000]\ttrain-logloss:0.004029\ttest-logloss:0.004613\n",
            "[2100]\ttrain-logloss:0.003558\ttest-logloss:0.004163\n",
            "[2200]\ttrain-logloss:0.003126\ttest-logloss:0.003761\n",
            "[2300]\ttrain-logloss:0.002777\ttest-logloss:0.003425\n",
            "[2400]\ttrain-logloss:0.002468\ttest-logloss:0.003135\n",
            "[2500]\ttrain-logloss:0.002217\ttest-logloss:0.002907\n",
            "[2600]\ttrain-logloss:0.001978\ttest-logloss:0.00268\n",
            "[2700]\ttrain-logloss:0.001775\ttest-logloss:0.002497\n",
            "[2800]\ttrain-logloss:0.001589\ttest-logloss:0.002336\n",
            "[2900]\ttrain-logloss:0.001434\ttest-logloss:0.002195\n",
            "[3000]\ttrain-logloss:0.001305\ttest-logloss:0.002093\n",
            "[3100]\ttrain-logloss:0.001174\ttest-logloss:0.001988\n",
            "[3200]\ttrain-logloss:0.001062\ttest-logloss:0.0019\n",
            "[3300]\ttrain-logloss:0.000969\ttest-logloss:0.001836\n",
            "[3400]\ttrain-logloss:0.000883\ttest-logloss:0.001782\n",
            "[3500]\ttrain-logloss:0.000796\ttest-logloss:0.001724\n",
            "[3600]\ttrain-logloss:0.000718\ttest-logloss:0.001676\n",
            "[3700]\ttrain-logloss:0.000646\ttest-logloss:0.001639\n",
            "[3800]\ttrain-logloss:0.000581\ttest-logloss:0.001598\n",
            "[3900]\ttrain-logloss:0.000523\ttest-logloss:0.00157\n",
            "[4000]\ttrain-logloss:0.000473\ttest-logloss:0.001542\n",
            "[4100]\ttrain-logloss:0.00043\ttest-logloss:0.001525\n",
            "[4200]\ttrain-logloss:0.000392\ttest-logloss:0.001512\n",
            "[4300]\ttrain-logloss:0.000357\ttest-logloss:0.001496\n",
            "[4400]\ttrain-logloss:0.000326\ttest-logloss:0.001482\n",
            "[4500]\ttrain-logloss:0.000297\ttest-logloss:0.001465\n",
            "[4600]\ttrain-logloss:0.000274\ttest-logloss:0.001456\n",
            "[4700]\ttrain-logloss:0.000253\ttest-logloss:0.001447\n",
            "[4800]\ttrain-logloss:0.000235\ttest-logloss:0.001443\n",
            "[4900]\ttrain-logloss:0.000218\ttest-logloss:0.001434\n",
            "[4999]\ttrain-logloss:0.000203\ttest-logloss:0.001428\n",
            "[0]\ttrain-logloss:0.684926\ttest-logloss:0.68494\n",
            "Multiple eval metrics have been passed: 'test-logloss' will be used for early stopping.\n",
            "\n",
            "Will train until test-logloss hasn't improved in 100 rounds.\n",
            "[100]\ttrain-logloss:0.261628\ttest-logloss:0.262132\n",
            "[200]\ttrain-logloss:0.134164\ttest-logloss:0.134637\n",
            "[300]\ttrain-logloss:0.085364\ttest-logloss:0.085932\n",
            "[400]\ttrain-logloss:0.06074\ttest-logloss:0.061441\n",
            "[500]\ttrain-logloss:0.045735\ttest-logloss:0.04655\n",
            "[600]\ttrain-logloss:0.035399\ttest-logloss:0.036335\n",
            "[700]\ttrain-logloss:0.028124\ttest-logloss:0.029159\n",
            "[800]\ttrain-logloss:0.022807\ttest-logloss:0.023851\n",
            "[900]\ttrain-logloss:0.018385\ttest-logloss:0.019467\n",
            "[1000]\ttrain-logloss:0.015186\ttest-logloss:0.016315\n",
            "[1100]\ttrain-logloss:0.012422\ttest-logloss:0.013661\n",
            "[1200]\ttrain-logloss:0.01042\ttest-logloss:0.011749\n",
            "[1300]\ttrain-logloss:0.008948\ttest-logloss:0.010343\n",
            "[1400]\ttrain-logloss:0.007649\ttest-logloss:0.009123\n",
            "[1500]\ttrain-logloss:0.006604\ttest-logloss:0.008153\n",
            "[1600]\ttrain-logloss:0.005701\ttest-logloss:0.007331\n",
            "[1700]\ttrain-logloss:0.004895\ttest-logloss:0.006619\n",
            "[1800]\ttrain-logloss:0.00421\ttest-logloss:0.005996\n",
            "[1900]\ttrain-logloss:0.003667\ttest-logloss:0.005516\n",
            "[2000]\ttrain-logloss:0.003164\ttest-logloss:0.005066\n",
            "[2100]\ttrain-logloss:0.002781\ttest-logloss:0.004759\n",
            "[2200]\ttrain-logloss:0.002448\ttest-logloss:0.0045\n",
            "[2300]\ttrain-logloss:0.002157\ttest-logloss:0.004299\n",
            "[2400]\ttrain-logloss:0.001902\ttest-logloss:0.004152\n",
            "[2500]\ttrain-logloss:0.001688\ttest-logloss:0.004027\n",
            "[2600]\ttrain-logloss:0.001499\ttest-logloss:0.003944\n",
            "[2700]\ttrain-logloss:0.001344\ttest-logloss:0.003881\n",
            "[2800]\ttrain-logloss:0.001208\ttest-logloss:0.003836\n",
            "[2900]\ttrain-logloss:0.001085\ttest-logloss:0.003799\n",
            "[3000]\ttrain-logloss:0.00097\ttest-logloss:0.003772\n",
            "[3100]\ttrain-logloss:0.000875\ttest-logloss:0.003743\n",
            "[3200]\ttrain-logloss:0.000788\ttest-logloss:0.003728\n",
            "[3300]\ttrain-logloss:0.000707\ttest-logloss:0.003727\n",
            "Stopping. Best iteration:\n",
            "[3230]\ttrain-logloss:0.000762\ttest-logloss:0.003724\n",
            "\n",
            "[0]\ttrain-logloss:0.685039\ttest-logloss:0.685027\n",
            "Multiple eval metrics have been passed: 'test-logloss' will be used for early stopping.\n",
            "\n",
            "Will train until test-logloss hasn't improved in 100 rounds.\n",
            "[100]\ttrain-logloss:0.265307\ttest-logloss:0.2649\n",
            "[200]\ttrain-logloss:0.138793\ttest-logloss:0.138263\n",
            "[300]\ttrain-logloss:0.089596\ttest-logloss:0.089052\n",
            "[400]\ttrain-logloss:0.064536\ttest-logloss:0.06408\n",
            "[500]\ttrain-logloss:0.049056\ttest-logloss:0.048562\n",
            "[600]\ttrain-logloss:0.039182\ttest-logloss:0.038765\n",
            "[700]\ttrain-logloss:0.031287\ttest-logloss:0.030986\n",
            "[800]\ttrain-logloss:0.025123\ttest-logloss:0.024868\n",
            "[900]\ttrain-logloss:0.020603\ttest-logloss:0.02044\n",
            "[1000]\ttrain-logloss:0.016956\ttest-logloss:0.016841\n",
            "[1100]\ttrain-logloss:0.014264\ttest-logloss:0.014187\n",
            "[1200]\ttrain-logloss:0.011908\ttest-logloss:0.011887\n",
            "[1300]\ttrain-logloss:0.009967\ttest-logloss:0.00997\n",
            "[1400]\ttrain-logloss:0.008476\ttest-logloss:0.008575\n",
            "[1500]\ttrain-logloss:0.007239\ttest-logloss:0.007442\n",
            "[1600]\ttrain-logloss:0.006191\ttest-logloss:0.006573\n",
            "[1700]\ttrain-logloss:0.005295\ttest-logloss:0.005854\n",
            "[1800]\ttrain-logloss:0.004562\ttest-logloss:0.005302\n",
            "[1900]\ttrain-logloss:0.003904\ttest-logloss:0.00478\n",
            "[2000]\ttrain-logloss:0.003387\ttest-logloss:0.004379\n",
            "[2100]\ttrain-logloss:0.002982\ttest-logloss:0.004072\n",
            "[2200]\ttrain-logloss:0.002616\ttest-logloss:0.003807\n",
            "[2300]\ttrain-logloss:0.002333\ttest-logloss:0.003613\n",
            "[2400]\ttrain-logloss:0.002067\ttest-logloss:0.003435\n",
            "[2500]\ttrain-logloss:0.001844\ttest-logloss:0.003283\n",
            "[2600]\ttrain-logloss:0.001637\ttest-logloss:0.003162\n",
            "[2700]\ttrain-logloss:0.001479\ttest-logloss:0.003086\n",
            "[2800]\ttrain-logloss:0.001324\ttest-logloss:0.00301\n",
            "[2900]\ttrain-logloss:0.00119\ttest-logloss:0.002955\n",
            "[3000]\ttrain-logloss:0.001079\ttest-logloss:0.002923\n",
            "[3100]\ttrain-logloss:0.000971\ttest-logloss:0.00288\n",
            "[3200]\ttrain-logloss:0.000874\ttest-logloss:0.002858\n",
            "[3300]\ttrain-logloss:0.000786\ttest-logloss:0.002843\n",
            "Stopping. Best iteration:\n",
            "[3288]\ttrain-logloss:0.000794\ttest-logloss:0.002841\n",
            "\n",
            "[0]\ttrain-logloss:0.684981\ttest-logloss:0.684975\n",
            "Multiple eval metrics have been passed: 'test-logloss' will be used for early stopping.\n",
            "\n",
            "Will train until test-logloss hasn't improved in 100 rounds.\n",
            "[100]\ttrain-logloss:0.266871\ttest-logloss:0.266233\n",
            "[200]\ttrain-logloss:0.139356\ttest-logloss:0.138972\n",
            "[300]\ttrain-logloss:0.091487\ttest-logloss:0.091261\n",
            "[400]\ttrain-logloss:0.066517\ttest-logloss:0.066578\n",
            "[500]\ttrain-logloss:0.050574\ttest-logloss:0.050981\n",
            "[600]\ttrain-logloss:0.039865\ttest-logloss:0.040412\n",
            "[700]\ttrain-logloss:0.031866\ttest-logloss:0.032486\n",
            "[800]\ttrain-logloss:0.02626\ttest-logloss:0.026959\n",
            "[900]\ttrain-logloss:0.02168\ttest-logloss:0.02243\n",
            "[1000]\ttrain-logloss:0.017993\ttest-logloss:0.018769\n",
            "[1100]\ttrain-logloss:0.015148\ttest-logloss:0.016027\n",
            "[1200]\ttrain-logloss:0.012726\ttest-logloss:0.013668\n",
            "[1300]\ttrain-logloss:0.01084\ttest-logloss:0.011882\n",
            "[1400]\ttrain-logloss:0.009329\ttest-logloss:0.010452\n",
            "[1500]\ttrain-logloss:0.008022\ttest-logloss:0.009224\n",
            "[1600]\ttrain-logloss:0.006911\ttest-logloss:0.008189\n",
            "[1700]\ttrain-logloss:0.005987\ttest-logloss:0.007351\n",
            "[1800]\ttrain-logloss:0.005165\ttest-logloss:0.006636\n",
            "[1900]\ttrain-logloss:0.004441\ttest-logloss:0.005979\n",
            "[2000]\ttrain-logloss:0.003859\ttest-logloss:0.005454\n",
            "[2100]\ttrain-logloss:0.003338\ttest-logloss:0.005001\n",
            "[2200]\ttrain-logloss:0.002952\ttest-logloss:0.004688\n",
            "[2300]\ttrain-logloss:0.002623\ttest-logloss:0.004388\n",
            "[2400]\ttrain-logloss:0.002335\ttest-logloss:0.004163\n",
            "[2500]\ttrain-logloss:0.002078\ttest-logloss:0.003949\n",
            "[2600]\ttrain-logloss:0.00184\ttest-logloss:0.003744\n",
            "[2700]\ttrain-logloss:0.001659\ttest-logloss:0.003599\n",
            "[2800]\ttrain-logloss:0.001486\ttest-logloss:0.003452\n",
            "[2900]\ttrain-logloss:0.001331\ttest-logloss:0.003328\n",
            "[3000]\ttrain-logloss:0.001204\ttest-logloss:0.00322\n",
            "[3100]\ttrain-logloss:0.001094\ttest-logloss:0.003132\n",
            "[3200]\ttrain-logloss:0.000988\ttest-logloss:0.003047\n",
            "[3300]\ttrain-logloss:0.0009\ttest-logloss:0.002979\n",
            "[3400]\ttrain-logloss:0.000818\ttest-logloss:0.002925\n",
            "[3500]\ttrain-logloss:0.000734\ttest-logloss:0.002855\n",
            "[3600]\ttrain-logloss:0.000666\ttest-logloss:0.002808\n",
            "[3700]\ttrain-logloss:0.000603\ttest-logloss:0.002761\n",
            "[3800]\ttrain-logloss:0.000548\ttest-logloss:0.002721\n",
            "[3900]\ttrain-logloss:0.000495\ttest-logloss:0.002672\n",
            "[4000]\ttrain-logloss:0.000447\ttest-logloss:0.002629\n",
            "[4100]\ttrain-logloss:0.000407\ttest-logloss:0.002598\n",
            "[4200]\ttrain-logloss:0.000371\ttest-logloss:0.002567\n",
            "[4300]\ttrain-logloss:0.000341\ttest-logloss:0.002543\n",
            "[4400]\ttrain-logloss:0.000312\ttest-logloss:0.002521\n",
            "[4500]\ttrain-logloss:0.000287\ttest-logloss:0.002502\n",
            "[4600]\ttrain-logloss:0.000265\ttest-logloss:0.002483\n",
            "[4700]\ttrain-logloss:0.000244\ttest-logloss:0.00247\n",
            "[4800]\ttrain-logloss:0.000227\ttest-logloss:0.002459\n",
            "[4900]\ttrain-logloss:0.000211\ttest-logloss:0.002447\n",
            "[4999]\ttrain-logloss:0.000196\ttest-logloss:0.002441\n",
            "[0]\ttrain-logloss:0.684838\ttest-logloss:0.684858\n",
            "Multiple eval metrics have been passed: 'test-logloss' will be used for early stopping.\n",
            "\n",
            "Will train until test-logloss hasn't improved in 100 rounds.\n",
            "[100]\ttrain-logloss:0.258499\ttest-logloss:0.259313\n",
            "[200]\ttrain-logloss:0.131134\ttest-logloss:0.132054\n",
            "[300]\ttrain-logloss:0.082316\ttest-logloss:0.083361\n",
            "[400]\ttrain-logloss:0.057634\ttest-logloss:0.058724\n",
            "[500]\ttrain-logloss:0.043395\ttest-logloss:0.044496\n",
            "[600]\ttrain-logloss:0.034012\ttest-logloss:0.035168\n",
            "[700]\ttrain-logloss:0.027783\ttest-logloss:0.029006\n",
            "[800]\ttrain-logloss:0.022514\ttest-logloss:0.023781\n",
            "[900]\ttrain-logloss:0.018873\ttest-logloss:0.020182\n",
            "[1000]\ttrain-logloss:0.015769\ttest-logloss:0.017162\n",
            "[1100]\ttrain-logloss:0.013288\ttest-logloss:0.014784\n",
            "[1200]\ttrain-logloss:0.011231\ttest-logloss:0.012808\n",
            "[1300]\ttrain-logloss:0.009628\ttest-logloss:0.011253\n",
            "[1400]\ttrain-logloss:0.008213\ttest-logloss:0.009938\n",
            "[1500]\ttrain-logloss:0.00702\ttest-logloss:0.008816\n",
            "[1600]\ttrain-logloss:0.00601\ttest-logloss:0.007885\n",
            "[1700]\ttrain-logloss:0.005179\ttest-logloss:0.007127\n",
            "[1800]\ttrain-logloss:0.004485\ttest-logloss:0.006466\n",
            "[1900]\ttrain-logloss:0.003872\ttest-logloss:0.005867\n",
            "[2000]\ttrain-logloss:0.003351\ttest-logloss:0.005364\n",
            "[2100]\ttrain-logloss:0.002923\ttest-logloss:0.004979\n",
            "[2200]\ttrain-logloss:0.002576\ttest-logloss:0.004689\n",
            "[2300]\ttrain-logloss:0.002269\ttest-logloss:0.004428\n",
            "[2400]\ttrain-logloss:0.001997\ttest-logloss:0.004216\n",
            "[2500]\ttrain-logloss:0.001765\ttest-logloss:0.004056\n",
            "[2600]\ttrain-logloss:0.001582\ttest-logloss:0.003935\n",
            "[2700]\ttrain-logloss:0.001417\ttest-logloss:0.003835\n",
            "[2800]\ttrain-logloss:0.001277\ttest-logloss:0.003752\n",
            "[2900]\ttrain-logloss:0.001141\ttest-logloss:0.003677\n",
            "[3000]\ttrain-logloss:0.001031\ttest-logloss:0.003623\n",
            "[3100]\ttrain-logloss:0.000927\ttest-logloss:0.003583\n",
            "[3200]\ttrain-logloss:0.000834\ttest-logloss:0.003561\n",
            "[3300]\ttrain-logloss:0.000752\ttest-logloss:0.003541\n",
            "[3400]\ttrain-logloss:0.000676\ttest-logloss:0.003532\n",
            "[3500]\ttrain-logloss:0.000607\ttest-logloss:0.00353\n",
            "Stopping. Best iteration:\n",
            "[3449]\ttrain-logloss:0.000639\ttest-logloss:0.003528\n",
            "\n",
            "[0]\ttrain-logloss:0.685148\ttest-logloss:0.685123\n",
            "Multiple eval metrics have been passed: 'test-logloss' will be used for early stopping.\n",
            "\n",
            "Will train until test-logloss hasn't improved in 100 rounds.\n",
            "[100]\ttrain-logloss:0.268001\ttest-logloss:0.267567\n",
            "[200]\ttrain-logloss:0.141307\ttest-logloss:0.140892\n",
            "[300]\ttrain-logloss:0.093482\ttest-logloss:0.093137\n",
            "[400]\ttrain-logloss:0.068236\ttest-logloss:0.0681\n",
            "[500]\ttrain-logloss:0.052137\ttest-logloss:0.052165\n",
            "[600]\ttrain-logloss:0.041338\ttest-logloss:0.041549\n",
            "[700]\ttrain-logloss:0.03405\ttest-logloss:0.034364\n",
            "[800]\ttrain-logloss:0.027934\ttest-logloss:0.028376\n",
            "[900]\ttrain-logloss:0.023365\ttest-logloss:0.023966\n",
            "[1000]\ttrain-logloss:0.019422\ttest-logloss:0.0202\n",
            "[1100]\ttrain-logloss:0.016114\ttest-logloss:0.016983\n",
            "[1200]\ttrain-logloss:0.013597\ttest-logloss:0.014565\n",
            "[1300]\ttrain-logloss:0.011656\ttest-logloss:0.012718\n",
            "[1400]\ttrain-logloss:0.01021\ttest-logloss:0.011382\n",
            "[1500]\ttrain-logloss:0.00872\ttest-logloss:0.010029\n",
            "[1600]\ttrain-logloss:0.007598\ttest-logloss:0.008995\n",
            "[1700]\ttrain-logloss:0.006553\ttest-logloss:0.008099\n",
            "[1800]\ttrain-logloss:0.005647\ttest-logloss:0.007351\n",
            "[1900]\ttrain-logloss:0.00488\ttest-logloss:0.006746\n",
            "[2000]\ttrain-logloss:0.004242\ttest-logloss:0.006181\n",
            "[2100]\ttrain-logloss:0.00368\ttest-logloss:0.005694\n",
            "[2200]\ttrain-logloss:0.003195\ttest-logloss:0.005262\n",
            "[2300]\ttrain-logloss:0.002819\ttest-logloss:0.004922\n",
            "[2400]\ttrain-logloss:0.002491\ttest-logloss:0.004644\n",
            "[2500]\ttrain-logloss:0.002214\ttest-logloss:0.004404\n",
            "[2600]\ttrain-logloss:0.001971\ttest-logloss:0.004199\n",
            "[2700]\ttrain-logloss:0.001756\ttest-logloss:0.004016\n",
            "[2800]\ttrain-logloss:0.001568\ttest-logloss:0.00387\n",
            "[2900]\ttrain-logloss:0.001403\ttest-logloss:0.00374\n",
            "[3000]\ttrain-logloss:0.001268\ttest-logloss:0.003636\n",
            "[3100]\ttrain-logloss:0.00114\ttest-logloss:0.00353\n",
            "[3200]\ttrain-logloss:0.001025\ttest-logloss:0.003444\n",
            "[3300]\ttrain-logloss:0.000936\ttest-logloss:0.003384\n",
            "[3400]\ttrain-logloss:0.000848\ttest-logloss:0.003327\n",
            "[3500]\ttrain-logloss:0.000767\ttest-logloss:0.003269\n",
            "[3600]\ttrain-logloss:0.000693\ttest-logloss:0.003227\n",
            "[3700]\ttrain-logloss:0.000626\ttest-logloss:0.003173\n",
            "[3800]\ttrain-logloss:0.000568\ttest-logloss:0.003155\n",
            "[3900]\ttrain-logloss:0.000512\ttest-logloss:0.003124\n",
            "[4000]\ttrain-logloss:0.000467\ttest-logloss:0.003106\n",
            "[4100]\ttrain-logloss:0.000421\ttest-logloss:0.003092\n",
            "[4200]\ttrain-logloss:0.000384\ttest-logloss:0.00308\n",
            "[4300]\ttrain-logloss:0.000349\ttest-logloss:0.003072\n",
            "[4400]\ttrain-logloss:0.000318\ttest-logloss:0.00306\n",
            "[4500]\ttrain-logloss:0.00029\ttest-logloss:0.003039\n",
            "[4600]\ttrain-logloss:0.000265\ttest-logloss:0.00303\n",
            "[4700]\ttrain-logloss:0.000243\ttest-logloss:0.003025\n",
            "[4800]\ttrain-logloss:0.000224\ttest-logloss:0.00302\n",
            "[4900]\ttrain-logloss:0.000206\ttest-logloss:0.003014\n",
            "[4999]\ttrain-logloss:0.000191\ttest-logloss:0.003009\n",
            "[0]\ttrain-logloss:0.685106\ttest-logloss:0.685128\n",
            "Multiple eval metrics have been passed: 'test-logloss' will be used for early stopping.\n",
            "\n",
            "Will train until test-logloss hasn't improved in 100 rounds.\n",
            "[100]\ttrain-logloss:0.267586\ttest-logloss:0.268658\n",
            "[200]\ttrain-logloss:0.140406\ttest-logloss:0.14174\n",
            "[300]\ttrain-logloss:0.091288\ttest-logloss:0.092805\n",
            "[400]\ttrain-logloss:0.066164\ttest-logloss:0.06775\n",
            "[500]\ttrain-logloss:0.050664\ttest-logloss:0.052315\n",
            "[600]\ttrain-logloss:0.040556\ttest-logloss:0.042203\n",
            "[700]\ttrain-logloss:0.032578\ttest-logloss:0.034187\n",
            "[800]\ttrain-logloss:0.027148\ttest-logloss:0.028741\n",
            "[900]\ttrain-logloss:0.02216\ttest-logloss:0.0237\n",
            "[1000]\ttrain-logloss:0.018652\ttest-logloss:0.020167\n",
            "[1100]\ttrain-logloss:0.015806\ttest-logloss:0.017329\n",
            "[1200]\ttrain-logloss:0.013605\ttest-logloss:0.015099\n",
            "[1300]\ttrain-logloss:0.011578\ttest-logloss:0.013038\n",
            "[1400]\ttrain-logloss:0.009897\ttest-logloss:0.011325\n",
            "[1500]\ttrain-logloss:0.008392\ttest-logloss:0.009754\n",
            "[1600]\ttrain-logloss:0.007204\ttest-logloss:0.008502\n",
            "[1700]\ttrain-logloss:0.006245\ttest-logloss:0.007483\n",
            "[1800]\ttrain-logloss:0.005414\ttest-logloss:0.006592\n",
            "[1900]\ttrain-logloss:0.0047\ttest-logloss:0.005837\n",
            "[2000]\ttrain-logloss:0.004128\ttest-logloss:0.005219\n",
            "[2100]\ttrain-logloss:0.003625\ttest-logloss:0.004693\n",
            "[2200]\ttrain-logloss:0.003174\ttest-logloss:0.004235\n",
            "[2300]\ttrain-logloss:0.002815\ttest-logloss:0.003882\n",
            "[2400]\ttrain-logloss:0.002488\ttest-logloss:0.003567\n",
            "[2500]\ttrain-logloss:0.002198\ttest-logloss:0.003274\n",
            "[2600]\ttrain-logloss:0.001963\ttest-logloss:0.003055\n",
            "[2700]\ttrain-logloss:0.001763\ttest-logloss:0.002872\n",
            "[2800]\ttrain-logloss:0.001588\ttest-logloss:0.002708\n",
            "[2900]\ttrain-logloss:0.001424\ttest-logloss:0.002556\n",
            "[3000]\ttrain-logloss:0.001279\ttest-logloss:0.002428\n",
            "[3100]\ttrain-logloss:0.00117\ttest-logloss:0.002329\n",
            "[3200]\ttrain-logloss:0.00106\ttest-logloss:0.002232\n",
            "[3300]\ttrain-logloss:0.000962\ttest-logloss:0.002145\n",
            "[3400]\ttrain-logloss:0.000876\ttest-logloss:0.002076\n",
            "[3500]\ttrain-logloss:0.000794\ttest-logloss:0.00201\n",
            "[3600]\ttrain-logloss:0.00072\ttest-logloss:0.001945\n",
            "[3700]\ttrain-logloss:0.000658\ttest-logloss:0.001889\n",
            "[3800]\ttrain-logloss:0.000598\ttest-logloss:0.001832\n",
            "[3900]\ttrain-logloss:0.000543\ttest-logloss:0.00179\n",
            "[4000]\ttrain-logloss:0.000497\ttest-logloss:0.001747\n",
            "[4100]\ttrain-logloss:0.000455\ttest-logloss:0.001709\n",
            "[4200]\ttrain-logloss:0.000414\ttest-logloss:0.001673\n",
            "[4300]\ttrain-logloss:0.000377\ttest-logloss:0.001639\n",
            "[4400]\ttrain-logloss:0.000346\ttest-logloss:0.001607\n",
            "[4500]\ttrain-logloss:0.000317\ttest-logloss:0.001579\n",
            "[4600]\ttrain-logloss:0.00029\ttest-logloss:0.001553\n",
            "[4700]\ttrain-logloss:0.000267\ttest-logloss:0.001519\n",
            "[4800]\ttrain-logloss:0.000247\ttest-logloss:0.001488\n",
            "[4900]\ttrain-logloss:0.000228\ttest-logloss:0.001459\n",
            "[4999]\ttrain-logloss:0.000211\ttest-logloss:0.001431\n",
            "[0]\ttrain-logloss:0.684923\ttest-logloss:0.684888\n",
            "Multiple eval metrics have been passed: 'test-logloss' will be used for early stopping.\n",
            "\n",
            "Will train until test-logloss hasn't improved in 100 rounds.\n",
            "[100]\ttrain-logloss:0.264348\ttest-logloss:0.264229\n",
            "[200]\ttrain-logloss:0.136573\ttest-logloss:0.136681\n",
            "[300]\ttrain-logloss:0.088416\ttest-logloss:0.088742\n",
            "[400]\ttrain-logloss:0.065106\ttest-logloss:0.065752\n",
            "[500]\ttrain-logloss:0.049915\ttest-logloss:0.050844\n",
            "[600]\ttrain-logloss:0.039245\ttest-logloss:0.040514\n",
            "[700]\ttrain-logloss:0.031658\ttest-logloss:0.033307\n",
            "[800]\ttrain-logloss:0.025941\ttest-logloss:0.027871\n",
            "[900]\ttrain-logloss:0.021416\ttest-logloss:0.023501\n",
            "[1000]\ttrain-logloss:0.017496\ttest-logloss:0.01971\n",
            "[1100]\ttrain-logloss:0.01471\ttest-logloss:0.017042\n",
            "[1200]\ttrain-logloss:0.01244\ttest-logloss:0.014879\n",
            "[1300]\ttrain-logloss:0.010592\ttest-logloss:0.013087\n",
            "[1400]\ttrain-logloss:0.009015\ttest-logloss:0.01154\n",
            "[1500]\ttrain-logloss:0.007823\ttest-logloss:0.010413\n",
            "[1600]\ttrain-logloss:0.00678\ttest-logloss:0.009362\n",
            "[1700]\ttrain-logloss:0.005885\ttest-logloss:0.00846\n",
            "[1800]\ttrain-logloss:0.005085\ttest-logloss:0.007628\n",
            "[1900]\ttrain-logloss:0.004427\ttest-logloss:0.006939\n",
            "[2000]\ttrain-logloss:0.003906\ttest-logloss:0.006402\n",
            "[2100]\ttrain-logloss:0.003388\ttest-logloss:0.005849\n",
            "[2200]\ttrain-logloss:0.002942\ttest-logloss:0.00539\n",
            "[2300]\ttrain-logloss:0.00257\ttest-logloss:0.005026\n",
            "[2400]\ttrain-logloss:0.002254\ttest-logloss:0.004718\n",
            "[2500]\ttrain-logloss:0.001997\ttest-logloss:0.004487\n",
            "[2600]\ttrain-logloss:0.00178\ttest-logloss:0.004302\n",
            "[2700]\ttrain-logloss:0.001593\ttest-logloss:0.004141\n",
            "[2800]\ttrain-logloss:0.001432\ttest-logloss:0.003999\n",
            "[2900]\ttrain-logloss:0.001285\ttest-logloss:0.003873\n",
            "[3000]\ttrain-logloss:0.001154\ttest-logloss:0.00376\n",
            "[3100]\ttrain-logloss:0.001049\ttest-logloss:0.003672\n",
            "[3200]\ttrain-logloss:0.000948\ttest-logloss:0.003595\n",
            "[3300]\ttrain-logloss:0.000861\ttest-logloss:0.00353\n",
            "[3400]\ttrain-logloss:0.000781\ttest-logloss:0.00348\n",
            "[3500]\ttrain-logloss:0.000707\ttest-logloss:0.003426\n",
            "[3600]\ttrain-logloss:0.000642\ttest-logloss:0.00339\n",
            "[3700]\ttrain-logloss:0.000581\ttest-logloss:0.003353\n",
            "[3800]\ttrain-logloss:0.000526\ttest-logloss:0.003327\n",
            "[3900]\ttrain-logloss:0.000476\ttest-logloss:0.003303\n",
            "[4000]\ttrain-logloss:0.000431\ttest-logloss:0.003269\n",
            "[4100]\ttrain-logloss:0.000389\ttest-logloss:0.003244\n",
            "[4200]\ttrain-logloss:0.000354\ttest-logloss:0.003235\n",
            "[4300]\ttrain-logloss:0.000321\ttest-logloss:0.003226\n",
            "[4400]\ttrain-logloss:0.000294\ttest-logloss:0.003219\n",
            "Stopping. Best iteration:\n",
            "[4360]\ttrain-logloss:0.000304\ttest-logloss:0.003215\n",
            "\n",
            "[0]\ttrain-logloss:0.684899\ttest-logloss:0.684897\n",
            "Multiple eval metrics have been passed: 'test-logloss' will be used for early stopping.\n",
            "\n",
            "Will train until test-logloss hasn't improved in 100 rounds.\n",
            "[100]\ttrain-logloss:0.259323\ttest-logloss:0.260144\n",
            "[200]\ttrain-logloss:0.132138\ttest-logloss:0.133\n",
            "[300]\ttrain-logloss:0.083741\ttest-logloss:0.084522\n",
            "[400]\ttrain-logloss:0.059086\ttest-logloss:0.059799\n",
            "[500]\ttrain-logloss:0.045121\ttest-logloss:0.045807\n",
            "[600]\ttrain-logloss:0.034893\ttest-logloss:0.035543\n",
            "[700]\ttrain-logloss:0.027483\ttest-logloss:0.028145\n",
            "[800]\ttrain-logloss:0.022277\ttest-logloss:0.022989\n",
            "[900]\ttrain-logloss:0.018224\ttest-logloss:0.018984\n",
            "[1000]\ttrain-logloss:0.014971\ttest-logloss:0.015823\n",
            "[1100]\ttrain-logloss:0.012604\ttest-logloss:0.013575\n",
            "[1200]\ttrain-logloss:0.010435\ttest-logloss:0.011549\n",
            "[1300]\ttrain-logloss:0.008723\ttest-logloss:0.009975\n",
            "[1400]\ttrain-logloss:0.007599\ttest-logloss:0.009004\n",
            "[1500]\ttrain-logloss:0.006531\ttest-logloss:0.008089\n",
            "[1600]\ttrain-logloss:0.005489\ttest-logloss:0.007216\n",
            "[1700]\ttrain-logloss:0.004661\ttest-logloss:0.006554\n",
            "[1800]\ttrain-logloss:0.00399\ttest-logloss:0.006046\n",
            "[1900]\ttrain-logloss:0.003459\ttest-logloss:0.005651\n",
            "[2000]\ttrain-logloss:0.003022\ttest-logloss:0.005345\n",
            "[2100]\ttrain-logloss:0.002627\ttest-logloss:0.005068\n",
            "[2200]\ttrain-logloss:0.002333\ttest-logloss:0.004864\n",
            "[2300]\ttrain-logloss:0.002048\ttest-logloss:0.004689\n",
            "[2400]\ttrain-logloss:0.001818\ttest-logloss:0.004543\n",
            "[2500]\ttrain-logloss:0.001626\ttest-logloss:0.004442\n",
            "[2600]\ttrain-logloss:0.00146\ttest-logloss:0.004361\n",
            "[2700]\ttrain-logloss:0.001304\ttest-logloss:0.004289\n",
            "[2800]\ttrain-logloss:0.001174\ttest-logloss:0.00424\n",
            "[2900]\ttrain-logloss:0.001066\ttest-logloss:0.004201\n",
            "[3000]\ttrain-logloss:0.000964\ttest-logloss:0.00418\n",
            "[3100]\ttrain-logloss:0.000866\ttest-logloss:0.004167\n",
            "[3200]\ttrain-logloss:0.000773\ttest-logloss:0.00416\n",
            "[3300]\ttrain-logloss:0.000695\ttest-logloss:0.004163\n",
            "[3400]\ttrain-logloss:0.000621\ttest-logloss:0.004159\n",
            "Stopping. Best iteration:\n",
            "[3342]\ttrain-logloss:0.000665\ttest-logloss:0.004155\n",
            "\n"
          ]
        }
      ],
      "source": [
        "for fold_num in range(n_folds):\n",
        "        \n",
        "    trn_idx = folds[folds['fold'] != fold_num].index\n",
        "    val_idx = folds[folds['fold'] == fold_num].index    \n",
        "        \n",
        "    X_train = data.iloc[trn_idx].reset_index(drop=True).copy()\n",
        "    Y_train = train_target.iloc[trn_idx].reset_index(drop=True).copy() \n",
        "        \n",
        "    X_val   = data.iloc[val_idx].reset_index(drop=True).copy()\n",
        "    Y_val   = train_target.iloc[val_idx].reset_index(drop=True).copy() \n",
        "        \n",
        "    dtrain = xgboost.DMatrix(X_train,Y_train)\n",
        "    dtest  = xgboost.DMatrix(X_val,Y_val)\n",
        "        \n",
        "    model = xgboost.train(params=param,\n",
        "                          dtrain=dtrain,\n",
        "                          num_boost_round= 5000,\n",
        "                          early_stopping_rounds=100,\n",
        "                          evals=[(dtrain, 'train'), (dtest, 'test')],\n",
        "                          verbose_eval=100)\n",
        "    models.append(model)"
      ]
    },
    {
      "cell_type": "code",
      "execution_count": 19,
      "metadata": {
        "id": "3EslnUcbNKwr"
      },
      "outputs": [],
      "source": [
        "holdout.drop(['Class','Time'],axis=1,inplace=True)"
      ]
    },
    {
      "cell_type": "code",
      "execution_count": 20,
      "metadata": {
        "colab": {
          "base_uri": "https://localhost:8080/"
        },
        "id": "-gjYzc0oNKws",
        "outputId": "c0c4f679-4759-4ed6-d532-1226823f54e1"
      },
      "outputs": [
        {
          "output_type": "stream",
          "name": "stdout",
          "text": [
            "Generating predictions\n"
          ]
        }
      ],
      "source": [
        "predictions = 0\n",
        "print(\"Generating predictions\")\n",
        "for model in models:\n",
        "    predictions += model.predict(xgboost.DMatrix(holdout))\n",
        "\n",
        "predictions /= len(models)"
      ]
    },
    {
      "cell_type": "code",
      "execution_count": 21,
      "metadata": {
        "id": "fnibOhLONKws"
      },
      "outputs": [],
      "source": [
        "predictions = np.round(predictions,0)"
      ]
    },
    {
      "cell_type": "code",
      "execution_count": 22,
      "metadata": {
        "colab": {
          "base_uri": "https://localhost:8080/"
        },
        "id": "SXlYZTOKNKwt",
        "outputId": "9a6b916c-0b16-4385-fc60-5dcab189bc02"
      },
      "outputs": [
        {
          "output_type": "stream",
          "name": "stdout",
          "text": [
            "Accuracy: 99.97%\n"
          ]
        }
      ],
      "source": [
        "# make predictions for test data and evaluate\n",
        "accuracy = accuracy_score(class_holdout['class'], predictions)\n",
        "print(\"Accuracy: %.2f%%\" % (accuracy * 100.0))"
      ]
    },
    {
      "cell_type": "code",
      "execution_count": 23,
      "metadata": {
        "colab": {
          "base_uri": "https://localhost:8080/"
        },
        "id": "gbbjBDmhNKwt",
        "outputId": "e290ecf1-1c00-47ef-a686-88f49ee003f1"
      },
      "outputs": [
        {
          "output_type": "stream",
          "name": "stdout",
          "text": [
            "28428 6 2 45\n"
          ]
        }
      ],
      "source": [
        "# confusion m,atrix\n",
        "tn, fp, fn, tp = confusion_matrix(class_holdout['class'], predictions).ravel()\n",
        "print(tn, fp, fn, tp)"
      ]
    },
    {
      "cell_type": "code",
      "execution_count": 24,
      "metadata": {
        "colab": {
          "base_uri": "https://localhost:8080/"
        },
        "id": "O2a51vx-NKwt",
        "outputId": "36e35897-729a-498d-f75e-d82785ed8bcb"
      },
      "outputs": [
        {
          "output_type": "stream",
          "name": "stdout",
          "text": [
            "Sensitivity: 95.74%\n",
            "Specificity: 99.98%\n"
          ]
        }
      ],
      "source": [
        "sensitivity = tp/(tp+fn)\n",
        "print(\"Sensitivity: %.2f%%\" % (sensitivity * 100.0))\n",
        "specificity = tn/(tn+fp)\n",
        "print(\"Specificity: %.2f%%\" % (specificity * 100.0))"
      ]
    },
    {
      "cell_type": "code",
      "execution_count": 25,
      "metadata": {
        "colab": {
          "base_uri": "https://localhost:8080/"
        },
        "id": "KWtZKdYaNKwu",
        "outputId": "da7ccc43-dcda-42a7-c112-d5dbd463c0b3"
      },
      "outputs": [
        {
          "output_type": "execute_result",
          "data": {
            "text/plain": [
              "array([[28428,     6],\n",
              "       [    2,    45]])"
            ]
          },
          "metadata": {},
          "execution_count": 25
        }
      ],
      "source": [
        "confusion_matrix(class_holdout['class'], predictions)"
      ]
    },
    {
      "cell_type": "code",
      "execution_count": null,
      "metadata": {
        "id": "Fcajg61xNKwu"
      },
      "outputs": [],
      "source": [
        ""
      ]
    }
  ],
  "metadata": {
    "kernelspec": {
      "display_name": "Python 3 (ipykernel)",
      "language": "python",
      "name": "python3"
    },
    "language_info": {
      "codemirror_mode": {
        "name": "ipython",
        "version": 3
      },
      "file_extension": ".py",
      "mimetype": "text/x-python",
      "name": "python",
      "nbconvert_exporter": "python",
      "pygments_lexer": "ipython3",
      "version": "3.9.12"
    },
    "colab": {
      "name": "Xgboost Model CV.ipynb",
      "provenance": [],
      "include_colab_link": true
    },
    "accelerator": "GPU",
    "gpuClass": "standard"
  },
  "nbformat": 4,
  "nbformat_minor": 0
}